{
 "cells": [
  {
   "cell_type": "markdown",
   "metadata": {},
   "source": [
    "# LSOA Sketches\n",
    "\n",
    "Sketches around crime data at LSOA level.\n",
    "\n",
    "The notebook looks complicated but there are actually very few steps (it's just the output that is noisy: run `Cell->All Outpu->Clear` to see the raw steps), and these could be hidden behind more general functions to give simple one-liners that call multiple steps."
   ]
  },
  {
   "cell_type": "markdown",
   "metadata": {},
   "source": [
    "## Looking Up LSOAs\n",
    "\n",
    "If the data is keyed by LSOA code, we can search on that directly. But sometimes we may just have a postcode or latitude and longitude, in which case we need to lookup the LSOA from the postcode or latitude-longitude.\n",
    "\n",
    "First, let's focus on how to lookup a lat/lon within a set of LSOA boundaries in order to discover the LSOA code.\n",
    "\n",
    "Postcode lookups will be dealt with in a following section."
   ]
  },
  {
   "cell_type": "code",
   "execution_count": 12,
   "metadata": {},
   "outputs": [],
   "source": [
    "#Some set up stuff\n",
    "\n",
    "#Database filename\n",
    "db='adminboundaries.db'\n",
    "\n",
    "#Database table for LSOA shapefiles\n",
    "table='lsoa'\n",
    "#LSOA shapefile projection\n",
    "projection='27700'\n"
   ]
  },
  {
   "cell_type": "markdown",
   "metadata": {},
   "source": [
    "### Getting Boundary files\n",
    "\n",
    "Data from ONS: http://geoportal.statistics.gov.uk/datasets/lower-layer-super-output-areas-december-2011-full-clipped-boundaries-in-england-and-wales"
   ]
  },
  {
   "cell_type": "code",
   "execution_count": 2,
   "metadata": {},
   "outputs": [
    {
     "name": "stdout",
     "output_type": "stream",
     "text": [
      "--2019-03-07 09:34:34--  https://opendata.arcgis.com/datasets/da831f80764346889837c72508f046fa_0.zip?outSR=%7B%22wkid%22%3A27700%2C%22latestWkid%22%3A27700%7D\n",
      "Resolving opendata.arcgis.com (opendata.arcgis.com)... 52.7.213.26, 34.197.13.10\n",
      "Connecting to opendata.arcgis.com (opendata.arcgis.com)|52.7.213.26|:443... connected.\n",
      "HTTP request sent, awaiting response... 200 OK\n",
      "Length: unspecified [application/octet-stream]\n",
      "Saving to: ‘lsoa.zip’\n",
      "\n",
      "lsoa.zip                [         <=>        ] 223.31M  42.2MB/s    in 5.2s    \n",
      "\n",
      "2019-03-07 09:34:40 (43.3 MB/s) - ‘lsoa.zip’ saved [234156285]\n",
      "\n"
     ]
    }
   ],
   "source": [
    "#From download menu, copy link for shapefile\n",
    "#-O swithc outputs to named file: lsoa.zip\n",
    "!wget https://opendata.arcgis.com/datasets/da831f80764346889837c72508f046fa_0.zip?outSR=%7B%22wkid%22%3A27700%2C%22latestWkid%22%3A27700%7D -O lsoa.zip \n",
    "#Note that the projection at the end of the URL appears to be 27700"
   ]
  },
  {
   "cell_type": "code",
   "execution_count": 3,
   "metadata": {},
   "outputs": [
    {
     "name": "stdout",
     "output_type": "stream",
     "text": [
      "Archive:  lsoa.zip\n",
      " extracting: Lower_Layer_Super_Output_Areas_December_2011_Full_Clipped__Boundaries_in_England_and_Wales.cpg  \n",
      "  inflating: Lower_Layer_Super_Output_Areas_December_2011_Full_Clipped__Boundaries_in_England_and_Wales.shx  \n",
      "  inflating: Lower_Layer_Super_Output_Areas_December_2011_Full_Clipped__Boundaries_in_England_and_Wales.prj  \n",
      "  inflating: Lower_Layer_Super_Output_Areas_December_2011_Full_Clipped__Boundaries_in_England_and_Wales.xml  \n",
      "  inflating: Lower_Layer_Super_Output_Areas_December_2011_Full_Clipped__Boundaries_in_England_and_Wales.shp  \n",
      "  inflating: Lower_Layer_Super_Output_Areas_December_2011_Full_Clipped__Boundaries_in_England_and_Wales.dbf  \n"
     ]
    }
   ],
   "source": [
    "!unzip lsoa.zip"
   ]
  },
  {
   "cell_type": "code",
   "execution_count": 3,
   "metadata": {},
   "outputs": [],
   "source": [
    "path='./Lower_Layer_Super_Output_Areas_December_2011_Full_Clipped__Boundaries_in_England_and_Wales'"
   ]
  },
  {
   "cell_type": "code",
   "execution_count": 19,
   "metadata": {},
   "outputs": [
    {
     "name": "stdout",
     "output_type": "stream",
     "text": [
      "SpatiaLite version ..: 4.3.0a\tSupported Extensions:\n",
      "\t- 'VirtualShape'\t[direct Shapefile access]\n",
      "\t- 'VirtualDbf'\t\t[direct DBF access]\n",
      "\t- 'VirtualXL'\t\t[direct XLS access]\n",
      "\t- 'VirtualText'\t\t[direct CSV/TXT access]\n",
      "\t- 'VirtualNetwork'\t[Dijkstra shortest path]\n",
      "\t- 'RTree'\t\t[Spatial Index - R*Tree]\n",
      "\t- 'MbrCache'\t\t[Spatial Index - MBR cache]\n",
      "\t- 'VirtualSpatialIndex'\t[R*Tree metahandler]\n",
      "\t- 'VirtualElementary'\t[ElemGeoms metahandler]\n",
      "\t- 'VirtualXPath'\t[XML Path Language - XPath]\n",
      "\t- 'VirtualFDO'\t\t[FDO-OGR interoperability]\n",
      "\t- 'VirtualGPKG'\t[OGC GeoPackage interoperability]\n",
      "\t- 'VirtualBBox'\t\t[BoundingBox tables]\n",
      "\t- 'SpatiaLite'\t\t[Spatial SQL - OGC]\n",
      "PROJ.4 version ......: Rel. 4.9.3, 15 August 2016\n",
      "GEOS version ........: 3.6.2-CAPI-1.10.2 4d2925d6\n",
      "TARGET CPU ..........: x86_64-linux-gnu\n",
      "the SPATIAL_REF_SYS table already contains some row(s)\n",
      "========\n",
      "Loading shapefile at './Lower_Layer_Super_Output_Areas_December_2011_Full_Clipped__Boundaries_in_England_and_Wales' into SQLite table 'lsoa'\n",
      "\n",
      "BEGIN;\n",
      "CREATE TABLE \"lsoa\" (\n",
      "\"PK_UID\" INTEGER PRIMARY KEY AUTOINCREMENT,\n",
      "\"objectid\" INTEGER,\n",
      "\"lsoa11cd\" TEXT,\n",
      "\"lsoa11nm\" TEXT,\n",
      "\"lsoa11nmw\" TEXT,\n",
      "\"st_areasha\" DOUBLE,\n",
      "\"st_lengths\" DOUBLE);\n",
      "SELECT AddGeometryColumn('lsoa', 'Geometry', 27700, 'MULTIPOLYGON', 'XY');\n",
      "COMMIT;\n",
      "\n",
      "Inserted 34753 rows into 'lsoa' from SHAPEFILE\n",
      "========\n"
     ]
    }
   ],
   "source": [
    "! spatialite adminboundaries.db \".loadshp $path $table UTF-8 $projection\""
   ]
  },
  {
   "cell_type": "code",
   "execution_count": 24,
   "metadata": {},
   "outputs": [
    {
     "name": "stdout",
     "output_type": "stream",
     "text": [
      "SpatiaLite version ..: 4.3.0a\tSupported Extensions:\r\n",
      "\t- 'VirtualShape'\t[direct Shapefile access]\r\n",
      "\t- 'VirtualDbf'\t\t[direct DBF access]\r\n",
      "\t- 'VirtualXL'\t\t[direct XLS access]\r\n",
      "\t- 'VirtualText'\t\t[direct CSV/TXT access]\r\n",
      "\t- 'VirtualNetwork'\t[Dijkstra shortest path]\r\n",
      "\t- 'RTree'\t\t[Spatial Index - R*Tree]\r\n",
      "\t- 'MbrCache'\t\t[Spatial Index - MBR cache]\r\n",
      "\t- 'VirtualSpatialIndex'\t[R*Tree metahandler]\r\n",
      "\t- 'VirtualElementary'\t[ElemGeoms metahandler]\r\n",
      "\t- 'VirtualXPath'\t[XML Path Language - XPath]\r\n",
      "\t- 'VirtualFDO'\t\t[FDO-OGR interoperability]\r\n",
      "\t- 'VirtualGPKG'\t[OGC GeoPackage interoperability]\r\n",
      "\t- 'VirtualBBox'\t\t[BoundingBox tables]\r\n",
      "\t- 'SpatiaLite'\t\t[Spatial SQL - OGC]\r\n",
      "PROJ.4 version ......: Rel. 4.9.3, 15 August 2016\r\n",
      "GEOS version ........: 3.6.2-CAPI-1.10.2 4d2925d6\r\n",
      "TARGET CPU ..........: x86_64-linux-gnu\r\n",
      "Error: no such column: lsoa\r\n"
     ]
    }
   ],
   "source": [
    "#Create an index\n",
    "! spatialite adminboundaries.db '''SELECT CreateSpatialIndex('$table', 'Geometry');'''\n"
   ]
  },
  {
   "cell_type": "markdown",
   "metadata": {},
   "source": [
    "### SQlite lookups\n",
    "\n",
    "How to lookup data from the spatialite database."
   ]
  },
  {
   "cell_type": "code",
   "execution_count": 13,
   "metadata": {},
   "outputs": [
    {
     "data": {
      "text/plain": [
       "<sqlite3.Cursor at 0x7f77d09940a0>"
      ]
     },
     "execution_count": 13,
     "metadata": {},
     "output_type": "execute_result"
    }
   ],
   "source": [
    "#Set up the db connection and load in the spatialite extension\n",
    "import sqlite3\n",
    "import pandas as pd\n",
    "\n",
    "#!whereis mod_spatialite.so\n",
    "shared_lib = '/usr/lib/x86_64-linux-gnu/mod_spatialite.so'\n",
    "\n",
    "# Create connection and load spatialite extension\n",
    "conn = sqlite3.connect(db)\n",
    "\n",
    "# Enable SpatialLite extension\n",
    "conn.enable_load_extension(True)\n",
    "conn.load_extension(shared_lib)\n",
    "\n",
    "# Initialise spatial table support\n",
    "conn.execute('SELECT InitSpatialMetadata(1)')"
   ]
  },
  {
   "cell_type": "code",
   "execution_count": 27,
   "metadata": {},
   "outputs": [
    {
     "data": {
      "text/html": [
       "<div>\n",
       "<style scoped>\n",
       "    .dataframe tbody tr th:only-of-type {\n",
       "        vertical-align: middle;\n",
       "    }\n",
       "\n",
       "    .dataframe tbody tr th {\n",
       "        vertical-align: top;\n",
       "    }\n",
       "\n",
       "    .dataframe thead th {\n",
       "        text-align: right;\n",
       "    }\n",
       "</style>\n",
       "<table border=\"1\" class=\"dataframe\">\n",
       "  <thead>\n",
       "    <tr style=\"text-align: right;\">\n",
       "      <th></th>\n",
       "      <th>PK_UID</th>\n",
       "      <th>objectid</th>\n",
       "      <th>lsoa11cd</th>\n",
       "      <th>lsoa11nm</th>\n",
       "      <th>lsoa11nmw</th>\n",
       "      <th>st_areasha</th>\n",
       "      <th>st_lengths</th>\n",
       "      <th>Geometry</th>\n",
       "    </tr>\n",
       "  </thead>\n",
       "  <tbody>\n",
       "    <tr>\n",
       "      <th>0</th>\n",
       "      <td>1</td>\n",
       "      <td>1</td>\n",
       "      <td>E01000001</td>\n",
       "      <td>City of London 001A</td>\n",
       "      <td>City of London 001A</td>\n",
       "      <td>129865.337597</td>\n",
       "      <td>2635.781429</td>\n",
       "      <td>b'\\x00\\x014l\\x00\\x008\\x89A`\\xc1; A@\\x89A`t \\x0...</td>\n",
       "    </tr>\n",
       "    <tr>\n",
       "      <th>1</th>\n",
       "      <td>2</td>\n",
       "      <td>2</td>\n",
       "      <td>E01000002</td>\n",
       "      <td>City of London 001B</td>\n",
       "      <td>City of London 001B</td>\n",
       "      <td>228419.333117</td>\n",
       "      <td>2708.052040</td>\n",
       "      <td>b'\\x00\\x014l\\x00\\x00\\xa8\\x9b\\xc4 \\xea= A\\x00\\x...</td>\n",
       "    </tr>\n",
       "    <tr>\n",
       "      <th>2</th>\n",
       "      <td>3</td>\n",
       "      <td>3</td>\n",
       "      <td>E01000003</td>\n",
       "      <td>City of London 001C</td>\n",
       "      <td>City of London 001C</td>\n",
       "      <td>59054.013119</td>\n",
       "      <td>1224.770897</td>\n",
       "      <td>b'\\x00\\x014l\\x00\\x008\\x89A`\\xb1&lt; A\\x00\\x00\\x00...</td>\n",
       "    </tr>\n",
       "  </tbody>\n",
       "</table>\n",
       "</div>"
      ],
      "text/plain": [
       "   PK_UID  objectid   lsoa11cd             lsoa11nm            lsoa11nmw  \\\n",
       "0       1         1  E01000001  City of London 001A  City of London 001A   \n",
       "1       2         2  E01000002  City of London 001B  City of London 001B   \n",
       "2       3         3  E01000003  City of London 001C  City of London 001C   \n",
       "\n",
       "      st_areasha   st_lengths  \\\n",
       "0  129865.337597  2635.781429   \n",
       "1  228419.333117  2708.052040   \n",
       "2   59054.013119  1224.770897   \n",
       "\n",
       "                                            Geometry  \n",
       "0  b'\\x00\\x014l\\x00\\x008\\x89A`\\xc1; A@\\x89A`t \\x0...  \n",
       "1  b'\\x00\\x014l\\x00\\x00\\xa8\\x9b\\xc4 \\xea= A\\x00\\x...  \n",
       "2  b'\\x00\\x014l\\x00\\x008\\x89A`\\xb1< A\\x00\\x00\\x00...  "
      ]
     },
     "execution_count": 27,
     "metadata": {},
     "output_type": "execute_result"
    }
   ],
   "source": [
    "#We can make a simple pandas query\n",
    "pd.read_sql('SELECT * FROM lsoa LIMIT 3', conn)"
   ]
  },
  {
   "cell_type": "code",
   "execution_count": 8,
   "metadata": {},
   "outputs": [],
   "source": [
    "import geopandas as gpd\n",
    "%matplotlib inline\n",
    "\n",
    "def gpd_sql(q):\n",
    "    ''' Add \",{geo}\" in SELECT part of query and this will insert required element. \"'''\n",
    "    q = q.format(geo=\"Hex(ST_AsBinary(Geometry)) AS Geometry\")\n",
    "    return gpd.GeoDataFrame.from_postgis(q, conn, geom_col='Geometry')"
   ]
  },
  {
   "cell_type": "code",
   "execution_count": 9,
   "metadata": {},
   "outputs": [
    {
     "data": {
      "text/html": [
       "<div>\n",
       "<style scoped>\n",
       "    .dataframe tbody tr th:only-of-type {\n",
       "        vertical-align: middle;\n",
       "    }\n",
       "\n",
       "    .dataframe tbody tr th {\n",
       "        vertical-align: top;\n",
       "    }\n",
       "\n",
       "    .dataframe thead th {\n",
       "        text-align: right;\n",
       "    }\n",
       "</style>\n",
       "<table border=\"1\" class=\"dataframe\">\n",
       "  <thead>\n",
       "    <tr style=\"text-align: right;\">\n",
       "      <th></th>\n",
       "      <th>lsoa11cd</th>\n",
       "      <th>lsoa11nm</th>\n",
       "      <th>Geometry</th>\n",
       "    </tr>\n",
       "  </thead>\n",
       "  <tbody>\n",
       "    <tr>\n",
       "      <th>0</th>\n",
       "      <td>E01000001</td>\n",
       "      <td>City of London 001A</td>\n",
       "      <td>(POLYGON ((532095.5630000001 181577.3509999998...</td>\n",
       "    </tr>\n",
       "    <tr>\n",
       "      <th>1</th>\n",
       "      <td>E01000002</td>\n",
       "      <td>City of London 001B</td>\n",
       "      <td>(POLYGON ((532267.7280000001 181643.7809999995...</td>\n",
       "    </tr>\n",
       "  </tbody>\n",
       "</table>\n",
       "</div>"
      ],
      "text/plain": [
       "    lsoa11cd             lsoa11nm  \\\n",
       "0  E01000001  City of London 001A   \n",
       "1  E01000002  City of London 001B   \n",
       "\n",
       "                                            Geometry  \n",
       "0  (POLYGON ((532095.5630000001 181577.3509999998...  \n",
       "1  (POLYGON ((532267.7280000001 181643.7809999995...  "
      ]
     },
     "execution_count": 9,
     "metadata": {},
     "output_type": "execute_result"
    }
   ],
   "source": [
    "q = \"SELECT lsoa11cd, lsoa11nm, {geo} FROM lsoa LIMIT 2;\"\n",
    "gpd_sql(q).head()"
   ]
  },
  {
   "cell_type": "code",
   "execution_count": 11,
   "metadata": {},
   "outputs": [
    {
     "data": {
      "text/plain": [
       "<matplotlib.axes._subplots.AxesSubplot at 0x7fa9c762e5f8>"
      ]
     },
     "execution_count": 11,
     "metadata": {},
     "output_type": "execute_result"
    },
    {
     "data": {
      "image/png": "[encoded data removed]",
      "text/plain": [
       "<Figure size 432x288 with 1 Axes>"
      ]
     },
     "metadata": {
      "needs_background": "light"
     },
     "output_type": "display_data"
    }
   ],
   "source": [
    "gpd_sql(q).plot()"
   ]
  },
  {
   "cell_type": "markdown",
   "metadata": {},
   "source": [
    "### Lookup LSOA From Lat/Long\n",
    "\n",
    "Given a lat-long pair such as `52.0246, -0.7107`, how can we find it's LSOA from the shapefile data?\n",
    "\n",
    "The first thing we need to do is make the co-ordinates a shapey geometrical thing:"
   ]
  },
  {
   "cell_type": "markdown",
   "metadata": {},
   "source": [
    "### Utilities\n",
    "\n",
    "The shapefile we downloaded from the ONS uses the OSGB projection. To look up lat/long values we have to either project the shapefile onto the latlon projection, or the latlon into the OSGB projection. We can do this transformation ourselves:"
   ]
  },
  {
   "cell_type": "code",
   "execution_count": 41,
   "metadata": {},
   "outputs": [],
   "source": [
    "from pyproj import Proj, transform\n",
    "\n",
    "def latlongToOSGB(lat, lon):\n",
    "    ''' Simple function to transform from lat/long to OSGB. '''\n",
    "    \n",
    "    inProj = Proj(init='epsg:4326')\n",
    "    outProj = Proj(init='epsg:27700')\n",
    "    return transform(inProj,outProj, lon, lat)\n"
   ]
  },
  {
   "cell_type": "code",
   "execution_count": 64,
   "metadata": {},
   "outputs": [
    {
     "data": {
      "text/plain": [
       "(488560.26469329005, 237026.9629462888)"
      ]
     },
     "execution_count": 64,
     "metadata": {},
     "output_type": "execute_result"
    }
   ],
   "source": [
    "lat, lon = 52.0246, -0.7107\n",
    "\n",
    "easting, northing = latlongToOSGB(lat, lon)\n",
    "easting, northing"
   ]
  },
  {
   "cell_type": "code",
   "execution_count": 67,
   "metadata": {},
   "outputs": [
    {
     "data": {
      "text/html": [
       "<div>\n",
       "<style scoped>\n",
       "    .dataframe tbody tr th:only-of-type {\n",
       "        vertical-align: middle;\n",
       "    }\n",
       "\n",
       "    .dataframe tbody tr th {\n",
       "        vertical-align: top;\n",
       "    }\n",
       "\n",
       "    .dataframe thead th {\n",
       "        text-align: right;\n",
       "    }\n",
       "</style>\n",
       "<table border=\"1\" class=\"dataframe\">\n",
       "  <thead>\n",
       "    <tr style=\"text-align: right;\">\n",
       "      <th></th>\n",
       "      <th>lsoa11cd</th>\n",
       "      <th>lsoa11nm</th>\n",
       "    </tr>\n",
       "  </thead>\n",
       "  <tbody>\n",
       "    <tr>\n",
       "      <th>0</th>\n",
       "      <td>E01016820</td>\n",
       "      <td>Milton Keynes 017C</td>\n",
       "    </tr>\n",
       "  </tbody>\n",
       "</table>\n",
       "</div>"
      ],
      "text/plain": [
       "    lsoa11cd            lsoa11nm\n",
       "0  E01016820  Milton Keynes 017C"
      ]
     },
     "execution_count": 67,
     "metadata": {},
     "output_type": "execute_result"
    }
   ],
   "source": [
    "q=\"SELECT lsoa11cd, lsoa11nm FROM lsoa WHERE Within(ST_PointFromText('POINT({e} {n})'), Geometry)\".format(e=easting,n=northing)\n",
    "pd.read_sql(q, conn)"
   ]
  },
  {
   "cell_type": "markdown",
   "metadata": {},
   "source": [
    "Alternatively, we can do the translation within the spatialite query itself:"
   ]
  },
  {
   "cell_type": "code",
   "execution_count": 80,
   "metadata": {},
   "outputs": [
    {
     "data": {
      "text/html": [
       "<div>\n",
       "<style scoped>\n",
       "    .dataframe tbody tr th:only-of-type {\n",
       "        vertical-align: middle;\n",
       "    }\n",
       "\n",
       "    .dataframe tbody tr th {\n",
       "        vertical-align: top;\n",
       "    }\n",
       "\n",
       "    .dataframe thead th {\n",
       "        text-align: right;\n",
       "    }\n",
       "</style>\n",
       "<table border=\"1\" class=\"dataframe\">\n",
       "  <thead>\n",
       "    <tr style=\"text-align: right;\">\n",
       "      <th></th>\n",
       "      <th>lsoa11cd</th>\n",
       "      <th>lsoa11nm</th>\n",
       "    </tr>\n",
       "  </thead>\n",
       "  <tbody>\n",
       "    <tr>\n",
       "      <th>0</th>\n",
       "      <td>E01016820</td>\n",
       "      <td>Milton Keynes 017C</td>\n",
       "    </tr>\n",
       "  </tbody>\n",
       "</table>\n",
       "</div>"
      ],
      "text/plain": [
       "    lsoa11cd            lsoa11nm\n",
       "0  E01016820  Milton Keynes 017C"
      ]
     },
     "execution_count": 80,
     "metadata": {},
     "output_type": "execute_result"
    }
   ],
   "source": [
    "q=\"SELECT lsoa11cd, lsoa11nm FROM lsoa WHERE Within(ST_Transform(ST_GeomFromText('POINT({lon} {lat})',4326),27700), Geometry)\".format(lat=lat,lon=lon)\n",
    "pd.read_sql(q, conn)"
   ]
  },
  {
   "cell_type": "code",
   "execution_count": null,
   "metadata": {},
   "outputs": [],
   "source": []
  }
 ],
 "metadata": {
  "kernelspec": {
   "display_name": "Python 3",
   "language": "python",
   "name": "python3"
  },
  "language_info": {
   "codemirror_mode": {
    "name": "ipython",
    "version": 3
   },
   "file_extension": ".py",
   "mimetype": "text/x-python",
   "name": "python",
   "nbconvert_exporter": "python",
   "pygments_lexer": "ipython3",
   "version": "3.6.7"
  }
 },
 "nbformat": 4,
 "nbformat_minor": 2
}
