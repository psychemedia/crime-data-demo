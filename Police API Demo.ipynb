{
 "cells": [
  {
   "cell_type": "markdown",
   "metadata": {},
   "source": [
    "# Police API Demo\n",
    "\n",
    "The https://data.police.uk/docs/ website provides an API — an *application programming interface* — that allows us to write programmatic code that can be used to query and download data from the website directly (that is, at a \"machine to machine\" level).\n",
    "\n",
    "A Pyhton package exists that \"wraps\" this API and allows us to call it from Python code: https://github.com/rkhleics/police-api-client-python ([docs](https://police-api-client-python.readthedocs.io/en/latest/))."
   ]
  },
  {
   "cell_type": "markdown",
   "metadata": {},
   "source": [
    "## Using the API\n",
    "\n",
    "Let's see how to use the API to download all the data for a particular year in a particular policie neighbourhood area."
   ]
  },
  {
   "cell_type": "code",
   "execution_count": 1,
   "metadata": {},
   "outputs": [],
   "source": [
    "#Initialisation\n",
    "from police_api import PoliceAPI\n",
    "api = PoliceAPI()"
   ]
  },
  {
   "cell_type": "code",
   "execution_count": 2,
   "metadata": {},
   "outputs": [
    {
     "data": {
      "text/plain": [
       "[<Force> Avon and Somerset Constabulary,\n",
       " <Force> Bedfordshire Police,\n",
       " <Force> Cambridgeshire Constabulary,\n",
       " <Force> Cheshire Constabulary,\n",
       " <Force> City of London Police,\n",
       " <Force> Cleveland Police,\n",
       " <Force> Cumbria Constabulary,\n",
       " <Force> Derbyshire Constabulary,\n",
       " <Force> Devon & Cornwall Police,\n",
       " <Force> Dorset Police,\n",
       " <Force> Durham Constabulary,\n",
       " <Force> Dyfed-Powys Police,\n",
       " <Force> Essex Police,\n",
       " <Force> Gloucestershire Constabulary,\n",
       " <Force> Greater Manchester Police,\n",
       " <Force> Gwent Police,\n",
       " <Force> Hampshire Constabulary,\n",
       " <Force> Hertfordshire Constabulary,\n",
       " <Force> Humberside Police,\n",
       " <Force> Kent Police,\n",
       " <Force> Lancashire Constabulary,\n",
       " <Force> Leicestershire Police,\n",
       " <Force> Lincolnshire Police,\n",
       " <Force> Merseyside Police,\n",
       " <Force> Metropolitan Police Service,\n",
       " <Force> Norfolk Constabulary,\n",
       " <Force> North Wales Police,\n",
       " <Force> North Yorkshire Police,\n",
       " <Force> Northamptonshire Police,\n",
       " <Force> Northumbria Police,\n",
       " <Force> Nottinghamshire Police,\n",
       " <Force> Police Service of Northern Ireland,\n",
       " <Force> South Wales Police,\n",
       " <Force> South Yorkshire Police,\n",
       " <Force> Staffordshire Police,\n",
       " <Force> Suffolk Constabulary,\n",
       " <Force> Surrey Police,\n",
       " <Force> Sussex Police,\n",
       " <Force> Thames Valley Police,\n",
       " <Force> Warwickshire Police,\n",
       " <Force> West Mercia Police,\n",
       " <Force> West Midlands Police,\n",
       " <Force> West Yorkshire Police,\n",
       " <Force> Wiltshire Police]"
      ]
     },
     "execution_count": 2,
     "metadata": {},
     "output_type": "execute_result"
    }
   ],
   "source": [
    "#Get forces\n",
    "forces = api.get_forces()\n",
    "forces"
   ]
  },
  {
   "cell_type": "markdown",
   "metadata": {},
   "source": [
    "Each force has several atributes associated with it.\n",
    "\n",
    "The items that are returned are a little confusing to work with. Let's make them more directly useable:"
   ]
  },
  {
   "cell_type": "code",
   "execution_count": 3,
   "metadata": {},
   "outputs": [],
   "source": [
    "def getIdName(records, name=None):\n",
    "    ''' Get id force by name. If no name, return a dict of name:id mappings. '''\n",
    "    if name:\n",
    "        return {r.name:r.id for r in records if name.lower() in r.name.lower()}\n",
    "    return {r.name:r.id for r in records}"
   ]
  },
  {
   "cell_type": "code",
   "execution_count": 4,
   "metadata": {},
   "outputs": [
    {
     "data": {
      "text/plain": [
       "{'Avon and Somerset Constabulary': 'avon-and-somerset',\n",
       " 'Bedfordshire Police': 'bedfordshire',\n",
       " 'Cambridgeshire Constabulary': 'cambridgeshire',\n",
       " 'Cheshire Constabulary': 'cheshire',\n",
       " 'City of London Police': 'city-of-london',\n",
       " 'Cleveland Police': 'cleveland',\n",
       " 'Cumbria Constabulary': 'cumbria',\n",
       " 'Derbyshire Constabulary': 'derbyshire',\n",
       " 'Devon & Cornwall Police': 'devon-and-cornwall',\n",
       " 'Dorset Police': 'dorset',\n",
       " 'Durham Constabulary': 'durham',\n",
       " 'Dyfed-Powys Police': 'dyfed-powys',\n",
       " 'Essex Police': 'essex',\n",
       " 'Gloucestershire Constabulary': 'gloucestershire',\n",
       " 'Greater Manchester Police': 'greater-manchester',\n",
       " 'Gwent Police': 'gwent',\n",
       " 'Hampshire Constabulary': 'hampshire',\n",
       " 'Hertfordshire Constabulary': 'hertfordshire',\n",
       " 'Humberside Police': 'humberside',\n",
       " 'Kent Police': 'kent',\n",
       " 'Lancashire Constabulary': 'lancashire',\n",
       " 'Leicestershire Police': 'leicestershire',\n",
       " 'Lincolnshire Police': 'lincolnshire',\n",
       " 'Merseyside Police': 'merseyside',\n",
       " 'Metropolitan Police Service': 'metropolitan',\n",
       " 'Norfolk Constabulary': 'norfolk',\n",
       " 'North Wales Police': 'north-wales',\n",
       " 'North Yorkshire Police': 'north-yorkshire',\n",
       " 'Northamptonshire Police': 'northamptonshire',\n",
       " 'Northumbria Police': 'northumbria',\n",
       " 'Nottinghamshire Police': 'nottinghamshire',\n",
       " 'Police Service of Northern Ireland': 'northern-ireland',\n",
       " 'South Wales Police': 'south-wales',\n",
       " 'South Yorkshire Police': 'south-yorkshire',\n",
       " 'Staffordshire Police': 'staffordshire',\n",
       " 'Suffolk Constabulary': 'suffolk',\n",
       " 'Surrey Police': 'surrey',\n",
       " 'Sussex Police': 'sussex',\n",
       " 'Thames Valley Police': 'thames-valley',\n",
       " 'Warwickshire Police': 'warwickshire',\n",
       " 'West Mercia Police': 'west-mercia',\n",
       " 'West Midlands Police': 'west-midlands',\n",
       " 'West Yorkshire Police': 'west-yorkshire',\n",
       " 'Wiltshire Police': 'wiltshire'}"
      ]
     },
     "execution_count": 4,
     "metadata": {},
     "output_type": "execute_result"
    }
   ],
   "source": [
    "getIdName(forces)"
   ]
  },
  {
   "cell_type": "code",
   "execution_count": 5,
   "metadata": {},
   "outputs": [
    {
     "data": {
      "text/plain": [
       "{'Hampshire Constabulary': 'hampshire'}"
      ]
     },
     "execution_count": 5,
     "metadata": {},
     "output_type": "execute_result"
    }
   ],
   "source": [
    "getIdName(forces, 'Hampshire')"
   ]
  },
  {
   "cell_type": "code",
   "execution_count": 6,
   "metadata": {},
   "outputs": [],
   "source": [
    "#Get police authority\n",
    "force = api.get_force('hampshire')\n"
   ]
  },
  {
   "cell_type": "code",
   "execution_count": 7,
   "metadata": {},
   "outputs": [],
   "source": [
    "def getNameId(records, rid=None):\n",
    "    ''' Get record name by id. '''\n",
    "    if rid:\n",
    "        return {r.name:r.id for r in records if rid == r.id}\n",
    "    return {r.name:r.id for r in records}"
   ]
  },
  {
   "cell_type": "code",
   "execution_count": 8,
   "metadata": {
    "scrolled": false
   },
   "outputs": [
    {
     "data": {
      "text/plain": [
       "{'Aldershot North': '14RA01',\n",
       " 'Aldershot South': '14RA02',\n",
       " 'Alton': '8OL01',\n",
       " 'Alton Rural': '8OL02',\n",
       " 'Andover East': '11TA04',\n",
       " 'Andover North': '11TA02',\n",
       " 'Andover South': '11TA03',\n",
       " 'Andover Town': '11TA01',\n",
       " 'Bargate': '2SC02',\n",
       " 'Barncroft and Bedhampton': '7JH02',\n",
       " 'Basingstoke Centre': '12BB02',\n",
       " 'Basingstoke East': '12BB05',\n",
       " 'Basingstoke North': '12BB03',\n",
       " 'Basingstoke Rural East': '12BL02',\n",
       " 'Basingstoke Rural South': '12BL01',\n",
       " 'Basingstoke Rural West': '12BL03',\n",
       " 'Basingstoke South': '12BB01',\n",
       " 'Basingstoke West': '12BB04',\n",
       " 'Battins and West Leigh': '7JH03',\n",
       " 'Bevois': '2SC01',\n",
       " 'Bishops Waltham and Soberton': '9WG02',\n",
       " 'Bitterne North': '2SN02',\n",
       " 'Bordon': '8OW02',\n",
       " 'Butser Clanfield Rowlands Castle': '8OP02',\n",
       " 'Central Southsea and St Jude': '5PS02',\n",
       " 'Charles Dickens and Nelson': '5PC01',\n",
       " 'Cosham': '5PN01',\n",
       " 'Cowes': '6LW01',\n",
       " 'Coxford Redbridge Millbrook': '2SW02',\n",
       " 'Crofton and Titchfield': '3FP01',\n",
       " 'Denmead and Southwick': '9WG05',\n",
       " 'East Cowes and Wootton': '6LE01',\n",
       " 'Eastleigh Central': '10EE01',\n",
       " 'Eastleigh East': '10EE02',\n",
       " 'Eastleigh West': '10EE03',\n",
       " 'Eastney and Milton': '5PS03',\n",
       " 'Fareham': '3FF02',\n",
       " 'Farnborough Central': '14RF01',\n",
       " 'Farnborough North': '14RF02',\n",
       " 'Farnborough South': '14RF04',\n",
       " 'Farnborough West': '14RF03',\n",
       " 'Fleet': '13HS01',\n",
       " 'Four Marks and Ropley': '8OL03',\n",
       " 'Fratton and Baffins': '5PC02',\n",
       " 'Gosport Central': '4GG02',\n",
       " 'Gosport East': '4GG01',\n",
       " 'Gosport West': '4GG03',\n",
       " 'Hart Rural North': '13HN02',\n",
       " 'Hart Rural South': '13HS02',\n",
       " 'Havant and Emsworth': '7JH01',\n",
       " 'Hayling Island': '7JL01',\n",
       " 'Hedge End North': '10EH02',\n",
       " 'Hedge End South': '10EH01',\n",
       " 'Hilsea and Copnor': '5PN03',\n",
       " 'Horndean': '8OP01',\n",
       " 'Hythe': '1NE01',\n",
       " 'Lee': '4GG04',\n",
       " 'Liss': '8OW03',\n",
       " 'Longmoor Rural': '8OW01',\n",
       " 'Lymington': '1NW02',\n",
       " 'New Forest Heart': '1NE03',\n",
       " 'New Milton': '1NW03',\n",
       " 'Newport': '6LW02',\n",
       " 'Owslebury and Curdridge': '9WG01',\n",
       " 'Paulsgrove': '5PN02',\n",
       " 'Peartree and Woolston': '2SE02',\n",
       " 'Petersfield': '8OP03',\n",
       " 'Portchester': '3FF01',\n",
       " 'Portswood': '2SN01',\n",
       " 'Ringwood': '1NW01',\n",
       " 'Romsey East': '11TR03',\n",
       " 'Romsey North': '11TR02',\n",
       " 'Romsey Town': '11TR01',\n",
       " 'Ryde': '6LE02',\n",
       " 'Sandown and Lake': '6LS01',\n",
       " 'Shanklin and Ventnor': '6LS02',\n",
       " 'Shirley and Freemantle': '2SW01',\n",
       " 'Sholing and Bitterne': '2SE01',\n",
       " 'St Thomas': '5PS01',\n",
       " 'Totton': '1NE02',\n",
       " 'Waterlooville North': '7JW02',\n",
       " 'Waterlooville South': '7JW01',\n",
       " 'West Meon and Hambledon': '9WG04',\n",
       " 'Western Wards': '3FP02',\n",
       " 'Wickham and Whiteley': '9WG03',\n",
       " 'Wight Rural East': '6LE03',\n",
       " 'Wight Rural South': '6LS03',\n",
       " 'Wight Rural West': '6LW03',\n",
       " 'Winchester Central': '9WC02',\n",
       " 'Winchester North': '9WC01',\n",
       " 'Winchester Rural East': '9WR03',\n",
       " 'Winchester Rural North': '9WR02',\n",
       " 'Winchester Rural West': '9WR01',\n",
       " 'Winchester South': '9WC03',\n",
       " 'Yateley Blackwater and Hawley': '13HN01'}"
      ]
     },
     "execution_count": 8,
     "metadata": {},
     "output_type": "execute_result"
    }
   ],
   "source": [
    "areas = getNameId(force.neighbourhoods)\n",
    "areas"
   ]
  },
  {
   "cell_type": "code",
   "execution_count": 9,
   "metadata": {},
   "outputs": [
    {
     "name": "stdout",
     "output_type": "stream",
     "text": [
      "['2019-01', '2018-12', '2018-11', '2018-10', '2018-09', '2018-08', '2018-07', '2018-06', '2018-05', '2018-04', '2018-03', '2018-02', '2018-01', '2017-12', '2017-11', '2017-10', '2017-09', '2017-08', '2017-07', '2017-06', '2017-05', '2017-04', '2017-03', '2017-02', '2017-01', '2016-12', '2016-11', '2016-10', '2016-09', '2016-08', '2016-07', '2016-06', '2016-05', '2016-04', '2016-03', '2016-02']\n"
     ]
    }
   ],
   "source": [
    "#Show dates available\n",
    "print( api.get_dates() )"
   ]
  },
  {
   "cell_type": "markdown",
   "metadata": {},
   "source": [
    "Via the police API, we can get retrieve a range of information about each neighbourghood."
   ]
  },
  {
   "cell_type": "code",
   "execution_count": 64,
   "metadata": {},
   "outputs": [
    {
     "data": {
      "text/plain": [
       "[<Neighbourhood.Priority> <p>Violence<br />The North East Wight Team are focusing on reducing Violent Crime, part of this focus will be identifying and protecting persons suffering from domestic abuse.</p>\n",
       " \n",
       " <p>North East Wight<br />Station Street<br />Ryde<br />Isle of Wight<br />PO33 2QH</p>,\n",
       " <Neighbourhood.Priority> <p>ASB<br />The North East Wight team are focusing on tackling ASB Related issues, with a particular focus on any area's identified as being subject to drug related harm. </p>\n",
       " \n",
       " <p>Station Street<br />Ryde<br />Isle of Wight<br />PO33 2QH</p>,\n",
       " <Neighbourhood.Priority> <p>Burglary<br />The North East Wight Neighbourhood team are focusing on tackling Burglaries in the area. This forms part of an Island wide initiative to reduce Burglaries across the Island. </p>\n",
       " \n",
       " <p>North East Wight<br />Station Street<br />North East Wight<br />Ryde<br />Isle of Wight<br />PO33 2QH</p>,\n",
       " <Neighbourhood.Priority> <p>ASB<br />Reduce the speed and noise of vehicle enthusiasts along the Esplanade/Canoe Lake/North Walk.</p>\n",
       " \n",
       " <p>Esplanade<br />Ryde<br />Isle of Wight<br />PO33 2DY</p>]"
      ]
     },
     "execution_count": 64,
     "metadata": {},
     "output_type": "execute_result"
    }
   ],
   "source": [
    "neighbourhood = force.get_neighbourhood( areas['Ryde'] )\n",
    "neighbourhood.priorities"
   ]
  },
  {
   "cell_type": "markdown",
   "metadata": {},
   "source": [
    "*If we associate output areas with neighbourhoods, we could also use the OA Rural Urban Classification codes to characterise each police neighbourhood.*"
   ]
  },
  {
   "cell_type": "markdown",
   "metadata": {},
   "source": [
    "To look-up crimes within a particular neighbourhood, we can search within a particular area described by a simple boundary definition list (a closed list of points defining an area).\n",
    "\n",
    "The data returned by the `get_neighbourhood()` lookup includes a boundary file in the required format for the particular area:"
   ]
  },
  {
   "cell_type": "code",
   "execution_count": 10,
   "metadata": {},
   "outputs": [],
   "source": [
    "boundary = neighbourhood.boundary"
   ]
  },
  {
   "cell_type": "markdown",
   "metadata": {},
   "source": [
    "We can plot that boundary using folium if we cast it into the correct form.\n",
    "\n",
    "In particular, we need to convert the list of lat/lon co-ordinates to a set of lon/lat co-ordinates inside a geojson data structure that folium can work with.\n",
    "\n",
    "(Getting the correct order for co-ordinates can be a pain, with different packages and formats adopting different conventions. A handy summary can be found [here](https://macwright.org/lonlat/).)"
   ]
  },
  {
   "cell_type": "code",
   "execution_count": 11,
   "metadata": {},
   "outputs": [],
   "source": [
    "def geoJsonFromNeighbourhoodBoundary(boundary):\n",
    "    ''' Generate geojson polygon from police API boundary. '''\n",
    "    geojson = {\"type\": \"FeatureCollection\",\n",
    "               \"features\": [\n",
    "                   {\n",
    "                       \"type\": \"Feature\",\n",
    "                       \"properties\": {},\n",
    "                       \"geometry\": {\n",
    "                           \"type\": \"Polygon\",\n",
    "                           \"coordinates\":  [[[ll[1],ll[0]] for ll in boundary]]\n",
    "                       }\n",
    "                   }\n",
    "               ]\n",
    "              }\n",
    "    return geojson\n",
    "#geojson"
   ]
  },
  {
   "cell_type": "code",
   "execution_count": 12,
   "metadata": {
    "scrolled": false
   },
   "outputs": [
    {
     "data": {
      "text/html": [
       "<div style=\"width:100%;\"><div style=\"position:relative;width:100%;height:0;padding-bottom:60%;\"><iframe src=\"data:text/html;charset=utf-8;base64,PCFET0NUWVBFIGh0bWw+CjxoZWFkPiAgICAKICAgIDxtZXRhIGh0dHAtZXF1aXY9ImNvbnRlbnQtdHlwZSIgY29udGVudD0idGV4dC9odG1sOyBjaGFyc2V0PVVURi04IiAvPgogICAgPHNjcmlwdD5MX1BSRUZFUl9DQU5WQVM9ZmFsc2U7IExfTk9fVE9VQ0g9ZmFsc2U7IExfRElTQUJMRV8zRD1mYWxzZTs8L3NjcmlwdD4KICAgIDxzY3JpcHQgc3JjPSJodHRwczovL2Nkbi5qc2RlbGl2ci5uZXQvbnBtL2xlYWZsZXRAMS40LjAvZGlzdC9sZWFmbGV0LmpzIj48L3NjcmlwdD4KICAgIDxzY3JpcHQgc3JjPSJodHRwczovL2NvZGUuanF1ZXJ5LmNvbS9qcXVlcnktMS4xMi40Lm1pbi5qcyI+PC9zY3JpcHQ+CiAgICA8c2NyaXB0IHNyYz0iaHR0cHM6Ly9tYXhjZG4uYm9vdHN0cmFwY2RuLmNvbS9ib290c3RyYXAvMy4yLjAvanMvYm9vdHN0cmFwLm1pbi5qcyI+PC9zY3JpcHQ+CiAgICA8c2NyaXB0IHNyYz0iaHR0cHM6Ly9jZG5qcy5jbG91ZGZsYXJlLmNvbS9hamF4L2xpYnMvTGVhZmxldC5hd2Vzb21lLW1hcmtlcnMvMi4wLjIvbGVhZmxldC5hd2Vzb21lLW1hcmtlcnMuanMiPjwvc2NyaXB0PgogICAgPGxpbmsgcmVsPSJzdHlsZXNoZWV0IiBocmVmPSJodHRwczovL2Nkbi5qc2RlbGl2ci5uZXQvbnBtL2xlYWZsZXRAMS40LjAvZGlzdC9sZWFmbGV0LmNzcyIvPgogICAgPGxpbmsgcmVsPSJzdHlsZXNoZWV0IiBocmVmPSJodHRwczovL21heGNkbi5ib290c3RyYXBjZG4uY29tL2Jvb3RzdHJhcC8zLjIuMC9jc3MvYm9vdHN0cmFwLm1pbi5jc3MiLz4KICAgIDxsaW5rIHJlbD0ic3R5bGVzaGVldCIgaHJlZj0iaHR0cHM6Ly9tYXhjZG4uYm9vdHN0cmFwY2RuLmNvbS9ib290c3RyYXAvMy4yLjAvY3NzL2Jvb3RzdHJhcC10aGVtZS5taW4uY3NzIi8+CiAgICA8bGluayByZWw9InN0eWxlc2hlZXQiIGhyZWY9Imh0dHBzOi8vbWF4Y2RuLmJvb3RzdHJhcGNkbi5jb20vZm9udC1hd2Vzb21lLzQuNi4zL2Nzcy9mb250LWF3ZXNvbWUubWluLmNzcyIvPgogICAgPGxpbmsgcmVsPSJzdHlsZXNoZWV0IiBocmVmPSJodHRwczovL2NkbmpzLmNsb3VkZmxhcmUuY29tL2FqYXgvbGlicy9MZWFmbGV0LmF3ZXNvbWUtbWFya2Vycy8yLjAuMi9sZWFmbGV0LmF3ZXNvbWUtbWFya2Vycy5jc3MiLz4KICAgIDxsaW5rIHJlbD0ic3R5bGVzaGVldCIgaHJlZj0iaHR0cHM6Ly9yYXdjZG4uZ2l0aGFjay5jb20vcHl0aG9uLXZpc3VhbGl6YXRpb24vZm9saXVtL21hc3Rlci9mb2xpdW0vdGVtcGxhdGVzL2xlYWZsZXQuYXdlc29tZS5yb3RhdGUuY3NzIi8+CiAgICA8c3R5bGU+aHRtbCwgYm9keSB7d2lkdGg6IDEwMCU7aGVpZ2h0OiAxMDAlO21hcmdpbjogMDtwYWRkaW5nOiAwO308L3N0eWxlPgogICAgPHN0eWxlPiNtYXAge3Bvc2l0aW9uOmFic29sdXRlO3RvcDowO2JvdHRvbTowO3JpZ2h0OjA7bGVmdDowO308L3N0eWxlPgogICAgCiAgICA8bWV0YSBuYW1lPSJ2aWV3cG9ydCIgY29udGVudD0id2lkdGg9ZGV2aWNlLXdpZHRoLAogICAgICAgIGluaXRpYWwtc2NhbGU9MS4wLCBtYXhpbXVtLXNjYWxlPTEuMCwgdXNlci1zY2FsYWJsZT1ubyIgLz4KICAgIDxzdHlsZT4jbWFwXzFhYzA2MGQ3YTk4MzRjYzdhNzMyNjgyYmVkMGZlNDFhIHsKICAgICAgICBwb3NpdGlvbjogcmVsYXRpdmU7CiAgICAgICAgd2lkdGg6IDEwMC4wJTsKICAgICAgICBoZWlnaHQ6IDEwMC4wJTsKICAgICAgICBsZWZ0OiAwLjAlOwogICAgICAgIHRvcDogMC4wJTsKICAgICAgICB9CiAgICA8L3N0eWxlPgo8L2hlYWQ+Cjxib2R5PiAgICAKICAgIAogICAgPGRpdiBjbGFzcz0iZm9saXVtLW1hcCIgaWQ9Im1hcF8xYWMwNjBkN2E5ODM0Y2M3YTczMjY4MmJlZDBmZTQxYSIgPjwvZGl2Pgo8L2JvZHk+CjxzY3JpcHQ+ICAgIAogICAgCiAgICAKICAgICAgICB2YXIgYm91bmRzID0gbnVsbDsKICAgIAoKICAgIHZhciBtYXBfMWFjMDYwZDdhOTgzNGNjN2E3MzI2ODJiZWQwZmU0MWEgPSBMLm1hcCgKICAgICAgICAnbWFwXzFhYzA2MGQ3YTk4MzRjYzdhNzMyNjgyYmVkMGZlNDFhJywgewogICAgICAgIGNlbnRlcjogWzUwLjcyOTAyNTI1NzU0MywgLTEuMTQzNzc4MTQ5ODM0OF0sCiAgICAgICAgem9vbTogMTEsCiAgICAgICAgbWF4Qm91bmRzOiBib3VuZHMsCiAgICAgICAgbGF5ZXJzOiBbXSwKICAgICAgICB3b3JsZENvcHlKdW1wOiBmYWxzZSwKICAgICAgICBjcnM6IEwuQ1JTLkVQU0czODU3LAogICAgICAgIHpvb21Db250cm9sOiB0cnVlLAogICAgICAgIH0pOwoKCiAgICAKICAgIHZhciB0aWxlX2xheWVyXzE0Mzc4OWRjZDVkMzRiZTVhZTU4MWFkMDA4ZWRkMmNkID0gTC50aWxlTGF5ZXIoCiAgICAgICAgJ2h0dHBzOi8ve3N9LnRpbGVzLm1hcGJveC5jb20vdjMvbWFwYm94LndvcmxkLWJyaWdodC97en0ve3h9L3t5fS5wbmcnLAogICAgICAgIHsKICAgICAgICAiYXR0cmlidXRpb24iOiBudWxsLAogICAgICAgICJkZXRlY3RSZXRpbmEiOiBmYWxzZSwKICAgICAgICAibWF4TmF0aXZlWm9vbSI6IDE4LAogICAgICAgICJtYXhab29tIjogMTgsCiAgICAgICAgIm1pblpvb20iOiAwLAogICAgICAgICJub1dyYXAiOiBmYWxzZSwKICAgICAgICAib3BhY2l0eSI6IDEsCiAgICAgICAgInN1YmRvbWFpbnMiOiAiYWJjIiwKICAgICAgICAidG1zIjogZmFsc2UKfSkuYWRkVG8obWFwXzFhYzA2MGQ3YTk4MzRjYzdhNzMyNjgyYmVkMGZlNDFhKTsKICAgIAogICAgICAgIHZhciBnZW9fanNvbl8yNDhhNDg0Nzk3ZTg0MTMxODdhYjAyYmNmMzAxMWVkNiA9IEwuZ2VvSnNvbigKICAgICAgICAgICAgeyJmZWF0dXJlcyI6IFt7Imdlb21ldHJ5IjogeyJjb29yZGluYXRlcyI6IFtbWy0xLjE0Mzc3ODE0OTgzNDgsIDUwLjcyOTAyNTI1NzU0M10sIFstMS4xNDQzNTMzMDM2ODE3LCA1MC43MjkzMTg0MTgzODVdLCBbLTEuMTQ0OTExNzgyNDQ5NiwgNTAuNzI5NTg2MTg0MjAzXSwgWy0xLjE0NDgxODcxNjc1ODIsIDUwLjcyOTY5Mzg2NTgwN10sIFstMS4xNDQ4NDY2NjcxODQsIDUwLjcyOTcyMjkzNzc3OF0sIFstMS4xNDUwNjk5MTI4NDQxLCA1MC43Mjk2NTU5NTg3NjRdLCBbLTEuMTQ2MDQ2NDI1OTUwNSwgNTAuNzMwMDkyOTcwMTU4XSwgWy0xLjE0NjA5OTU2MTI0NTMsIDUwLjczMDI5NTYwODM2OV0sIFstMS4xNDY4MjM5NjQ0NzIsIDUwLjczMDUxNzU0Njg0NV0sIFstMS4xNDc4NzgyMDk2NTYyLCA1MC43MzA3NTY0NTkyM10sIFstMS4xNDgxMzk1NjI2NzQ5LCA1MC43MzA3ODM3MjhdLCBbLTEuMTQ4Mjg0MjYzOTM4MywgNTAuNzMwOTYxNjczOTk2XSwgWy0xLjE0ODQwNjg3MzcyNCwgNTAuNzMxMDk5ODg5OTkxXSwgWy0xLjE0ODYxNTcwMjg0NjMsIDUwLjczMTE5NTIwOTc5Nl0sIFstMS4xNDg3MDY3ODg0NjE0LCA1MC43MzExODg2ODAyOTldLCBbLTEuMTQ4NzcyODEwMDg1MSwgNTAuNzMxMDAxMzkxNDI5XSwgWy0xLjE0OTA2OTM1NzIzOTEsIDUwLjczMDk3MTAwMDk4N10sIFstMS4xNDk2ODI4Mjg3NTg1LCA1MC43MzEwMzY4OTU3NjVdLCBbLTEuMTQ5OTE1MzA1ODg2MiwgNTAuNzMxMDc4MzM4NjA0XSwgWy0xLjE0OTk3NDIwMjU3MzMsIDUwLjczMTI4NDYxNDA5OV0sIFstMS4xNTAxNDg0MzE2NjcyLCA1MC43MzE0MDUxMjg3NjRdLCBbLTEuMTUwMjExMjQ3NDI3MiwgNTAuNzMxMzk0Nzk0OTg0XSwgWy0xLjE1MDA4MjAzODkwMTUsIDUwLjczMTI5OTg3ODM1NV0sIFstMS4xNTAxMTIwMTg0NTI4LCA1MC43MzEyMTcwMDI4NzZdLCBbLTEuMTUwMjEwMDIzMzEyNSwgNTAuNzMxMTQ5MTAxNDY3XSwgWy0xLjE1MDMwNzYyNDQyMDcsIDUwLjczMTA5NTY3NTUyXSwgWy0xLjE1MTE1OTg0NTAxMDcsIDUwLjczMTE3NzY4OTk1XSwgWy0xLjE1MTU2MzIzOTEwMTQsIDUwLjczMTIwOTQ5MTc4OV0sIFstMS4xNTEyODAwNDM5NjIyLCA1MC43MzE3NjM2MzkxOTVdLCBbLTEuMTUxNDA1Mjg2MTc2NywgNTAuNzMxNzY0NTUwMzgzXSwgWy0xLjE1MTY5OTE2MTI0OTYsIDUwLjczMTI0NjYzMTU5XSwgWy0xLjE1MjAzMzE3MDcyODUsIDUwLjczMTM0NjYzMjUzOV0sIFstMS4xNTI5NTYwMjE5ODA1LCA1MC43MzE2MDYxMjY0NTZdLCBbLTEuMTUzMDIwNjE1NDE3NiwgNTAuNzMyMTMzODQ2MDJdLCBbLTEuMTUzMzk3NjA4NjI3NCwgNTAuNzMzMjMwMjkyNDUzXSwgWy0xLjE1NDgzNjg5NzQzNzcsIDUwLjczMzYyMTY2NjI4OV0sIFstMS4xNTUwMzM4MDI0OTY3LCA1MC43MzMyOTQwNDQ2NjldLCBbLTEuMTU1NTU3MTk0MjkyNywgNTAuNzMzMDIwNzY1MjkyXSwgWy0xLjE1NzQ5Njc4MTUzMDksIDUwLjczMzU0OTYzMDM0OV0sIFstMS4xNTc2MjE5NTE1MTM4LCA1MC43MzM1NDY5MzcxODhdLCBbLTEuMTU4MDkxNTI4ODM3NywgNTAuNzMzMDczNTI2ODRdLCBbLTEuMTU5MDc4MTY4ODgxMywgNTAuNzMzMjcyMTAxMjYzXSwgWy0xLjE1OTUyMDE3MDI1NzIsIDUwLjczMzM3Mjg1OTExN10sIFstMS4xNTk5MzM1NzgzOTc4LCA1MC43MzM4MTI3OTkxNDRdLCBbLTEuMTYwNzQ2ODgyNDAxNCwgNTAuNzM3NjYzNDUwNTQ5XSwgWy0xLjE2MDY3NTEyODAxNzQsIDUwLjczODAxNTA5MzYzM10sIFstMS4xNTk3MzQ3OTE2NDMxLCA1MC43Mzg4NzQyNDM5MzNdLCBbLTEuMTU5MTg5Nzk2NDkzNiwgNTAuNzM5NDMzNzE3OTM1XSwgWy0xLjE1OTk1OTg4NzM3ODUsIDUwLjczOTY1NTk5MzE5XSwgWy0xLjE2MTM3NzgxNjg3MzIsIDUwLjczOTMwNTA0MzEyOF0sIFstMS4xNjIwNDI2MjE5OTg3LCA1MC43MzkwNDI1NTM1NTVdLCBbLTEuMTYxNjE3ODkxODQ0LCA1MC43Mzg2MDYwNDczODZdLCBbLTEuMTYxMjk3MDMzNjMxOSwgNTAuNzM4MDkwODc5NzYyXSwgWy0xLjE2MTE5MjkwNjE3OTMsIDUwLjczNzg2NjgzOTA0MV0sIFstMS4xNjAzNzQyODg4MzI0LCA1MC43MzM5NTQ0NjE4NTVdLCBbLTEuMTYwMTk3NzU3MDAxNCwgNTAuNzMzMjA3Njg0NjcyXSwgWy0xLjE2MDM0MDIyOTgyNzcsIDUwLjczMzE4ODIwNjYyNF0sIFstMS4xNjA1NzQzNTQ5NDYzLCA1MC43MzMxNDY0NTYyMzldLCBbLTEuMTYwNzExOTY0MTI5MiwgNTAuNzMzMjE2NzgxMjA5XSwgWy0xLjE2MTAyNDY3NDY5NiwgNTAuNzMzNDI0MjQ3MzNdLCBbLTEuMTYxMTE3OTY2MTEzNCwgNTAuNzMzNDYwOTc5NTU2XSwgWy0xLjE2MTEzMzgzOTMzOTYsIDUwLjczMzUyNDMxMzM2N10sIFstMS4xNjE0MzgwMjQzMTAxLCA1MC43MzM1NDI3Nzc1MDJdLCBbLTEuMTYxNTM1MDUwMTczOSwgNTAuNzMzNTI5MDg2NDFdLCBbLTEuMTYxNTUyODI3MTEyNywgNTAuNzMzNDg1Nzc4Nzc0XSwgWy0xLjE2MTc2MTcyNTMwMzgsIDUwLjczMzQyMDQ2MzI5N10sIFstMS4xNjE4ODAzOTQ0NzI1LCA1MC43MzM0MzI2NDY5NjRdLCBbLTEuMTYyMjYzOTg3ODczNiwgNTAuNzMzNTAzNTY4MTQyXSwgWy0xLjE2MjczMjM4MzI3NjcsIDUwLjczMzU2Mjk1NjQyOF0sIFstMS4xNjI4NTc0ODg5NzU0LCA1MC43MzM1NjM4NTQzMjFdLCBbLTEuMTYyODE3MjUyOTkyMiwgNTAuNzMzMjY5MjI5OTQ4XSwgWy0xLjE2MzA5ODMwMjQ3MDQsIDUwLjczMzE0NjYwNTkyNl0sIFstMS4xNjMyNTI1MTAzMTU3LCA1MC43MzMxMjA1NTM4MTRdLCBbLTEuMTYzMzg4MTA3NTIwOCwgNTAuNzMzMDA5NjU1NDgxXSwgWy0xLjE2MzU4NTQwODg5NzMsIDUwLjczMjk1ODczMjAzOV0sIFstMS4xNjQyOTk2MDIwNTU2LCA1MC43MzI3OTc2NjMxODddLCBbLTEuMTY1NjE1MTUxMDExNSwgNTAuNzMyOTA4MTYwMTMzXSwgWy0xLjE2NjYzMjkyNDkxMywgNTAuNzMyOTU4NzgxMjIyXSwgWy0xLjE2ODUyOTk0MjExNDgsIDUwLjczMzAxNzQ2MjQ3M10sIFstMS4xNjkyNTY1OTk4MjcsIDUwLjczMzEyMDIxMjAzNF0sIFstMS4xNzAyODE5OTExMDYsIDUwLjczMzIyMTM5NTIzMl0sIFstMS4xNzA5OTc3MDUzMDg3LCA1MC43MzMzMDIyOTM0MjFdLCBbLTEuMTcxMDQxMjQzMjEyMywgNTAuNzMzMjUyMDYzMDkxXSwgWy0xLjE3MTY4NDI0MjM5NTksIDUwLjczMzI2MjAyNjQwMl0sIFstMS4xNzE3MzUzMDI5MzMxLCA1MC43MzMyMTEwMzk4NzZdLCBbLTEuMTcyMTE5NjE2MTk0OSwgNTAuNzMzMjU3OTIyODQzXSwgWy0xLjE3MjExNTEwODA2ODUsIDUwLjczMzMzNjg0NzkzN10sIFstMS4xNzIxNjY0MDI0NTg5LCA1MC43MzMzNDQ5NDU4MDddLCBbLTEuMTcyMTg5MTk4NTY3OSwgNTAuNzMzMjY1NTIwOTk1XSwgWy0xLjE3MjQwMDg2ODg4MDUsIDUwLjczMzI5MTMwMzU3OF0sIFstMS4xNzM0MzU4MDY5NjIzLCA1MC43MzM0OTQ3NzUyNjNdLCBbLTEuMTc1NDY5NjIzMjc5NSwgNTAuNzMzODY2NzIzNzhdLCBbLTEuMTc2NzQ0MTM0MjAwMywgNTAuNzM0MDQxOTEzMDI1XSwgWy0xLjE3NzQ0MTMxNjUwMjksIDUwLjczNDA0MTQzNTUzOV0sIFstMS4xNzc5MjQwMTczNDc2LCA1MC43MzQwOTQ0Nzg2OTVdLCBbLTEuMTc4OTEwNzcwNzkyNCwgNTAuNzM0MTM4NDc4OTFdLCBbLTEuMTc5MjUwMjE3NjE4MSwgNTAuNzM0MDkzOTI1MTQ1XSwgWy0xLjE3OTU4NDUxNzM1MSwgNTAuNzM0MDExMzg0NDUxXSwgWy0xLjE3OTkyOTE1NzU5NTgsIDUwLjczMzk5MzkzMzY1Nl0sIFstMS4xODAzMjIxNDQ0MDEyLCA1MC43MzM4MTI1MjI1NjVdLCBbLTEuMTgwOTgyNjkwNzI0LCA1MC43MzM2MjkzMDE5NTJdLCBbLTEuMTgxNDg0ODI5NDE3NSwgNTAuNzMzMzk2MjI1MDU5XSwgWy0xLjE4MTkzNjg3NDEyMDksIDUwLjczMzMxMzYwNDQ3OF0sIFstMS4xODIwOTE1Njk2MTQ1LCA1MC43MzM2ODIyMjYyXSwgWy0xLjE4MjEyNTcxNTM2MzksIDUwLjczMzY4MjQ2NTYxXSwgWy0xLjE4MjM3NjEyMjMwMiwgNTAuNzMzMzU1NTMzMDgxXSwgWy0xLjE4MjM2NzAyNjYxNTIsIDUwLjczMzI4Mzc5NjQ3Ml0sIFstMS4xODI2NDk5MjI2MTMxLCA1MC43MzMyODgyOTddLCBbLTEuMTgyODA5NjkxNjM1NCwgNTAuNzMzMjc1OTI3MTEzXSwgWy0xLjE4MzE5ODIzOTgyOTYsIDUwLjczMzEzNjkyMTQwOV0sIFstMS4xODMzOTMzNDAxMDUzLCA1MC43MzMxNDYyMDEwNDZdLCBbLTEuMTgzNzg2Mzk2NTI3OSwgNTAuNzMzMDI0ODUwODkxXSwgWy0xLjE4NTIyOTM3MTExODEsIDUwLjczMzE4NTExODc3N10sIFstMS4xODU2ODU0NzcxODAzLCA1MC43MzMyOTI4MDAzMDRdLCBbLTEuMTg1OTU1MzAyODgxNSwgNTAuNzMzNDU0NjY1OTk2XSwgWy0xLjE4NTkxMzc5Mzc0NTUsIDUwLjczMzUxMTM5MDg1MV0sIFstMS4xODYwMDU1NzMxNTk2LCA1MC43MzM1MzAxOTY4MzZdLCBbLTEuMTg2MDgzMzI4MDIzMSwgNTAuNzMzNDkxNTMwNjUzXSwgWy0xLjE4NjI5NDIzODIxMjMsIDUwLjczMzQ5NjIzOTQ2OV0sIFstMS4xODY2Mzg5MjUzOTYyLCA1MC43MzM0OTIwNzg1NjddLCBbLTEuMTg2NjUwMTcyNjU4MiwgNTAuNzMzNDM5OTA4NjU4XSwgWy0xLjE4NzMzNTc3MjMzNjcsIDUwLjczMzM2MzAzMjA4OF0sIFstMS4xODc3MjE0NjEyMjUyLCA1MC43MzMzNzIyODMxNTJdLCBbLTEuMTg4MjUzMzg1Njc3OSwgNTAuNzMzMjU4NDQ5NjI0XSwgWy0xLjE4OTQwNDY0NjIwNDUsIDUwLjczMzAzMTI5MjgxNF0sIFstMS4xODk5MzY0NDgwNzM0LCA1MC43MzI5MjQxMDU0NTldLCBbLTEuMTkyMTU2MzQ5NDMyNiwgNTAuNzMyNzg5MjI5ODcxXSwgWy0xLjE5MzU1MDAxNTMzODYsIDUwLjczMjgxODQ3NzQxOV0sIFstMS4xOTQyMzcyNTM1OTkzLCA1MC43MzI5NTA1NjQ5XSwgWy0xLjE5NDcwNTg3NDM1MDcsIDUwLjczMjkyNDM5NDM3OF0sIFstMS4xOTQ3MjIwODI5MTY3LCA1MC43MzMxODU3NDc4NF0sIFstMS4xOTQ4MTk4NDM4NzkyLCA1MC43MzMxODY0MjI2NjddLCBbLTEuMTk0OTA2MzI3NzkwNCwgNTAuNzMyOTM1NTgwMTk2XSwgWy0xLjE5NTM2Nzc3OTQzODUsIDUwLjczMzAzMDEzMTE3NF0sIFstMS4xOTU4MjI5MDExNzQ4LCA1MC43MzMxOTY1NzkyOF0sIFstMS4xOTYzNTQzMjA0NjQ3LCA1MC43MzM0MDkyMzQ3OTldLCBbLTEuMTk2OTk5Nzg2MDc1OCwgNTAuNzMzNTczNzUyMDM0XSwgWy0xLjE5NzUwMTQxODYzMTMsIDUwLjczMzczMDYyMTU5OF0sIFstMS4xOTgwMzQ5MTQ0NDMzLCA1MC43MzM4MjI0MjAxNTldLCBbLTEuMTk4NTIyNzIzMTQ3MiwgNTAuNzMzODg0NTg1Nzg0XSwgWy0xLjE5OTA0NzMyNjgwMDEsIDUwLjczMzg5MTQyNjM2OF0sIFstMS4xOTk0NzM4MzQwODE1LCA1MC43MzM5MTcxOTU4MDNdLCBbLTEuMTk5ODIyNzM5MTg5OSwgNTAuNzMzOTgxNjQwMDk0XSwgWy0xLjIwMDU4MTQwMTg1MjEsIDUwLjczNDE0MDM0OTA5NV0sIFstMS4yMDExNzgyMzgzODAyLCA1MC43MzQxNDExMTAzMTFdLCBbLTEuMjAyMTU1MTE3MTMxOCwgNTAuNzM0MTgzNzY2OTkzXSwgWy0xLjIwMzA3ODk2MTIzMzQsIDUwLjczNDMyMDY1NzY1M10sIFstMS4yMDQzMDUwMzA2MzY1LCA1MC43MzQ1MzQ3ODI4MV0sIFstMS4yMDUyNzU4NTA4NTgsIDUwLjczNDYyNjI5MjkyNF0sIFstMS4yMDY0NDM1NTkwMDA3LCA1MC43MzQ2NDcyODE4NTRdLCBbLTEuMjA3MTA4OTYyMTc5NCwgNTAuNzM0ODUwOTk3MzUyXSwgWy0xLjIwNzk1NzEzMDY3MTQsIDUwLjczNDkwNTc3MDA1Ml0sIFstMS4yMDkwMTcwMTMxMDE2LCA1MC43MzQ5MDk3MjQwNDVdLCBbLTEuMjA5NTY4NDg2NCwgNTAuNzM0OTg3OTIyNTQ5XSwgWy0xLjIxMDQ2NTUxMDk0NTgsIDUwLjczNTA1MzM0OTc1Nl0sIFstMS4yMTA4ODE3Nzk1NDExLCA1MC43MzUwODIyNDU1MzNdLCBbLTEuMjExMTY3MjU1NzkxMywgNTAuNzM1MjM3NjgzNjVdLCBbLTEuMjExMjI5NTI1OTg0MiwgNTAuNzM1MjA4Njk4MjA2XSwgWy0xLjIxMTQxMTM0MzEyMzcsIDUwLjczNDk0NjQzNzk1OV0sIFstMS4yMTE0NzA3MzQ5OTc1LCA1MC43MzQ3ODQ5Njg3NjJdLCBbLTEuMjExNTQ0Mjk1MjAzOCwgNTAuNzM0NjIzNTk1Mjk0XSwgWy0xLjIxMTcwMzE2ODgyOTksIDUwLjczNDQ0NDgxMjY4NV0sIFstMS4yMTE4NjE0Mzc4ODc3LCA1MC43MzQzMDE5OTcwMzZdLCBbLTEuMjEyMTgzMDA5NTI3OSwgNTAuNzM0NDkzNDY3OTU3XSwgWy0xLjIxMjI1MDIxMjk5OSwgNTAuNzM0NDc0NDA3MzgxXSwgWy0xLjIxMjAwNTA4NDk0MTUsIDUwLjczNDE4NjA2MDg0OF0sIFstMS4yMTIyMTk0MjM0MjY3LCA1MC43MzQwNzk1OTQ3MDhdLCBbLTEuMjEzMTY0NzU2ODQ5NywgNTAuNzMzOTQxODE5OTk2XSwgWy0xLjIxMzY0MjA4MDQzMjEsIDUwLjczNDAxMzY1Mzc2MV0sIFstMS4yMTI5NjA1MDM1MDc3LCA1MC43MzQ0NTMwMzI2MDZdLCBbLTEuMjEyNDk2MDkwMjg3NywgNTAuNzM0ODQ1MDQyNjkxXSwgWy0xLjIxMjYxMzM2MDA5ODYsIDUwLjczNDkwNzg4NDcwOF0sIFstMS4yMTQxMjg5MjA4Mzc2LCA1MC43MzQ3NDQ5OTI3NzldLCBbLTEuMjE0ODI5Njk0ODkxMywgNTAuNzM0Mzc3NDk5MDEyXSwgWy0xLjIxNTIyNDUzNjQ5ODIsIDUwLjczNDE0NDk5MzgxNl0sIFstMS4yMTUzNDkzMzkyMzk1LCA1MC43MzQwNzA4MzMyNjddLCBbLTEuMjE1MzQwNzQxMTUzNiwgNTAuNzMzOTY2Mjc4OTI2XSwgWy0xLjIxNTkzMjg1NzAxMjMsIDUwLjczMzk0NDA5MTExNl0sIFstMS4yMTYyOTA5MzE5NTg1LCA1MC43MzQzNzc2MTI3OThdLCBbLTEuMjE2NDgyMzQ0MzkwOCwgNTAuNzM0NjE3MjA4MTQ1XSwgWy0xLjIxNjg2NDY1NDg0NTcsIDUwLjczNDgzODU3MDQ2MV0sIFstMS4yMTcyNzQyNjkwOTgzLCA1MC43MzQ5NTIyOTA4OTFdLCBbLTEuMjE3MzkzMzE4NDQ5NCwgNTAuNzM0OTE3MjA4Mjk3XSwgWy0xLjIxNzE2NTEzOTYzNDcsIDUwLjczNDcwNjY4NDMyXSwgWy0xLjIxNzE1MzMxOTMyNTcsIDUwLjczNDQ5NzYxMjAyMV0sIFstMS4yMTc1NzE0MTA0NDM3LCA1MC43MzQzNDA0MzQ4NDVdLCBbLTEuMjE3ODE1MjcyMDE4NCwgNTAuNzM0MTYyMjEzOTU0XSwgWy0xLjIxNzkwNjEyMTMxNjEsIDUwLjczMzgxMjEwMzM0XSwgWy0xLjIxODEyMTM4ODYwMDksIDUwLjczMzUyMTE4OTk4NV0sIFstMS4yMTgxNTEwNjAyMzY3LCA1MC43MzI5NzI4MjcxNThdLCBbLTEuMjE4MDM4Njc2NzU5NywgNTAuNzMyNjE2MjI4MTY4XSwgWy0xLjIxODIwMjI2MzQ0MDIsIDUwLjczMTc1MjAzNTgzNF0sIFstMS4yMTg2Mjg1NDg3NTY4LCA1MC43MzE0ODM4NDg0ODFdLCBbLTEuMjE4NzM3NzM0Njc0MiwgNTAuNzMxNDE5MjkxOTM1XSwgWy0xLjIxODg2ODU3MDA3MDYsIDUwLjczMTI3OTc5MDIzM10sIFstMS4yMTg5MTA1MDM3NzI3LCA1MC43MzEyMzc2MjQ5MjVdLCBbLTEuMjE4NDExOTM3MTA4OSwgNTAuNzMxMDMwMDU4NjI3XSwgWy0xLjIxODcyMTc5MDIzNTgsIDUwLjczMDc4NDY1MTkyN10sIFstMS4yMTkwMzQ5OTE2NTQsIDUwLjczMDg2NjE1NTc2MV0sIFstMS4yMTkwODcwNzAyMzMzLCA1MC43MzA4MjczODU2NDhdLCBbLTEuMjE4ODU2NzU2NTc3NSwgNTAuNzMwNjc3ODIxODI1XSwgWy0xLjIxOTAyMzE2NDcwMiwgNTAuNzMwNTQ2MjAyMDM2XSwgWy0xLjIxOTY1NTc5NzU2MjIsIDUwLjczMDM1MTA2NDk3Nl0sIFstMS4yMTk3NDQ2MTg5MjQ4LCA1MC43MzAyNjY4NTY4MzZdLCBbLTEuMjE5NjY2OTc1Nzc2NiwgNTAuNzMwMTcyODEyMTU5XSwgWy0xLjIxOTg5NTc0OTQzMzksIDUwLjcyOTg0MzMxNjYzNl0sIFstMS4yMjAwMTUzNTI0MzY3LCA1MC43Mjk2NzE1NDQyMTddLCBbLTEuMjIwMzQ1NDA2NTcxLCA1MC43Mjk3MTkwNzQ0NTZdLCBbLTEuMjIwNjQwODQ2ODUwOSwgNTAuNzI5ODk3MzA3OTQ5XSwgWy0xLjIyMDg0NzQ1NzM3NDgsIDUwLjcyOTg1MjkxNDcwM10sIFstMS4yMjExMzM5NzE3Nzk5LCA1MC43Mjk3MTQ5ODk3NDNdLCBbLTEuMjIxNjg4MzY2MzQ0NCwgNTAuNzI5NzA4NDM4MjM1XSwgWy0xLjIyMjQ1OTY1ODg1NTQsIDUwLjcyOTExMjY4MTY5MV0sIFstMS4yMjI4Njg1Mzc0MTQxLCA1MC43Mjg2NTE4MjY1MjhdLCBbLTEuMjIyODUxOTM3NDM0NCwgNTAuNzI4NDEzMzE2MjhdLCBbLTEuMjIzMDQ0NjI4MjcxNSwgNTAuNzI4MjY3NjU3MTg1XSwgWy0xLjIyNDIyMTg4OTMyNzksIDUwLjcyODAwMTIxMTQ0NV0sIFstMS4yMjQyOTQ2NDU0MzI5LCA1MC43Mjc5NjI0ODY1ODldLCBbLTEuMjI0ODk1NjkzODAyLCA1MC43MjczODUyNzU5MzldLCBbLTEuMjI0OTgxNzY5ODQzMiwgNTAuNzI3MTU3MzQwMjc4XSwgWy0xLjIyNTMwNjgyMTM5MzQsIDUwLjcyNjE2Njc4MTg3MV0sIFstMS4yMjUyMTgyNjQwNTY5LCA1MC43MjU5MTgwODE3MjddLCBbLTEuMjI1MzE4NzU3MDg1NiwgNTAuNzI1NzUyMTEyMTVdLCBbLTEuMjI1MzQxNDUwMDAwOCwgNTAuNzI1NjIxNjg3MDYyXSwgWy0xLjIyNTQ2NzUzODgxNjgsIDUwLjcyNTE0OTA1MjE4M10sIFstMS4yMjU0NjQzNzMyMTgzLCA1MC43MjUwMDU4NjU0MDRdLCBbLTEuMjI1NDQwMDQ4MjIxMywgNTAuNzI0OTc3NDY2NDE2XSwgWy0xLjIyNTQyOTEwMDgxMjIsIDUwLjcyNDk1NDAxMjM4XSwgWy0xLjIyNTQyMTM1NzA3MDIsIDUwLjcyNDkwODA5NzU1NV0sIFstMS4yMjU0MzI2MDY4OSwgNTAuNzI0ODI3MjM2ODM3XSwgWy0xLjIyNTQ0ODE4MDUwNzQsIDUwLjcyNDc0MTkwODQxNV0sIFstMS4yMjU0ODA4MTIyODM5LCA1MC43MjQ2NTMwOTYxMjRdLCBbLTEuMjI1NDgyMjg4MTM0NSwgNTAuNzI0NjQ5NTA4Nzk0XSwgWy0xLjIyNTUzNTE4MTUzMzksIDUwLjcyNDUzNDc1MTgyN10sIFstMS4yMjU2OTA0ODgxODI2LCA1MC43MjQzMDkxNjM2NzJdLCBbLTEuMjI1ODg4ODM4MTQ1NSwgNTAuNzI0MDUwNTg3NTA5XSwgWy0xLjIyNjA2MDEwODUzNjUsIDUwLjcyMzgwMTcyMzQ0M10sIFstMS4yMjYwMzk0NDI2MTEyLCA1MC43MjM2ODAxODMxNzVdLCBbLTEuMjI2MDE2MDYyMTU1MiwgNTAuNzIzNTUxNDMwNjI4XSwgWy0xLjIyNTgzNjA0MzM4NzEsIDUwLjcyMzI5OTMzNjE1M10sIFstMS4yMjU2MDMyNTkzNjIsIDUwLjcyMzA2ODQ3Mzg4MV0sIFstMS4yMjUzNzQzODYzNDk5LCA1MC43MjI4NTgzMjA2MDZdLCBbLTEuMjI1MjE1ODM3MzM3NywgNTAuNzIyNjc5MjA5NjEyXSwgWy0xLjIyNTA0ODIyNTY2NjYsIDUwLjcyMjM2MjQ0NzkxM10sIFstMS4yMjQ5MzkzMDg1NzE0LCA1MC43MjIwOTQ2MzcyNDNdLCBbLTEuMjI0ODM0NTM4Mzc5NywgNTAuNzIxODMzMTQ4OTk2XSwgWy0xLjIyNDgwNzk0Mjk3MDcsIDUwLjcyMTU1NTk5MzEwM10sIFstMS4yMjQ3NzQzNjE2MzA5LCA1MC43MjExODcwNjM4OTNdLCBbLTEuMjI0NzIwNzc5OTAxOCwgNTAuNzIwOTE0MjI1MDA3XSwgWy0xLjIyNDY4NTE5MDEyMTYsIDUwLjcyMDc1MzAxNjc4XSwgWy0xLjIyNDU4NzQ0NzE4ODYsIDUwLjcyMDQ5NTE3MjA4M10sIFstMS4yMjQ0MTg2NDU2Nzc0LCA1MC43MjAyNTEyNDMzNjRdLCBbLTEuMjI0MjE3MzQyMDI3NywgNTAuNzIwMDAyNjAxODA2XSwgWy0xLjIyMzk4NDU4MjE0NiwgNTAuNzE5NzcxNzM2MjgxXSwgWy0xLjIyMzc3MDg2NzUzMzcsIDUwLjcxOTU4ODY1OTAzNV0sIFstMS4yMjM0NTg1MjUwODQ1LCA1MC43MTkzNzM0NDk5MDVdLCBbLTEuMjIzNDIwMDg4NjY1NiwgNTAuNzE5Mzg0ODg0Njk1XSwgWy0xLjIyMjI2MjI3Njk3ODEsIDUwLjcxOTc1NTc2ODgxOF0sIFstMS4yMjIyNjA4NjA1NDgxLCA1MC43MTk3NTU3NTkzNzRdLCBbLTEuMjIxNTcyNjg5NzE0MSwgNTAuNzE5OTk0ODc0NjI4XSwgWy0xLjIyMTQ2Mjg0OTY2NTMsIDUwLjcyMDA0MDkwNDI4NV0sIFstMS4yMjExOTU4OTAwNTc1LCA1MC43MjAxNjUwMjE4MjFdLCBbLTEuMjIwOTc1MDYwMDA1NywgNTAuNzIwMjQwODg1NTQxXSwgWy0xLjIyMDczMzE3NjMzNDMsIDUwLjcyMDMwNDkxNzUwN10sIFstMS4yMjAzNjA4ODkzMjc0LCA1MC43MjAzNzM0NzMxMzZdLCBbLTEuMjIwMTI3OTgwMjMwMiwgNTAuNzIwNDA4Nzg2NzY3XSwgWy0xLjIxOTk4NDI5MjIxMjcsIDUwLjcyMDQ0NTU5NTg4OF0sIFstMS4yMTk3NjE4MzM1MDA0LCA1MC43MjA1MzQwMzYzODldLCBbLTEuMjE5MzE4NTY4OTcxNSwgNTAuNzIwNjk2NTM4NjQ4XSwgWy0xLjIxOTEzNTk3NzgyODMsIDUwLjcyMDc3MjY1NDgxMl0sIFstMS4yMTg0NTA4NDA4MDA3LCA1MC43MjExNjgyNDcyNzFdLCBbLTEuMjE4MTA0MzQ1MzU1OCwgNTAuNzIxMzg4OTQ3MzkxXSwgWy0xLjIxNzkxODI3Mzc2ODcsIDUwLjcyMTc1OTEwMzk0M10sIFstMS4yMTc4MzkwMzUxOTc5LCA1MC43MjE4Mzg2MDg4NDJdLCBbLTEuMjE3ODI0Nzk1NDcwMiwgNTAuNzIxODQzMDA5NzcyXSwgWy0xLjIxNzY1NjY0Njc1MjcsIDUwLjcyMTkwMjEzNDA4M10sIFstMS4yMTcwNjY4NjM2OTAyLCA1MC43MjIwOTk2MTYzMTVdLCBbLTEuMjE2ODc1ODk5Mjg2MSwgNTAuNzIyMTY3NTc5MTg5XSwgWy0xLjIxNjY2MzcwMTc3NTEsIDUwLjcyMjIzNDQ5OTg3N10sIFstMS4yMTY2MjgxMDkzNzE3LCA1MC43MjIyNDUwNTIyNDddLCBbLTEuMjE2NDI0NDcwMTUyMywgNTAuNzIyMzA4NDMyODQzXSwgWy0xLjIxNjM5MzE0MjE0NjIsIDUwLjcyMjMxODExNDUwNV0sIFstMS4yMTYzMTMzODMwODA3LCA1MC43MjIzNDM2NTc4NzddLCBbLTEuMjE2MjEwODY5ODU2NCwgNTAuNzIyMzc0NDQ0MDAyXSwgWy0xLjIxNjIwMzc1NzMzMzQsIDUwLjcyMjM3NjE5NDc3Nl0sIFstMS4yMTYxNDgyODg2MzM0LCA1MC43MjIzODkzMTEyODhdLCBbLTEuMjE2MTM1NTEwMDc2NiwgNTAuNzIyMzkxMDIzOTgyXSwgWy0xLjIxNjEwODUzNjQ1MjcsIDUwLjcyMjM5NDQzOTg0Nl0sIFstMS4yMTYwNzg3NDQ4MDY3LCA1MC43MjIzOTY5Mzc0ODJdLCBbLTEuMjE2MDc1ODk2Nzk1LCA1MC43MjIzOTc4MTc2MjVdLCBbLTEuMjE2MDI0ODU3NTMxNSwgNTAuNzIyNDAwMTcyNDQ4XSwgWy0xLjIxNTk5MzY2NDM2ODQsIDUwLjcyMjQwMTc2MTM2XSwgWy0xLjIxNTkzNDExMTA1MTYsIDUwLjcyMjQwNDk1ODIwMV0sIFstMS4yMTU4NjYwNzM2ODEyLCA1MC43MjI0MDcxOTg2OTVdLCBbLTEuMjE1ODQ5MDc1NTg4NSwgNTAuNzIyNDA3MDg0NDI1XSwgWy0xLjIxNTc4NjcxOTI0NSwgNTAuNzIyNDA4NDYzNzgxXSwgWy0xLjIxNTc0NzA3MjAzMTgsIDUwLjcyMjQwNzI5NzkzOV0sIFstMS4yMTU3MDYwMjMzMTY4LCA1MC43MjI0MDUyMjMzNzddLCBbLTEuMjE1NjU3ODkyMDY4MSwgNTAuNzIyNDAzMTAxMTc3XSwgWy0xLjIxNTYwOTc5MDgzNTMsIDUwLjcyMjM5OTE4MDU5Ml0sIFstMS4yMTU1NzQ0MzgxNzYyLCA1MC43MjIzOTUzNDU3Ml0sIFstMS4yMTU0OTA5NTQyOTY2LCA1MC43MjIzODkzODg1NjldLCBbLTEuMjE1NDcxMTM4MjA2MiwgNTAuNzIyMzg4MzU2MDA5XSwgWy0xLjIxNTM0NjYwNTY3NywgNTAuNzIyMzgwMzI0MDk1XSwgWy0xLjIxNTIwNTA3NTExNDQsIDUwLjcyMjM3MjE3NzY4Nl0sIFstMS4yMTUxMDAzNTg3NDc3LCA1MC43MjIzNjUxNzgxMTVdLCBbLTEuMjE0OTc1ODI2MzQ3NywgNTAuNzIyMzU3MTQ1ODA2XSwgWy0xLjIxNDY1NzM4Mjk2NjcsIDUwLjcyMjMzODgxNTEzMl0sIFstMS4yMTQ1NDEzMzQ3MjE0LCA1MC43MjIzMzE3Mzg3NjRdLCBbLTEuMjE0NDE2Nzg3NDgzNywgNTAuNzIyMzI0NjA1MDRdLCBbLTEuMjE0MzAyMTU1ODE2OSwgNTAuNzIyMzE3NTM3OTc0XSwgWy0xLjIxNDE3MzM1OTE0MzMsIDUwLjcyMjMxMDM3NTM2N10sIFstMS4yMTQwNzg1NDM1NzEzLCA1MC43MjIzMDQzNDA4NjJdLCBbLTEuMjEzOTY5NTYyOTg2NCwgNTAuNzIyMjk4MjEwODI4XSwgWy0xLjIxMzgzMDg1MDg5NTksIDUwLjcyMjI5MDk4MTAyNV0sIFstMS4yMTM3MzMyMDI0MDM1LCA1MC43MjIyODQ5MjcxNDVdLCBbLTEuMjEzNjE4NTQwODU2MiwgNTAuNzIyMjc5NjU3NzcyXSwgWy0xLjIxMzQ3NzAxMDkxOTksIDUwLjcyMjI3MTUwOTI2N10sIFstMS4yMTMzNjY1OTg5NDQ4LCA1MC43MjIyNjYyNjgzXSwgWy0xLjIxMzI1MzQyOTI0NDMsIDUwLjcyMjI1NjUxMjIxMV0sIFstMS4yMTMyMTA5NzkzMzA0LCA1MC43MjIyNTM1MjgwMzZdLCBbLTEuMjEzMDgzNTk5NTE0MSwgNTAuNzIyMjQ2MzczNzgxXSwgWy0xLjIxMjk0MjExNDk0ODIsIDUwLjcyMjIzNTUyNzA4Ml0sIFstMS4yMTI4MjYwOTczNTMxLCA1MC43MjIyMjY2NTA2NDVdLCBbLTEuMjEyNjAyNTYxMzAyMiwgNTAuNzIyMjA4OTU0Nzk4XSwgWy0xLjIxMjU5ODMxMTgwMDIsIDUwLjcyMjIwODkyNjExMl0sIFstMS4yMTI1OTI2OTA5ODc4LCA1MC43MjIyMDYxOTAzMThdLCBbLTEuMjEyNTQ3Njk0MzgzMywgNTAuNzIyMTg2MTAyMzI1XSwgWy0xLjIxMjE5NzY2ODU0MjYsIDUwLjcyMjAyMzY2NjM2Nl0sIFstMS4yMTIxNjk1MzQ1NzIxLCA1MC43MjIwMTE3ODU2NjRdLCBbLTEuMjEyMTQyODQ3MjUzOCwgNTAuNzIxOTk4MTE2MTU5XSwgWy0xLjIxMjExNDc1ODUyOTcsIDUwLjcyMTk4MzUzNzg5OV0sIFstMS4yMTIwOTk0MDMxODk1LCA1MC43MjE5Njk5NDQ5MjddLCBbLTEuMjEyMDkxMDcwMDMxMiwgNTAuNzIxOTU5OTk2NTJdLCBbLTEuMjEyMDg5NjgzNjgzOSwgNTAuNzIxOTU4MTg4NTg5XSwgWy0xLjIxMjA4NDE2ODQ0MTksIDUwLjcyMTk0OTE1ODVdLCBbLTEuMjEyMDgyOTAyNjc5MSwgNTAuNzIxOTQwMTU3MTE1XSwgWy0xLjIxMjA4MzA2ODQ4MTgsIDUwLjcyMTkzMDI2NjExN10sIFstMS4yMTIwODE3NDI0Mjc3LCA1MC43MjE5MjQ4NjE0NTldLCBbLTEuMjEyMDgwNzAyNzYxLCA1MC43MjE5MDIzNzIzNV0sIFstMS4yMTIwODEwNzk1ODU4LCA1MC43MjE4Nzk4OTI4MDldLCBbLTEuMjEyMDgyODI3NjgxMSwgNTAuNzIxODYwMTIwMzgxXSwgWy0xLjIxMjA4NTU1NTUxMTMsIDUwLjcyMTc4MTkwMTE0NV0sIFstMS4yMTIwODk2ODQ3NDM0LCA1MC43MjE3MDQ1OTA2NThdLCBbLTEuMjEyMDk2NDgxMTI4MywgNTAuNzIxNjM3MTkwMzA0XSwgWy0xLjIxMjEwMjE0NzM4NzIsIDUwLjcyMTU1MjY5NTkyOV0sIFstMS4yMTIxMDcxNTA0NDQzLCA1MC43MjE1MDc3NjU1NDddLCBbLTEuMjEyMTAzMDk2OTQ3LCA1MC43MjE0OTYwNDc0ODFdLCBbLTEuMjEyMDk5MDEzMzA2OCwgNTAuNzIxNDg2MTI3Nzc4XSwgWy0xLjIxMjA5MjA4MTYzODksIDUwLjcyMTQ3NzA4ODEyMV0sIFstMS4yMTIwODM3MzM0OTU3LCA1MC43MjE0NjgwMzg4OTVdLCBbLTEuMjEyMDc5NTE0MjA2OCwgNTAuNzIxNDY2MjExODI3XSwgWy0xLjIxMjA3MTA5MDcwMzIsIDUwLjcyMTQ2MTY1ODUwOV0sIFstMS4yMTIwNjEyMzU2NTAyLCA1MC43MjE0NTc5OTQ4MDRdLCBbLTEuMjEyMDUyNzgyMDAzMiwgNTAuNzIxNDU1MjM5ODQ4XSwgWy0xLjIxMjAzMzAyNjY4MzMsIDUwLjcyMTQ1MDYwOTk3OF0sIFstMS4yMTIwMTE4Mzk4MTU5LCA1MC43MjE0NDY4Njk3MTddLCBbLTEuMjExOTkwNjM3ODc3NCwgNTAuNzIxNDQ0MDI4NjM1XSwgWy0xLjIxMTk4MDc1MjY4NTIsIDUwLjcyMTQ0MjE2MzI4Nl0sIFstMS4yMTE4MzEwMTMxODczLCA1MC43MjE0MTY4NzA5MjZdLCBbLTEuMjExNjY1NzgzMTA0MywgNTAuNzIxMzg2MDc3OThdLCBbLTEuMjExNTE0NjcyNzM0OSwgNTAuNzIxMzU4MDc4MDk3XSwgWy0xLjIxMTI5ODU1NTYzMzcsIDUwLjcyMTMyMDY0NTY0OF0sIFstMS4yMTEwOTM3NTU1NjcyLCA1MC43MjEyODQxODg2MjNdLCBbLTEuMjEwOTE3MTc5NTc5NywgNTAuNzIxMjU0MjE3MTU5XSwgWy0xLjIxMDcxODAxNTc4ODcsIDUwLjcyMTIxOTU5NjE2OF0sIFstMS4yMTA1MjE3MTU0Mzc5LCA1MC43MjExODMxOTU2NV0sIFstMS4yMTAzMzUzMTU1NjM1LCA1MC43MjExNDc3NjExMDldLCBbLTEuMjEwMTcwMDcyMzE5OCwgNTAuNzIxMTE3ODY1MjMzXSwgWy0xLjIwOTc4NDU3MTA4MzMsIDUwLjcyMTA0NDIxMDgyN10sIFstMS4yMDk2MjUwMjQ2NTU4LCA1MC43MjEwMTI1NTQyMDJdLCBbLTEuMjA5NTAzNjMyMjAzOCwgNTAuNzIwOTg2NTUxNjM4XSwgWy0xLjIwOTM5MDcwODQxMDksIDUwLjcyMDk2MjQwNDkxNV0sIFstMS4yMDkzNDQxMTY0MTUsIDUwLjcyMDk1MzA5NjI2N10sIFstMS4yMDkzMjcyMjQ3NTEzLCA1MC43MjA5NDY2ODY3ODFdLCBbLTEuMjA5MzA4OTE2NjMwOSwgNTAuNzIwOTQwMjY3NjkxXSwgWy0xLjIwOTI5OTA0Njc3OTEsIDUwLjcyMDkzNzUwMjkzNF0sIFstMS4yMDkyNDY5NDAyNDk5LCA1MC43MjA5MTkxNjQwMjddLCBbLTEuMjA5MjQyNzM2MjQ4NCwgNTAuNzIwOTE2NDM3Njc2XSwgWy0xLjIwOTE4OTE2NzkyMTMsIDUwLjcyMDkwMDc4NjY4NV0sIFstMS4yMDkxNjUyMDkxMjY3LCA1MC43MjA4OTM0Mjk5NzddLCBbLTEuMjA5MDc2NDU2MzE4MywgNTAuNzIwODY0MDUxMTIzXSwgWy0xLjIwOTAyNTY5MDc2MiwgNTAuNzIwODUwMjE3NjI4XSwgWy0xLjIwODk5MzI3ODY2NDMsIDUwLjcyMDg0MDEwNTcxMV0sIFstMS4yMDg5ODM0MDg4NTI0LCA1MC43MjA4MzczNDA5MjhdLCBbLTEuMjA4ODk0NjEwODY0NiwgNTAuNzIwODEwNjU5NDc5XSwgWy0xLjIwODc4NjEwMzY3MjQsIDUwLjcyMDc3NjY1MDAwMl0sIFstMS4yMDg3Mjk3NjMyOTM0LCA1MC43MjA3NTczODI4Nl0sIFstMS4yMDg2OTU5ODAyODAzLCA1MC43MjA3NDQ1NjM3MDhdLCBbLTEuMjA4Njg3NTg3NTEwNSwgNTAuNzIwNzM4MjExNzg1XSwgWy0xLjIwODY4MzQ1OTI0NDYsIDUwLjcyMDczMDk4OTUwOF0sIFstMS4yMDg2NzY0ODI5MzM1LCA1MC43MjA3MjQ2NDcxOTNdLCBbLTEuMjA4NjEzOTA4MTU5MiwgNTAuNzIwNjU0OTc3ODA3XSwgWy0xLjIwODQ3NTA4MDY4MjgsIDUwLjcyMDY1NDkzNTEwNF0sIFstMS4yMDgzMzcyNzY4OTY0LCA1MC43MjA4NDY0NDY2MzNdLCBbLTEuMjA4MjUwMjI5NTg5MywgNTAuNzIwOTY4MTU4Mzk4XSwgWy0xLjIwODE2ODgwMjI0NzYsIDUwLjcyMTA5MjYwNjA5OF0sIFstMS4yMDgxNDUzNTExMTA0LCA1MC43MjExMzkyMDk2NTNdLCBbLTEuMjA4MTIxNTM2MzY1LCA1MC43MjEyMDczOTM1NDNdLCBbLTEuMjA4MDg1Njc3NzczLCA1MC43MjEzMTc3NjE5OTZdLCBbLTEuMjA4MDY3MTY1MTU2MSwgNTAuNzIxNDA3NTY0NjhdLCBbLTEuMjA4MDUwMDY4OTQ0MSwgNTAuNzIxNDk3Mzc2OTc2XSwgWy0xLjIwODAzNzU4NTcxMDcsIDUwLjcyMTU2NTYzNzc4MV0sIFstMS4yMDc5ODM2OTg1NTUzLCA1MC43MjE3MzcwMzUwNzddLCBbLTEuMjA3OTI4ODQxMjQyMiwgNTAuNzIxOTY1OTc5OTA5XSwgWy0xLjIwNzkxNTI1MTU0NjgsIDUwLjcyMjA5OTg4MDg4Nl0sIFstMS4yMDc4ODgwMDQwNjYzLCA1MC43MjIyODc2NDYxMjddLCBbLTEuMjA3ODU2MDgyNTIyMSwgNTAuNzIyNTAwNTU5NTUzXSwgWy0xLjIwNzg0NTU2MDc5MjQsIDUwLjcyMjUzNjQ1OTQ0XSwgWy0xLjIwNzgxMzI5MTI4MSwgNTAuNzIyNjAxODg3OTg1XSwgWy0xLjIwNzc5NDMwMDczNDMsIDUwLjcyMjYzNTkzMTc4NF0sIFstMS4yMDc3NzM0Mzg5NzE3LCA1MC43MjI2OTY5NDEzNzZdLCBbLTEuMjA3NzU1NzU4Nzc4NCwgNTAuNzIyNzM3Mjg5MDUyXSwgWy0xLjIwNzc0Nzk2Mzg1NDQsIDUwLjcyMjc3OTUwMjQzNF0sIFstMS4yMDc3MzQyNDUxODI3LCA1MC43MjI4MzY5NjM0XSwgWy0xLjIwNzczMzU3ODI4NzksIDUwLjcyMjg3NjUyNzM0NV0sIFstMS4yMDc3MjA5ODgxMDcsIDUwLjcyMjk1MTA4MjM1OV0sIFstMS4yMDc3MDA2MzMxODI0LCA1MC43MjMwNjYwNTIzODddLCBbLTEuMjA3NjgyNjA0MTU0NCwgNTAuNzIzMTI3MDgxMl0sIFstMS4yMDc2NjYzODU3MTk0LCA1MC43MjMxNjQ3NDA5NF0sIFstMS4yMDc2MDcwMDQzODE0LCA1MC43MjMyNDE2NzU5NDFdLCBbLTEuMjA3NTUyMjUxNDU1NCwgNTAuNzIzMjk2MTYwMjddLCBbLTEuMjA3NTMxOTk1NTA5MywgNTAuNzIzMzIxMjAyNTkyXSwgWy0xLjIwNzQ5ODcxNzgzNjMsIDUwLjcyMzM2MjM0MzU0Ml0sIFstMS4yMDc0NjU1MTU5MTU1LCA1MC43MjMzOTg5ODg1NzldLCBbLTEuMjA3NDIzMzU5ODM4NywgNTAuNzIzNDYyNTUxMjY4XSwgWy0xLjIwNzI0NDM4Nzg1MjgsIDUwLjcyMzY1ODI3ODEyM10sIFstMS4yMDcxNjkxNTAxNzY3LCA1MC43MjM3NTEyOTIyMzRdLCBbLTEuMjA3MTQ5NDg1Mzk0NywgNTAuNzIzNzQxMjY2NDU0XSwgWy0xLjIwNzAxNTEwNjk3LCA1MC43MjM4OTY4MjgzXSwgWy0xLjIwNjkyMDA3Njc2NDMsIDUwLjcyMzkwMzM3NjQ4OF0sIFstMS4yMDY4NjkwNTA2MjQ4LCA1MC43MjM5MDQ4MjgxMTNdLCBbLTEuMjA2ODEyNDE4OTgyNywgNTAuNzIzOTAyNjQ0NDY1XSwgWy0xLjIwNjI5Mzk5MjIwMzUsIDUwLjcyMzg5NzMxOTQ0M10sIFstMS4yMDYwNTYwNDIyOTU2LCA1MC43MjM4OTM5MDE1MTZdLCBbLTEuMjA1NjM1MTkwNDM4OSwgNTAuNzIzODk5MTI5Nzg0XSwgWy0xLjIwNTM4NTc0MDk2ODUsIDUwLjcyMzkwNTUyNDI5M10sIFstMS4yMDUzNDAzOTYxODc0LCA1MC43MjM5MDYxMTQ2NjldLCBbLTEuMjA1MzA0OTUyMDQ2OSwgNTAuNzIzOTA3NjcxNzYyXSwgWy0xLjIwNDk4MzE2NzIxMjgsIDUwLjcyMzkxODk2ODI3M10sIFstMS4yMDUwMTE5MDg4NTc3LCA1MC43MjM4OTQ4ODM1MV0sIFstMS4yMDUwMzM0NzY0Nzg2LCA1MC43MjM4NzYxNDU1NDhdLCBbLTEuMjA1MDUyMjI2MTk1NCwgNTAuNzIzODU2NDg5MDk1XSwgWy0xLjIwNTA1OTQ0NTgwOTgsIDUwLjcyMzg0ODQ0NDc0Nl0sIFstMS4yMDUwNzgxOTU1MDQ2LCA1MC43MjM4Mjg3ODgyODhdLCBbLTEuMjA1MDg5ODYyNDUyLCA1MC43MjM4MDkwODM1Nl0sIFstMS4yMDUwOTI4OTMyNDU0LCA1MC43MjM3OTc0MTM1MjldLCBbLTEuMjA1MDkzMDkwOTQ2MSwgNTAuNzIzNzg1NzI0MTkxXSwgWy0xLjIwNTA5MDY1MzI1NzMsIDUwLjcyMzc2MjMyNjIwOV0sIFstMS4yMDUwODUyNDU2MTE2LCA1MC43MjM3NDcwMDE1MzddLCBbLTEuMjA1MDc1NTczMTI5MywgNTAuNzIzNzMyNTQ3MDg1XSwgWy0xLjIwNTA1NjE5Nzc2NTgsIDUwLjcyMzcwNTQzNjUzOF0sIFstMS4yMDUwNTA3MTQwOTUyLCA1MC43MjM2OTQ2MDc3NjRdLCBbLTEuMjA1MDM4NDUxODg5LCA1MC43MjM2NjU3NDcxMjRdLCBbLTEuMjA1MDM0Mzg0NzY4NiwgNTAuNzIzNjU0OTI4MDAzXSwgWy0xLjIwNTAzMDUwMDE1NjUsIDUwLjcyMzYzMzMxODcyNV0sIFstMS4yMDUwMzA4ODAzNzc2LCA1MC43MjM2MTA4MzkyMjhdLCBbLTEuMjA1MDMyNjYxOTI5MSwgNTAuNzIzNTg5MjY4NTY2XSwgWy0xLjIwNTAzMTYxMDQwMDksIDUwLjcyMzU2NzY3ODU5Nl0sIFstMS4yMDUwMzA0MDY3ODUzLCA1MC43MjM1NTUwODA0MjRdLCBbLTEuMjA1MDIzODg2ODIyOCwgNTAuNzIzNTIxNzYyNDk4XSwgWy0xLjIwNTAwMjQ4NDU5NDcsIDUwLjcyMzQ0Njk3NjFdLCBbLTEuMjA1MDAxMjgwOTg5NywgNTAuNzIzNDM0Mzc3OTI3XSwgWy0xLjIwNDk5ODY2MDg1MDcsIDUwLjcyMzQyMTc3MDFdLCBbLTEuMjA0OTkzMjA3NjQ0NiwgNTAuNzIzNDA5MTQyOTY0XSwgWy0xLjIwNDk4NjMzNzkwNzYsIDUwLjcyMzM5NjUwNjE3M10sIFstMS4yMDQ5ODQ5NTE3OTI5LCA1MC43MjMzOTQ2OTgxNThdLCBbLTEuMjA0OTc1MjMzNzgzNiwgNTAuNzIzMzgyOTQxMjM3XSwgWy0xLjIwNDk2NDA4NDAzNjEsIDUwLjcyMzM3MjA3MzgzOV0sIFstMS4yMDQ5NTE1MDI1NTA3LCA1MC43MjMzNjIwOTU5NjZdLCBbLTEuMjA0OTM3NDg5MzI3NywgNTAuNzIzMzUzMDA3NjE2XSwgWy0xLjIwNDg4NDA4NzAxNDgsIDUwLjcyMzMyNzQ2MzY2OF0sIFstMS4yMDQ4ODEyNjkxNjI5LCA1MC43MjMzMjY1NDUxNzddLCBbLTEuMjA0NzI0MDQ5MzYzOSwgNTAuNzIzMzI0NTc0MDg0XSwgWy0xLjIwNDU0OTg3Njg1NjUsIDUwLjcyMzMxOTc4OTMyMV0sIFstMS4yMDQzNTQ1NzgxOTMsIDUwLjcyMzMwNzY2NTkyOF0sIFstMS4yMDQyNDQxMzQ0NTI3LCA1MC43MjMzMDQyMTQ2NzZdLCBbLTEuMjAzODE5MzU4MDI4NCwgNTAuNzIzMjkwNTI0NjQ5XSwgWy0xLjIwMzc2NTU0NTExMjUsIDUwLjcyMzI4OTI1ODA0Ml0sIFstMS4yMDM2NzAzMzI4OTc1LCA1MC43MjMzMDY1OTM3NDFdLCBbLTEuMjAzNjU3NTIzMTgxNiwgNTAuNzIzMzEwMTAzNDI0XSwgWy0xLjIwMzQ3NzI4ODUzMzgsIDUwLjcyMzMyODY1NzA0NV0sIFstMS4yMDMyMjAzNjI4Njg0LCA1MC43MjMzNTgzNzcyMzddLCBbLTEuMjAyOTQzNjY2NDE4NSwgNTAuNzIzMzg0MzY0NjMzXSwgWy0xLjIwMjc0OTI4MTEzNTcsIDUwLjcyMzQwMTkyMTE1Ml0sIFstMS4yMDI1NTA3OTg2NzIyLCA1MC43MjM0MTA0NTY1XSwgWy0xLjIwMjM1OTQyOTMyODIsIDUwLjcyMzQxNzI0MTU4NF0sIFstMS4yMDE5Mjk3NDYzODM1LCA1MC43MjM0NDIxODAzMTldLCBbLTEuMjAxNTE5ODQ4NjU5NiwgNTAuNzIzNDY5OTUwNzYyXSwgWy0xLjIwMTMxMjc5MDA5OTEsIDUwLjcyMzQ4MjkyMTcxNV0sIFstMS4yMDEwMjkyMjMyMjcxLCA1MC43MjM0OTYyNjc1NTVdLCBbLTEuMjAxMDIzNjE4MjI3LCA1MC43MjM0OTI2MzIwMjhdLCBbLTEuMjAwOTcwNTc5NjcyOCwgNTAuNzIzNTI5MTM5MzUxXSwgWy0xLjIwMDg4NTQ0OTg5MzUsIDUwLjcyMzUzNjY0OTcyM10sIFstMS4yMDA4NjU1ODc4MDM0LCA1MC43MjM1MzgzMTIyMTZdLCBbLTEuMjAwMTk2OTc2MDgyNSwgNTAuNzIzNjE3MzYzMDA3XSwgWy0xLjIwMDE0MTYyMzk1MSwgNTAuNzIzNjIzMjc4NDQ0XSwgWy0xLjIwMDA5NzY4MDYzNTUsIDUwLjcyMzYyNDc3NTY3M10sIFstMS4xOTk3NTcxNzU0NDYxLCA1MC43MjM2NTM5MTUwNTRdLCBbLTEuMTk5MzcxMzU1ODY1MSwgNTAuNzIzNjgxODQzMTM2XSwgWy0xLjE5OTMwODExNzA1LCA1MC43MjM2NTE3MzI2OTVdLCBbLTEuMTk4NzUyNzM1MzQ5MywgNTAuNzIzNTcwNTgwNjE2XSwgWy0xLjE5ODU1NDg4MDE2NzYsIDUwLjcyMzU0MjI0MjgzN10sIFstMS4xOTgyODA5MzExMjEzLCA1MC43MjM0OTAwMDAzNl0sIFstMS4xOTc4ODYyMDQzNzU0LCA1MC43MjMzNzU3NzU0Nl0sIFstMS4xOTc4NTUxNjM0NjcsIDUwLjcyMzM2ODM2NzczXSwgWy0xLjE5NzcyMTEzMDI3MDYsIDUwLjcyMzMzNTk3MDk5XSwgWy0xLjE5NzY4MTYyMDkzOCwgNTAuNzIzMzI2NzA2Mzk5XSwgWy0xLjE5NzUyNzc1NjU4NzQsIDUwLjcyMzI5NDE3MzAzXSwgWy0xLjE5NzM3MjQxNDUwNCwgNTAuNzIzMjY1MjI2NDI0XSwgWy0xLjE5NzMyNDM5MDc4MjksIDUwLjcyMzI1NjgwMjQwN10sIFstMS4xOTcxNjYxNjk4MjE3LCA1MC43MjMyMzA1MzM1NjddLCBbLTEuMTk3MDA3ODg3NTkxMSwgNTAuNzIzMjA3ODYxMjI0XSwgWy0xLjE5Njg0MTE4MzE5NDMsIDUwLjcyMzE4MDYzNDI1Nl0sIFstMS4xOTY3ODQ2NjA1MTE3LCA1MC43MjMxNzIxNTE0OTZdLCBbLTEuMTk2ODc3Njg0MjE2NSwgNTAuNzIzMDM0MzAyM10sIFstMS4xOTY5Nzg5NzYwMjk0LCA1MC43MjI5MDk5OTkyMDhdLCBbLTEuMTk3MDI4NTY2MjE2LCA1MC43MjI4MjY3MDcxODhdLCBbLTEuMTk3MDczOTY4MTMzNywgNTAuNzIyNzM5Nzg5MThdLCBbLTEuMTk3MTEwNTYzNjMxNywgNTAuNzIyNjcwNzk2MjE2XSwgWy0xLjE5NzEzNTc1MDE2NjcsIDUwLjcyMjYwNjIyMTEzMl0sIFstMS4xOTcxNjA5NTE5OTA1LCA1MC43MjI1NDA3NDY4NjRdLCBbLTEuMTk3MTgxNzk2NzIzOSwgNTAuNzIyNDgxNTM3NTg5XSwgWy0xLjE5NzE5ODMzMDQ2NjIsIDUwLjcyMjQyNTg5NTc3NV0sIFstMS4xOTcyMDM1OTM1OTg3LCA1MC43MjIzNjY1NzkyNTNdLCBbLTEuMTk3MjE0NTg0MTQxMiwgNTAuNzIyMzAzNzA1MDEzXSwgWy0xLjE5NzIxOTUyNDcyODUsIDUwLjcyMjI2MzI3MTIzNF0sIFstMS4xOTcyMDYyMDQ0NCwgNTAuNzIyMjEzNzE4OTM2XSwgWy0xLjE5NzE5MzA1MzExNzUsIDUwLjcyMjE1NDI3NTY3NF0sIFstMS4xOTcxNzM5MTMzMzQsIDUwLjcyMjExMzY3NjE1OF0sIFstMS4xOTcxNTQ4ODEwOTQyLCA1MC43MjIwNjY3ODIzOV0sIFstMS4xOTcxMTYyMzMwNjkzLCA1MC43MjIwMDcxNjM2MjNdLCBbLTEuMTk3MTEyNjEzMzQwOSwgNTAuNzIxOTcwMjY4MDU5XSwgWy0xLjE5NzEyNzI1NDM1NzQsIDUwLjcyMTk0MjQ5MTAzXSwgWy0xLjE5NzE3MTQ0MTkxNCwgNTAuNzIxOTI2NjA4MDU5XSwgWy0xLjE5NzI3MTM5NDUyNzYsIDUwLjcyMTg4MDUzMzE5Nl0sIFstMS4xOTcxMzU1MzEzMzg0LCA1MC43MjE3ODk2Njk3MDRdLCBbLTEuMTk3MDM3NzEzOTQyMSwgNTAuNzIxNzEwNzU4NjU1XSwgWy0xLjE5Njc5NTM2NzE3NDksIDUwLjcyMTU1MDgxNjA4OF0sIFstMS4xOTU4NTI4NDg5NDYzLCA1MC43MjA5OTc1NTcyMzVdLCBbLTEuMTk2MjY1NDE0OTUzOSwgNTAuNzIwNjQ2OTgyMDY3XSwgWy0xLjE5NTc1NjY3NTE5MDgsIDUwLjcyMDMyNjAyODAzNV0sIFstMS4xOTU2ODA5NzIyMTk4LCA1MC43MjAyNzk2NDI1MzNdLCBbLTEuMTk1Njc2MzIyODcyNiwgNTAuNzIwMzAyOTkxODY3XSwgWy0xLjE5NTY2NTI4NDYxMzEsIDUwLjcyMDM2ODU2MzUxMV0sIFstMS4xOTU2NTg5NDE4NTI5LCA1MC43MjA0MDgwODgyODZdLCBbLTEuMTk1NjE5MzEyMjkyOCwgNTAuNzIwNDA2MDE2NDMxXSwgWy0xLjE5NTM4NDM5ODY3MjEsIDUwLjcyMDM5MTgwNjIwNV0sIFstMS4xOTUxNzkxOTk2MzU5LCA1MC43MjAzNzk1OTkxMDhdLCBbLTEuMTk1MTY1MDUwNjM2OCwgNTAuNzIwMzc4NjAyMTk1XSwgWy0xLjE5NDkyNzI3MzYyMjIsIDUwLjcyMDM2NjE2OTg1OV0sIFstMS4xOTQ3MTc4MTAxMDU3LCA1MC43MjAzNTQ4MzE3OTldLCBbLTEuMTk0Njg1MjYyODI4MywgNTAuNzIwMzUyODA4NTIyXSwgWy0xLjE5NDQ1MDMwMzU0OSwgNTAuNzIwMzQxMjkzOTVdLCBbLTEuMTk0MjQ1MDc0MTY3OSwgNTAuNzIwMzMwODgzNTY3XSwgWy0xLjE5NDEwNDkzOTMzNTIsIDUwLjcyMDMyNDUxOTcyOF0sIFstMS4xOTQwNDQwNzg3NzY2LCA1MC43MjAzMjE0MDEzNjJdLCBbLTEuMTkzOTIwOTU2NjY3MywgNTAuNzIwMzE0MjU1NTY5XSwgWy0xLjE5Mzg1MDE5NjQ5NzUsIDUwLjcyMDMxMDE2OTQwM10sIFstMS4xOTM3NDY4NzM3MTcyLCA1MC43MjAzMDQ5NTg4MzRdLCBbLTEuMTkzNTA0ODMyNzQ3MSwgNTAuNzIwMjkzMzkzNDA1XSwgWy0xLjE5MzQ5NTY1ODIyNiwgNTAuNzIwMjUwMTY0MzEzXSwgWy0xLjE5MzI2NDQzOTgyMDgsIDUwLjcyMDI2ODM0OTYwNV0sIFstMS4xOTMyNDQ3Mjk4MjMzLCA1MC43MjAzNDM3NTMxOF0sIFstMS4xOTMyMjY1MjU0MDI2LCA1MC43MjA0OTY1MDU2MzFdLCBbLTEuMTkzMTkzMTE4ODY0NiwgNTAuNzIwNzkyMTM5MTUxXSwgWy0xLjE5MzIxMjQyNDQ0NCwgNTAuNzIwODIyODQ4MzU3XSwgWy0xLjE5MzI1NTA4NDQxNDgsIDUwLjcyMDg5NTk4NTQ1OV0sIFstMS4xOTMzMDA5NDc3OTU2LCA1MC43MjA5NDc1NjE4NzNdLCBbLTEuMTkyODU3MTQxMjI2NSwgNTAuNzIxMTM2MDM5MjIzXSwgWy0xLjE5Mjc4NDA4MzI3MjQsIDUwLjcyMTE4MzE5NTcyNF0sIFstMS4xOTI3NDU5MzE0MzAyLCA1MC43MjExNzc1MzU5ODNdLCBbLTEuMTkyNzE2Mjc4MzcyNSwgNTAuNzIxMTcxOTM1MDVdLCBbLTEuMTkyNTA0NTA0MTI2NiwgNTAuNzIxMTMwMDAxMzU5XSwgWy0xLjE5MjM4ODcwOTY0OCwgNTAuNzIxMTA4NTE2MTNdLCBbLTEuMTkyMDY4MTQ2ODMyNCwgNTAuNzIxMDQ5NjQxMjM3XSwgWy0xLjE5MTk0Mzg2OTQ2NjIsIDUwLjcyMTAyNzE5NzUyM10sIFstMS4xOTE4NTA1Mzc4NDMyLCA1MC43MjEwMTc1NTgwNjldLCBbLTEuMTkxNzk4MjUyNTk4NywgNTAuNzIxMDEwMDAxNTI0XSwgWy0xLjE5MTc4MjcwMjQ5MDEsIDUwLjcyMTAwODA5NTIwOV0sIFstMS4xOTE2MzI2MzUzNDMzLCA1MC43MjEwMDI1NTg4NjVdLCBbLTEuMTkxNjAwMDU2ODMxNCwgNTAuNzIxMDAyMzMzMDhdLCBbLTEuMTkxNTg1ODkyMjYxMiwgNTAuNzIxMDAyMjM0OTA5XSwgWy0xLjE5MTU0NjE1NDEzNzUsIDUwLjcyMTAwNjQ1NTkxXSwgWy0xLjE5MTUyNzY5Mzc5NzMsIDUwLjcyMTAwOTAyNTgxMV0sIFstMS4xOTE0NjA5MzQ3MDQyLCA1MC43MjEwMTkzNTQ0ODJdLCBbLTEuMTkxNDMxMTExNzU4NiwgNTAuNzIxMDIzNjQ0MTczXSwgWy0xLjE5MTM5OTg4NzgxODIsIDUwLjcyMTAyNzAyNDg2XSwgWy0xLjE5MTM4Mjg3NDg1NzIsIDUwLjcyMTAyNzgwNjIwNF0sIFstMS4xOTEzMTM0MDY1NSwgNTAuNzIxMDMwOTIxNzMyXSwgWy0xLjE5MTE3MDIyMDUzNTcsIDUwLjcyMTAzNzEyMzE5OV0sIFstMS4xOTA5ODAyNzU4OTM1LCA1MC43MjEwNDM4OTk0NjldLCBbLTEuMTkwOTE1MDg3ODY4MiwgNTAuNzIxMDQ1MjQ1ODc5XSwgWy0xLjE5MDg5ODA3NDg5MzMsIDUwLjcyMTA0NjAyNzE1Ml0sIFstMS4xOTA4ODM5MTAzMTIzLCA1MC43MjEwNDU5Mjg4OTZdLCBbLTEuMTkwODE0NTY1Nzg0NywgNTAuNzIxMDQxODUwNzFdLCBbLTEuMTkwNzI5Njg2Njc3MiwgNTAuNzIxMDM0OTY2ODVdLCBbLTEuMTkwNjM0OTA3ODc1OSwgNTAuNzIxMDI3MTE0OTUxXSwgWy0xLjE5MDU0MDExMzYyMjQsIDUwLjcyMTAyMDE2MjE1Ml0sIFstMS4xOTA0NjA5MDA0MjQ0LCA1MC43MjEwMTMzMTc0MTZdLCBbLTEuMTkwNDExNjQ5NjYyMSwgNTAuNzIwOTk0MDkwNjFdLCBbLTEuMTkwMzY1MjYyODI4LCA1MC43MjA5NzMwODUwOTRdLCBbLTEuMTkwMjczOTgzMTg3NywgNTAuNzIwOTI2NTg3OTU0XSwgWy0xLjE5MDI2MjcyOTAwMzUsIDUwLjcyMDkyMjAxMzQwNF0sIFstMS4xOTAyNDAxNzQxNzAyLCA1MC43MjA5MTU1NjE4MzJdLCBbLTEuMTkwMjI3NDcyNTU2OCwgNTAuNzIwOTEyNzc1Nzk5XSwgWy0xLjE5MDE4Nzg3MzgxNSwgNTAuNzIwOTA4OTAzNzQzXSwgWy0xLjE5MDE1NjcyNzMyNTQsIDUwLjcyMDkwNzc4ODIxMl0sIFstMS4xODk5MTcyMjI2OTI5LCA1MC43MjA5MTMzMTkzNThdLCBbLTEuMTg5NDU1MTk1MjE3NCwgNTAuNzIwOTI1Mzk3NDY3XSwgWy0xLjE4OTMzNzU4MzAxODQsIDUwLjcyMDkyNzI3Nzk3XSwgWy0xLjE4OTEwMDkyNjYyOTksIDUwLjcyMDkzMTkyNzk1XSwgWy0xLjE4OTAzNzE1NTE3MjMsIDUwLjcyMDkzMzI4MzE1OF0sIFstMS4xODkwMDQ1NzY3Mjk0LCA1MC43MjA5MzMwNTY2NDhdLCBbLTEuMTg4OTUzNjYxOTU5OSwgNTAuNzIwOTI4MjA2MjA5XSwgWy0xLjE4ODkxNTQ5NTI4NDYsIDUwLjcyMDkyMzQ0NDM5NF0sIFstMS4xODg4NTQ4ODI1OTczLCA1MC43MjA5MDU5MzY0OV0sIFstMS4xODg3NzM0NzMyMDIsIDUwLjcyMDg2MjIwNDY2NF0sIFstMS4xODg0NjYzODc0NTcyLCA1MC43MjAyNjkyMzg0NzhdLCBbLTEuMTg4NDYwNzY4Mjk0MiwgNTAuNzIwMjY2NTAxNTI4XSwgWy0xLjE4ODQ1Mzc0ODIyMjQsIDUwLjcyMDI2Mjg1NTU0Nl0sIFstMS4xODg0NDY3MjgxNTE3LCA1MC43MjAyNTkyMDk1NjRdLCBbLTEuMTg4NDI5ODI0MDk3NywgNTAuNzIwMjUzNjk2MjRdLCBbLTEuMTg4NDAwMTcyMTQ5LCA1MC43MjAyNDgwOTQyMTRdLCBbLTEuMTg4MzUwNjI4MDQwOCwgNTAuNzIwMjQ1OTUwOV0sIFstMS4xODgxOTc1NzU2MjU5LCA1MC43MjAyNDkzODIyMDJdLCBbLTEuMTg3NDA1MjQ1NTczMywgNTAuNzIwMjc1MzM5OTc0XSwgWy0xLjE4NzMwMTc4MzczNDEsIDUwLjcyMDI3ODIxNjI4NV0sIFstMS4xODcyMzUyMjY4OTg4LCA1MC43MjAyNzY4NTMyNDRdLCBbLTEuMTg3MjI2Nzc0OTQwMiwgNTAuNzIwMjc0MDk2NDk1XSwgWy0xLjE4NzIwMjg2NjYsIDUwLjcyMDI2NDAzNzc2Ml0sIFstMS4xODcxODc1MzQ2MTAxLCA1MC43MjAyNDk1NDIzNjZdLCBbLTEuMTg3MTgzNDQwNzk3MSwgNTAuNzIwMjQwNTIwOTldLCBbLTEuMTg3MTc2NTc2MzE1OSwgNTAuNzIwMjI3ODgzMTY3XSwgWy0xLjE4NzE3Mjg1NTY3NjMsIDUwLjcyMDE5NzI4MTU1Nl0sIFstMS4xODcxNzY3MTMyNDIxLCA1MC43MjAwNTYxMjA3MjRdLCBbLTEuMTg3MTg3NjY2OTExNCwgNTAuNzE5ODMyMjc1MTMyXSwgWy0xLjE4NzE4NjcxNTQwNzgsIDUwLjcxOTcyMzQ1NTAzNF0sIFstMS4xODcxODgxNzUzOTc1LCA1MC43MTk1NTcwOTc1MDVdLCBbLTEuMTg3MTg5MTY4OTMxMSwgNTAuNzE5NDE3NzE1MjY5XSwgWy0xLjE4NzE4NDU5MTY2NCwgNTAuNzE5MzU0NzMzNDI4XSwgWy0xLjE4NzE3MzQxNDM4MywgNTAuNzE5MjYzODI3NzU5XSwgWy0xLjE4NzE0MTIzODQ1MzcsIDUwLjcxOTA3NjU1MjI2MV0sIFstMS4xODcxMTkzMzY1NzI4LCA1MC43MTg5NTA0OTk3MjhdLCBbLTEuMTg3MTA3MzUwOTQ0OSwgNTAuNzE4OTA2MzUxMjMzXSwgWy0xLjE4NzA2MzY0MzYwMSwgNTAuNzE4ODEyNTIwOTc2XSwgWy0xLjE4NzAzMzM2OTQxODgsIDUwLjcxODc2MTA1MDcyNl0sIFstMS4xODcwMDU2NjM3MDYyLCA1MC43MTg3MjQ4ODYyMTVdLCBbLTEuMTg2NTM2NDgxODQ2NiwgNTAuNzE4NzQyMjk4NTU2XSwgWy0xLjE4NTU2OTEzNTA5MDgsIDUwLjcxODgxNDY4NTE4XSwgWy0xLjE4NTA4MTE5NTg3MjIsIDUwLjcxODg1MTc0NDk2Nl0sIFstMS4xODQzMDUwODg4NjA2LCA1MC43MTg5MjM2NTg1MDldLCBbLTEuMTgyODQ1MjYxODUyNCwgNTAuNzE5MDQ5MjMyNDA0XSwgWy0xLjE4MjUxNzczMDU5MiwgNTAuNzE5MDY2NzIxNTldLCBbLTEuMTgyNDI4NDAzODQ0MiwgNTAuNzE5MDcxNDkxMjA4XSwgWy0xLjE4MjM3MTY4NTQ2MDcsIDUwLjcxOTA3NDY5MDc3M10sIFstMS4xODIzMjQ5NDQ0MDM2LCA1MC43MTkwNzQzNjMxMTRdLCBbLTEuMTgyMjY5NDA3Nzc3LCA1MC43MTkwOTEwNjAxOTFdLCBbLTEuMTgyMjM3NTE4OTM3NywgNTAuNzE5MDUxMjY4MDc0XSwgWy0xLjE4MTM3ODUyMTYwMDksIDUwLjcxOTU3MTMyNDI3N10sIFstMS4xODEyMDIyNjY5OTc2LCA1MC43MTk2ODY5OTQxOV0sIFstMS4xODEwNjc3NzY4OTgsIDUwLjcxOTc2MzM4ODUyOF0sIFstMS4xODA5MjQ4MTkxODgxLCA1MC43MTk4Mzc5MjQ2OF0sIFstMS4xODA2ODM1NDgxMzAyLCA1MC43MTk5NDUwNDM2NjJdLCBbLTEuMTgwNDUyNTUxNTIyNywgNTAuNzIwMDMxNTUwNzhdLCBbLTEuMTc5NzM3ODg2NDg4MSwgNTAuNzIwMzE1MTk3NjYxXSwgWy0xLjE3OTUzODM3NzQ5LCA1MC43MjAzODMwMzk0MTNdLCBbLTEuMTc5Mzg1NzIwMTk1MSwgNTAuNzIwNDQ0OTE1NDZdLCBbLTEuMTc5MjU0MzU2MTY3LCA1MC43MjA1MDQyNDMyODVdLCBbLTEuMTc5MTgxNDI2OTY3LCA1MC43MjA1NDMyOTg2MzZdLCBbLTEuMTc5MDc4Mjk2OTk1NSwgNTAuNzIwNjA4MjIwNjU4XSwgWy0xLjE3ODc3Mjg3MTkzNDMsIDUwLjcyMDgxOTIwMTIyMl0sIFstMS4xNzg2MzgyOTYwOTMsIDUwLjcyMDkwMDA4ODU4Ml0sIFstMS4xNzg0Njk3MDkyMzA0LCA1MC43MjA5ODE2MzU1MjddLCBbLTEuMTc4Mjg3MjQwMTg4MiwgNTAuNzIxMDQ2ODk3MzAxXSwgWy0xLjE3ODE3MTkxMDAyNzcsIDUwLjcyMTA4MDI1NzU5Nl0sIFstMS4xNzgwODUwOTc0OTQ1LCA1MC43MjExMDMwMjczMV0sIFstMS4xNzgwMjUyNDQ3MTQxLCA1MC43MjExMjMyODkwOTVdLCBbLTEuMTc3OTYyNTU4OTY5NCwgNTAuNzIxMTQzNTMwODg0XSwgWy0xLjE3Nzg3ODU0NzY3OTQsIDUwLjcyMTE2ODExODc1Nl0sIFstMS4xNzc4NDQzOTU0MjkyLCA1MC43MjExNzY4NzA4ODZdLCBbLTEuMTc3NzY3NTYwNjg0OSwgNTAuNzIxMTk2MTEzNTUzXSwgWy0xLjE3Nzc1NDc2NTM3NDQsIDUwLjcyMTE5ODcyMTIxXSwgWy0xLjE3NzczMjA1NDg1NTUsIDUwLjcyMTIwMTI1ODk2OF0sIFstMS4xNzc3MDkzNjAwNjQ2LCA1MC43MjEyMDI4OTc1NDddLCBbLTEuMTc3Njc2NzUwMDY0NiwgNTAuNzIxMjA0NDY2MjE5XSwgWy0xLjE3NzY3MjQ4NDk1ODksIDUwLjcyMTIwNTMzNTQzNV0sIFstMS4xNzc0OTY4NTk4NzcyLCA1MC43MjEyMDMxOTc4NDVdLCBbLTEuMTc3Mzc2NTM5NjIzOSwgNTAuNzIxMTk3ODUyOTA3XSwgWy0xLjE3NzMyNTU5NDM1MjcsIDUwLjcyMTE5NDc5NTc0M10sIFstMS4xNzcyNzA0NDY5MzE2LCA1MC43MjExODkwMTEwNjFdLCBbLTEuMTc3MjAyNTk4NjI3OCwgNTAuNzIxMTgwNDM4OTA0XSwgWy0xLjE3NzE1MzE0ODU0OTksIDUwLjcyMTE3Mjg5NTc4Nl0sIFstMS4xNzcwNzY5MTE3NDc5LCA1MC43MjExNTc5NjkzODRdLCBbLTEuMTc3MDE3NjU2NzI0OSwgNTAuNzIxMTQ0MDYyMDM2XSwgWy0xLjE3Njk3Njc1MjY4NDQsIDUwLjcyMTEzMzg4MTI4Nl0sIFstMS4xNzY5MjQ1Nzk5OTksIDUwLjcyMTEyMDAyMzg2M10sIFstMS4xNzY4NzM4NzEwMzg1LCA1MC43MjExMDM0Nzg4OTJdLCBbLTEuMTc2ODI4ODEyMTg0MiwgNTAuNzIxMDg3ODczMDU5XSwgWy0xLjE3Njc2NDA2NDc0MDgsIDUwLjcyMTA2NDAzNDY4M10sIFstMS4xNzY3MjA1MDExNjA0LCA1MC43MjEwNDM5NDI5MzVdLCBbLTEuMTc2NjgxMTU1NDc0NiwgNTAuNzIxMDI1Njc5NTE0XSwgWy0xLjE3NjYwMzk0MzY1MjIsIDUwLjcyMDk4NTU2NTkzNF0sIFstMS4xNzY1MjgxNjQxNjQ2LCA1MC43MjA5NDQ1NjMxM10sIFstMS4xNzY0NTY2MDI2NDczLCA1MC43MjA5MDUzODg2MjhdLCBbLTEuMTc2MzAzODk1NzQ0NiwgNTAuNzIwODA4MDg2ODIyXSwgWy0xLjE3NjI1OTA0MjIxNywgNTAuNzIwNzgwNzkxNTA5XSwgWy0xLjE3NjIwMDI3NjQ0NDQsIDUwLjcyMDczOTAwOTM1N10sIFstMS4xNzYxNTY5NDk4MDQ0LCA1MC43MjA3MDU0Mjk3OTJdLCBbLTEuMTc2MDg5OTM3NzQ1NSwgNTAuNzIwNjQ5MjAwNzc1XSwgWy0xLjE3NjAyNzExMjExNTMsIDUwLjcyMDU5NjU5ODQzNF0sIFstMS4xNzU5NDE4OTE2MDc0LCA1MC43MjA1Mjg1NDk5OTNdLCBbLTEuMTc1ODg1OTI3NzczOCwgNTAuNzIwNDg4NTg2MDQ2XSwgWy0xLjE3NTgwNjI2MzAzNjksIDUwLjcyMDQyNjg3MTc1NF0sIFstMS4xNzU3NTAzNjI1MDkxLCA1MC43MjAzODMzMTEwNDZdLCBbLTEuMTc1NjgxNzYxNTA3OSwgNTAuNzIwMzM2OTYyN10sIFstMS4xNzU2MTAyOTYyNDIsIDUwLjcyMDI5MjM5MjYzOV0sIFstMS4xNzU1NDI5ODU3Njk4LCA1MC43MjAyNTMyNDc2MTNdLCBbLTEuMTc1NDY1ODIzNTA3OCwgNTAuNzIwMjEwNDM1NzYzXSwgWy0xLjE3NTM5Mjc4NDQ3MiwgNTAuNzIwMTc0ODQ3Mjk1XSwgWy0xLjE3NTMxNTQ0ODk0NDUsIDUwLjcyMDE0MTkyNjI1OV0sIFstMS4xNzUxOTE0NjYxOTA5LCA1MC43MjAxMDMyNzk2MDZdLCBbLTEuMTc1MTE4MTI3NzIzNSwgNTAuNzIwMDg0Nzc1MjY4XSwgWy0xLjE3NTAxOTI0NjM1NzIsIDUwLjcyMDA2ODc4ODA4XSwgWy0xLjE3NDkzODY2ODA3MjgsIDUwLjcyMDA1OTIyNTI3Nl0sIFstMS4xNzQ4NDI1NDA3NDQ2LCA1MC43MjAwNDc3NTM4NDZdLCBbLTEuMTc0NjIxOTczNTg5LCA1MC43MjAwMjM3MTExMTddLCBbLTEuMTc0NDI5NjA4NzM5MSwgNTAuNzIwMDA3MDYxODcyXSwgWy0xLjE3NDI5MTAwNDgyNDUsIDUwLjcxOTk5NDM5MDA0NV0sIFstMS4xNzQxODA3MTM1OTE2LCA1MC43MTk5ODI4MTc3OTldLCBbLTEuMTczNDcxMDE0Njk0OCwgNTAuNzE5OTAxMzUxNjMzXSwgWy0xLjE3MzMzODA3NzAzMTcsIDUwLjcxOTg4ODcxODgyNF0sIFstMS4xNzI2MTk5NDU4OTgsIDUwLjcxOTgwMzU5MDU2NF0sIFstMS4xNzI1Njc3NDQzMzcxLCA1MC43MTk3OTE1Mjk1NDldLCBbLTEuMTcyNTA4NTcxNTM5OSwgNTAuNzE5NzczMTI0MDU1XSwgWy0xLjE3MjQ5MDMxNjQ2MjQsIDUwLjcxOTc2NDAwMTY4OV0sIFstMS4xNzIzOTcyODM5MTc5LCA1MC43MTk4MTgxOTgwMzddLCBbLTEuMTcyMzI1Njg3MzkzLCA1MC43MTk4NjE3NTQ5OThdLCBbLTEuMTcyMTM2NzU2ODEyNCwgNTAuNzE5OTcxOTI1NTkxXSwgWy0xLjE3MjAyMzYyNDMwNDYsIDUwLjcyMDA0MTI2NjgzMV0sIFstMS4xNzE4NjkyNzI2MTcxLCA1MC43MjAxMTg0MDg4ODVdLCBbLTEuMTcxNzY3ODE5MzIzLCA1MC43MjAxNjgwNDg1MTddLCBbLTEuMTcxNjMzNjc3MDg2OSwgNTAuNzIwMjIzNzUwOTA5XSwgWy0xLjE3MTU0Mzc2MDc2MzEsIDUwLjcyMDI2MTc4MTU2OV0sIFstMS4xNzEzMTg1NTQzNjg5LCA1MC43MjAzNDAyMTgxODNdLCBbLTEuMTcxMTE0ODQ3NDA3MiwgNTAuNzIwNDA0NDE4NTgxXSwgWy0xLjE3MDg1NDExNzc0MTQsIDUwLjcyMDQ4ODg5Njg1XSwgWy0xLjE3MDcxMTc5MjE3NzEsIDUwLjcyMDUyNjU1NDMwMV0sIFstMS4xNzA0Mzk5ODM1MjEyLCA1MC43MjA1OTY1NjQzMDhdLCBbLTEuMTcwMTkzODEyODM0NiwgNTAuNzIwNjU4NjYyNTExXSwgWy0xLjE2OTk4NzQ2MDYyNiwgNTAuNzIwNzEyMDUwNjk4XSwgWy0xLjE2OTcyNzA2MDc5MDEsIDUwLjcyMDc3NzY0MzgwM10sIFstMS4xNjg4ODYxNTk0NDQ0LCA1MC43MjA5ODU2ODQ5NTddLCBbLTEuMTY4NzQ1MTM1OTU4NiwgNTAuNzIxMDI5NjQ0Mjg3XSwgWy0xLjE2ODU2Njg4Njg1MjQsIDUwLjcyMTA5NTgyMDIzOV0sIFstMS4xNjg0MDU1NTUxNDc5LCA1MC43MjExNjY2MTI5Nl0sIFstMS4xNjgyNzY4NjUwODY3LCA1MC43MjEyMzQwNDEwNzldLCBbLTEuMTY4MTc1MTk4NzQ0LCA1MC43MjEyOTUzNjY3ODJdLCBbLTEuMTY4MTAyMDUyMjk1NCwgNTAuNzIxMzQ2MTA0MzgzXSwgWy0xLjE2ODA3NjE3NDA3NzIsIDUwLjcyMTM2NzUwMjY2M10sIFstMS4xNjgwMTg2NzIxNDYyLCA1MC43MjE0MTQ3NTQ2NTJdLCBbLTEuMTY3OTc4MzQyNzMzNywgNTAuNzIxNDUyMjM2OTY5XSwgWy0xLjE2Nzc3MzA2NzE2NDQsIDUwLjcyMTQ0NDQ3NzUxMV0sIFstMS4xNjcyMjcxODc3Mjk4LCA1MC43MjE0NzExNTcwOTFdLCBbLTEuMTY3MTQ2MzY5NzA0LCA1MC43MjE0NzUwNzY0NzZdLCBbLTEuMTY3MDY4Mzg0NTkwNywgNTAuNzIxNDc5MDE2MDM1XSwgWy0xLjE2Njk4NzU5ODQxMDgsIDUwLjcyMTQ4MTEzNjk2Nl0sIFstMS4xNjY5ODE5MzI1NTk5LCA1MC43MjE0ODEwOTY1MDJdLCBbLTEuMTY2OTc5MzM4NjcyMywgNTAuNzIxNDY3NTg4Njk1XSwgWy0xLjE2Njk1MzgxMDQ3NzksIDUwLjcyMTQ2OTIwNDk0NV0sIFstMS4xNjY2NzYwMjQ0NTMxLCA1MC43MjE0NzYyMTM1MTVdLCBbLTEuMTY2NjY3NTI1Njc4MywgNTAuNzIxNDc2MTUyNzk2XSwgWy0xLjE2NjY2MTg3NTc3MDMsIDUwLjcyMTQ3NTIxMzE0NV0sIFstMS4xNjY2NTYyNDE4MDQ2LCA1MC43MjE0NzMzNzQzMjJdLCBbLTEuMTY2NjQ5MjA3MzE5MiwgNTAuNzIxNDcwNjI2MjA3XSwgWy0xLjE2NjY0MjE4ODc3NywgNTAuNzIxNDY2OTc4OTJdLCBbLTEuMTY2NjExMzkzMjk1NiwgNTAuNzIxNDQ2MDc1MzI0XSwgWy0xLjE2NjU2NTE3NjIwOTIsIDUwLjcyMTQxNjA2ODY3NF0sIFstMS4xNjY1NTk1MTAzNjY4LCA1MC43MjE0MTYwMjgxODldLCBbLTEuMTY2NTI3MjUwNjYyMiwgNTAuNzIxMzk3ODExOTY1XSwgWy0xLjE2NjQ1MzY0ODAyLCA1MC43MjEyMzQ1MTUzMTddLCBbLTEuMTY2NDIyMjk3NDIzNSwgNTAuNzIxMTY1MDQ2MjgzXSwgWy0xLjE2NjQxOTY1NTg3NDIsIDUwLjcyMTE1NDIzNTk3OF0sIFstMS4xNjY0MTY4NzA4MDgxLCA1MC43MjExNTE1MTgyMTddLCBbLTEuMTY2NDE0MDY5Nzk1OSwgNTAuNzIxMTQ5Njk5NjI4XSwgWy0xLjE2NjQwNzA1MTMxOTcsIDUwLjcyMTE0NjA1MjMyN10sIFstMS4xNjYzOTQzMzUxNDE2LCA1MC43MjExNDQxNjI4NzZdLCBbLTEuMTY2Mzg3Mjg0NzczOCwgNTAuNzIxMTQyMzEzOTE3XSwgWy0xLjE2NjM4MDI1MDM1MzcsIDUwLjcyMTEzOTU2NTc4Nl0sIFstMS4xNjYzNzMyNzk3MjM1LCA1MC43MjExMzMyMjA5NjhdLCBbLTEuMTY2MzYzNTU1OTI4NiwgNTAuNzIxMTIyMzYwMDQ0XSwgWy0xLjE2NjM1Mzc4NDI5NTQsIDUwLjcyMTExNDE5NjYzNV0sIFstMS4xNjYzNDgxNjYzMzI4LCA1MC43MjExMTE0NTg2MjVdLCBbLTEuMTY2MzM5NzMxNDE2MiwgNTAuNzIxMTA3ODAxMTk2XSwgWy0xLjE2NjMwMTU5ODg3MzEsIDUwLjcyMTEwMTIzMzY0Nl0sIFstMS4xNjYyNjM0NTAzOTE0LCA1MC43MjEwOTU1NjUyNTVdLCBbLTEuMTY2MjI5NTUxMjcxMSwgNTAuNzIxMDg5OTI3MjI2XSwgWy0xLjE2NjIwMjczNDQxMTUsIDUwLjcyMTA4NDMzOTgxNl0sIFstMS4xNjYxNzU5MzM1MDkzLCA1MC43MjEwNzc4NTMyMjhdLCBbLTEuMTY2MTI2NTgxMDc3LCA1MC43MjEwNjQ5MTA0MTNdLCBbLTEuMTY2MTAxMjEyNTk4NywgNTAuNzIxMDU3NTM0NzYyXSwgWy0xLjE2NjA2MTc5MTMwNjUsIDUwLjcyMTA0Mzc2MzYzNV0sIFstMS4xNjYwNDkxMjMwMzA2LCA1MC43MjEwMzkxNzY2MzJdLCBbLTEuMTY2MDI3OTU2MDYzNiwgNTAuNzIxMDM0NTI4ODYyXSwgWy0xLjE2NjAxNjY3MjMzNDMsIDUwLjcyMTAzMTc1MDMyNl0sIFstMS4xNjYwMDUzNDA3NDM2LCA1MC43MjEwMzE2NjkzMDRdLCBbLTEuMTY1OTkxMTkyMjA5OCwgNTAuNzIxMDMwNjY4ODUzXSwgWy0xLjE2NTk4NDEwOTk2NTgsIDUwLjcyMTAzMDYxODIxMl0sIFstMS4xNjU5NzU2NzUwOTIzLCA1MC43MjEwMjY5NjA3NTddLCBbLTEuMTY1OTY0NDg3MDk4MSwgNTAuNzIxMDE4Nzg3MTg3XSwgWy0xLjE2NTk1ODg4NTEyNDksIDUwLjcyMTAxNTE0OTk4N10sIFstMS4xNjU5NTE4NTA3NDkxLCA1MC43MjEwMTI0MDE4M10sIFstMS4xNjU5MTc5MTk4MTUzLCA1MC43MjEwMDg1NjIwNTVdLCBbLTEuMTY1OTA4MDM2NTkwOCwgNTAuNzIxMDA2NjkyODA5XSwgWy0xLjE2NTg5MjUxOTQ4NzgsIDUwLjcyMTAwMjk4NDcwM10sIFstMS4xNjU4NTAzMTMyNzk4LCA1MC43MjA5ODY0OTU3MzFdLCBbLTEuMTY1ODM3NjYwOTk3NywgNTAuNzIwOTgxMDA5NTM0XSwgWy0xLjE2NTgyMjE3NTgyNDMsIDUwLjcyMDk3NTUwMzA3NV0sIFstMS4xNjU4MTUxMjU1MDQ3LCA1MC43MjA5NzM2NTQwODFdLCBbLTEuMTY1ODA4MDU5MjI3NiwgNTAuNzIwOTcyNzA0MjU4XSwgWy0xLjE2NTc5OTU2MDU0NTYsIDUwLjcyMDk3MjY0MzQ3N10sIFstMS4xNjU3NTg0MzU3MDY3LCA1MC43MjA5NzUwNDcyMDRdLCBbLTEuMTY1NzQxNDA2NDIzOCwgNTAuNzIwOTc2NzIzOTc1XSwgWy0xLjE2NTczNTcyNDY3NjEsIDUwLjcyMDk3NzU4MjYyMl0sIFstMS4xNjU1NzY5NzA4NjgyLCA1MC43MjA5ODI3NDIwMjddLCBbLTEuMTY1NTE2MDMxNzExOSwgNTAuNzIwOTg0MTA0NjMyXSwgWy0xLjE2NTIzMjU5ODU2MjIsIDUwLjcyMDk5MDE3MDA3XSwgWy0xLjE2NTE4NTg1NTgwMTUsIDUwLjcyMDk4OTgzNTUzMl0sIFstMS4xNjUxNjc0NDE5ODcsIDUwLjcyMDk4OTcwMzczOV0sIFstMS4xNjQ4MjA5MjM2OTEsIDUwLjcyMDk1ODQ0NTkyMl0sIFstMS4xNjQ3OTQwMjcxOTA3LCA1MC43MjA5NTczNTQwNDVdLCBbLTEuMTY0NjYwOTYxMTU1LCA1MC43MjA5NTE5MDQ3MTFdLCBbLTEuMTY0NjMyNjY0MTk3MiwgNTAuNzIwOTQ5OTAzNDgyXSwgWy0xLjE2NDM4MzQ5NzYxNzYsIDUwLjcyMDk0MDkyNDQwOV0sIFstMS4xNjQzNDI0Njg2NTYxLCA1MC43MjA5Mzc5MzI2MDldLCBbLTEuMTY0MDEwMDAzODE2NiwgNTAuNzIwOTEzMDY4MDY0XSwgWy0xLjE2Mzk5ODYyNDI4MjUsIDUwLjcyMDkxNTY4NDM2XSwgWy0xLjE2Mzk1MTUyOTc1NCwgNTAuNzIwOTM1MTMxMDkxXSwgWy0xLjE2MzkzNDQzNjQ0ODksIDUwLjcyMDk0MDQwNDI4M10sIFstMS4xNjM5MjU5MDU3ODksIDUwLjcyMDk0MjE0MTcwNl0sIFstMS4xNjM5MTQ1OTAyMjAxLCA1MC43MjA5NDExNjEzMV0sIFstMS4xNjM5MDE5MzgxNzg2LCA1MC43MjA5MzU2NzQ5MDRdLCBbLTEuMTYzODkzNTM1NDc1MiwgNTAuNzIwOTMwMjE4OTU2XSwgWy0xLjE2Mzg4OTM4MjEwODIsIDUwLjcyMDkyNDc5MzQ2OV0sIFstMS4xNjM4ODY3NzMxNDQ3LCA1MC43MjA5MTIxODQ3NjddLCBbLTEuMTYzODg0MTAwMjAzNCwgNTAuNzIwOTAzMTcyNzVdLCBbLTEuMTYzODc5OTE0ODUwMiwgNTAuNzIwODk5NTQ1NjA0XSwgWy0xLjE2Mzg3Mjg2NDYxOTcsIDUwLjcyMDg5NzY5NjQ5NF0sIFstMS4xNjM4NTg3MTYxNzQ4LCA1MC43MjA4OTY2OTU3ODRdLCBbLTEuMTYzODQwMzM0Mzk0MSwgNTAuNzIwODk0NzY1NDRdLCBbLTEuMTYzODA0OTA3Mjk5OSwgNTAuNzIwODk1NDEwNzUyXSwgWy0xLjE2Mzc2NjY3OTMxMSwgNTAuNzIwODk0MjM3NDAxXSwgWy0xLjE2MzcyOTg2Nzc2OCwgNTAuNzIwODkzMDc0MTkzXSwgWy0xLjE2MzY5MTY1NTc4MTYsIDUwLjcyMDg5MTAwMTY0Nl0sIFstMS4xNjM2MjY1OTUzNjc2LCA1MC43MjA4ODUxMzk0MjhdLCBbLTEuMTYzNTMzMjU0MTA3NiwgNTAuNzIwODc2Mzc2NTA3XSwgWy0xLjE2MzI5NDI3NTM1ODgsIDUwLjcyMDg1MjE4MDMwN10sIFstMS4xNjMyODcyMDkxNTI3LCA1MC43MjA4NTEyMzAzMzJdLCBbLTEuMTYzMTk4MTE3MzUyOSwgNTAuNzIwODQyNDk3NjI2XSwgWy0xLjE2MzE5Njc0ODkzNDUsIDUwLjcyMDgzOTc4OTk1MV0sIFstMS4xNjMxNzc1NTkwNzU4LCA1MC43MjA4MDM2ODA4NDVdLCBbLTEuMTYzMTY2NjExNzUwOCwgNTAuNzIwNzgyMDE5NDQ1XSwgWy0xLjE2MzEzNDAzMzYyNDUsIDUwLjcyMDc4MTc4NTcwN10sIFstMS4xNjI3ODQzODExMDgyLCA1MC43MjA3Njc1ODU3NzJdLCBbLTEuMTYyMzQ4NDM4MTk3MSwgNTAuNzIwNzQ2NDcwMTE5XSwgWy0xLjE2MjIyMzk1MTgzOTksIDUwLjcyMDczNjU4MzE4OF0sIFstMS4xNjIyMDk4MTk1MDc2LCA1MC43MjA3MzQ2ODMxMDhdLCBbLTEuMTYyMTYzMjIxMjg1NiwgNTAuNzIwNzI2MjU0ODIyXSwgWy0xLjE2MjA5OTU5Mzc2NzIsIDUwLjcyMDcxOTUwMjc1OF0sIFstMS4xNjIwNDAxOTk1NTEsIDUwLjcyMDcxMzY4MDM1N10sIFstMS4xNjIwMjQ2MzQ3NjUzLCA1MC43MjA3MTI2NjkyNV0sIFstMS4xNjE5OTM0NzMxMzQzLCA1MC43MjA3MTI0NDUzN10sIFstMS4xNjE5NzA3NzgwNjc2LCA1MC43MjA3MTQwODA4ODRdLCBbLTEuMTYxOTE5NzU0MjQyNywgNTAuNzIwNzE1NTEyODQ4XSwgWy0xLjE2MTg5OTkyNDExMzEsIDUwLjcyMDcxNTM3MDM2Ml0sIFstMS4xNjE4NzcyOTMxNzQzLCA1MC43MjA3MTM0MDkxNzZdLCBbLTEuMTYxODE5MjY3MzI5NywgNTAuNzIwNzEwMjk0MzUzXSwgWy0xLjE2MTgwNzk2Nzg5NzQsIDUwLjcyMDcwODQxNDU4Ml0sIFstMS4xNjE3OTY3MTY1Njk4LCA1MC43MjA3MDM4MzcyOTddLCBbLTEuMTYxNzg0MDgwODc2OCwgNTAuNzIwNjk3NDUxNDkyXSwgWy0xLjE2MTc2NzIyNzk0NjQsIDUwLjcyMDY4OTIzNjgwNl0sIFstMS4xNjE3NTQ1MjgxMTk4LCA1MC43MjA2ODY0NDc2OF0sIFstMS4xNjE3Mzc1NDY5MTI5LCA1MC43MjA2ODU0MjYzNTRdLCBbLTEuMTYxNjk3ODcwNjQ0NywgNTAuNzIwNjg2MDQwNDg4XSwgWy0xLjE2MTY4MDgyNTI5MiwgNTAuNzIwNjg4NjE1ODM3XSwgWy0xLjE2MTY2NjUzMjYyNjEsIDUwLjcyMDY5NTcwNzM5N10sIFstMS4xNjE2NTUxMjA5NDI1LCA1MC43MjA3MDAxMjE4MDVdLCBbLTEuMTYxNjQyMzczMDA3MSwgNTAuNzIwNzAwMDMwMTc4XSwgWy0xLjE2MTYyNjgyNDI3MywgNTAuNzIwNjk4MTE5ODQ3XSwgWy0xLjE2MTU2MTg2MDYzMTcsIDUwLjcyMDY4Njg2MTQ1Nl0sIFstMS4xNjE1NDIwNjI1OTUsIDUwLjcyMDY4NDkyMDU2OF0sIFstMS4xNjE0MTc1NzY1ODA3LCA1MC43MjA2NzUwMzI3NzddLCBbLTEuMTYxMzEwMTAzODk3NCwgNTAuNzIwNjY0MzY3OTAyXSwgWy0xLjE2MTI5NDQ5MTAxMjMsIDUwLjcyMDY2NjA1NDIwOV0sIFstMS4xNjEyNzMxOTYzMzcsIDUwLjcyMDY2ODU5ODk0M10sIFstMS4xNjEyNTE5MTc3MDQ0LCA1MC43MjA2NzAyNDQ1MDJdLCBbLTEuMTYxMjIyMDQ0MTc5MiwgNTAuNzIwNjc3MjIzOTY2XSwgWy0xLjE2MTIxOTIxMTMwNjQsIDUwLjcyMDY3NzIwMzU5NF0sIFstMS4xNjEyMTc3Nzg4MjQzLCA1MC43MjA2NzgwOTI1NzldLCBbLTEuMTYxMjE0OTQ1OTUxNCwgNTAuNzIwNjc4MDcyMjA3XSwgWy0xLjE2MTIxMDY5NjY0MjEsIDUwLjcyMDY3ODA0MTY0OF0sIFstMS4xNjEyMDc4Nzk4MTUxLCA1MC43MjA2NzcxMjIxMDZdLCBbLTEuMTYxMjA2NDc5NDI0NSwgNTAuNzIwNjc2MjEyNzQ5XSwgWy0xLjE2MTE5MjM5NTI5MTQsIDUwLjcyMDY3MTYxNTAzNV0sIFstMS4xNjExODgxNjIwMjg5LCA1MC43MjA2NzA2ODUzMDVdLCBbLTEuMTYxMTgyNTEyMzMwNCwgNTAuNzIwNjY5NzQ1Mzg5XSwgWy0xLjE2MTE2Njk2MzYyNTcsIDUwLjcyMDY2NzgzNDk5N10sIFstMS4xNjExNjI3MzAzNjQsIDUwLjcyMDY2NjkwNTI2N10sIFstMS4xNjExNTg0OTcxMDI2LCA1MC43MjA2NjU5NzU1MzZdLCBbLTEuMTYxMTQ3MTk3NzA4MSwgNTAuNzIwNjY0MDk1NzAxXSwgWy0xLjE2MTEwNzU4NTY0MzcsIDUwLjcyMDY2MTExMjk1Ml0sIFstMS4xNjEwNTI0MjQ4ODg1LCA1MC43MjA2NTYyMTk3ODFdLCBbLTEuMTYxMDAyODk3Nzg3OCwgNTAuNzIwNjUzMTY1NjhdLCBbLTEuMTYwOTY2MDg2NTEyNCwgNTAuNzIwNjUyMDAxNjAxXSwgWy0xLjE2MDkxMDg3NzYyODksIDUwLjcyMDY0OTgwNTg3NV0sIFstMS4xNjA5MDUyMTE4ODcsIDUwLjcyMDY0OTc2NTExNl0sIFstMS4xNjA4OTgxNDU3NjEzLCA1MC43MjA2NDg4MTQ5OTddLCBbLTEuMTYwODg2ODE0Mjc3OCwgNTAuNzIwNjQ4NzMzNDc3XSwgWy0xLjE2MDg3NjkxNTI4MTksIDUwLjcyMDY0Nzc2Mjk3Nl0sIFstMS4xNjA4NTcxMTcyOTEzLCA1MC43MjA2NDU4MjE5NzJdLCBbLTEuMTYwODUwMDY3MjE5OSwgNTAuNzIwNjQzOTcyNjhdLCBbLTEuMTYwODM4NzM1NzM3NywgNTAuNzIwNjQzODkxMTU2XSwgWy0xLjE2MDgzNzMwMzI0OTUsIDUwLjcyMDY0NDc4MDEzNV0sIFstMS4xNjA4MzQ0NzAzNzg5LCA1MC43MjA2NDQ3NTk3NTRdLCBbLTEuMTYwODMzMDM3ODkwNiwgNTAuNzIwNjQ1NjQ4NzM0XSwgWy0xLjE2MDgzMDIwNTAxOTksIDUwLjcyMDY0NTYyODM1M10sIFstMS4xNjA4Mjg3NzI1MzE1LCA1MC43MjA2NDY1MTczMzJdLCBbLTEuMTYwODI3MzQwMDQzLCA1MC43MjA2NDc0MDYzMTJdLCBbLTEuMTYwODI0NDkxMTE5MSwgNTAuNzIwNjQ4Mjg1MTAxXSwgWy0xLjE2MDgyMzA1ODYzMDUsIDUwLjcyMDY0OTE3NDA4MV0sIFstMS4xNjA4MjE2MjYxNDE4LCA1MC43MjA2NTAwNjMwNl0sIFstMS4xNjA4MjAxOTM2NTMxLCA1MC43MjA2NTA5NTIwNF0sIFstMS4xNjA4MTg3NjExNjQ0LCA1MC43MjA2NTE4NDEwMl0sIFstMS4xNjA4MTczNDQ3Mjg4LCA1MC43MjA2NTE4MzA4MjldLCBbLTEuMTYwODE3MzI4Njc1NSwgNTAuNzIwNjUyNzI5OTk5XSwgWy0xLjE2MDgxNTg5NjE4NjcsIDUwLjcyMDY1MzYxODk3OV0sIFstMS4xNjA4MDU4MzY2NTYsIDUwLjcyMDY2MTY0MDE3Nl0sIFstMS4xNjA3Nzg0NzQ4NjIyLCA1MC43MjA2ODY2MjMzMTVdLCBbLTEuMTYwNzc3MDQyMzcxNSwgNTAuNzIwNjg3NTEyMjk0XSwgWy0xLjE2MDc3NTYwOTg4MDgsIDUwLjcyMDY4ODQwMTI3M10sIFstMS4xNjA3NzQxNzczOTAxLCA1MC43MjA2ODkyOTAyNTJdLCBbLTEuMTYwNzcyNzYwOTUzNSwgNTAuNzIwNjg5MjgwMDYxXSwgWy0xLjE2MDc3MTMyODQ2MjYsIDUwLjcyMDY5MDE2OTA0XSwgWy0xLjE2MDc2ODQ3OTUzNTEsIDUwLjcyMDY5MTA0NzgyN10sIFstMS4xNjA3NjU2MzA2MDc0LCA1MC43MjA2OTE5MjY2MTVdLCBbLTEuMTYwNzY0MjE0MTcwNywgNTAuNzIwNjkxOTE2NDIzXSwgWy0xLjE2MDc2MTM2NTI0MjksIDUwLjcyMDY5Mjc5NTIxMV0sIFstMS4xNjA3MzU2NjA2Njg0LCA1MC43MjA3MDQzMDA5NzZdLCBbLTEuMTYwNzA5MTQ5NzQ5NCwgNTAuNzIwNjgxNjI4MDY4XSwgWy0xLjE2MDcwOTE2NTgwNDgsIDUwLjcyMDY4MDcyODg5OF0sIFstMS4xNjA3MDc3NjU0MjM5LCA1MC43MjA2Nzk4MTk1MzVdLCBbLTEuMTYwNzA2MzY1MDQzMSwgNTAuNzIwNjc4OTEwMTczXSwgWy0xLjE2MDcwMjE2MzkwMDgsIDUwLjcyMDY3NjE4MjA4NV0sIFstMS4xNjA2OTc5NjI3NTksIDUwLjcyMDY3MzQ1Mzk5N10sIFstMS4xNjA2OTIzMjkxMjU5LCA1MC43MjA2NzE2MTQ4ODddLCBbLTEuMTYwNjkwOTI4NzQ1NiwgNTAuNzIwNjcwNzA1NTI0XSwgWy0xLjE2MDY4NTI5NTExMzIsIDUwLjcyMDY2ODg2NjQxNF0sIFstMS4xNjA2Nzk2Nzc1MzcxLCA1MC43MjA2NjYxMjgxMzNdLCBbLTEuMTYwNjIxODkyNjkzMiwgNTAuNzIwNjQ5NTI1MTU5XSwgWy0xLjE2MDU5NjUyNTMxNywgNTAuNzIwNjQyMTQ4MzE2XSwgWy0xLjE2MDU4MjQyNTE5NjgsIDUwLjcyMDYzODQ0OTY5OV0sIFstMS4xNjA1ODEwMjQ4MTk2LCA1MC43MjA2Mzc1NDAzMzVdLCBbLTEuMTYwNTc4MTkxOTQ5NiwgNTAuNzIwNjM3NTE5OTQ3XSwgWy0xLjE2MDU3NTM1OTA3OTYsIDUwLjcyMDYzNzQ5OTU2XSwgWy0xLjE2MDU3Mzk1ODcwMjYsIDUwLjcyMDYzNjU5MDE5Nl0sIFstMS4xNjA1NDY5MzQwMjkxLCA1MC43MjA2NDI2OTA3MDNdLCBbLTEuMTYwNTM3MTk1NjI4NSwgNTAuNzIwNjMyNzI4NDddLCBbLTEuMTYwNTM1Nzk1MjUyMywgNTAuNzIwNjMxODE5MTA1XSwgWy0xLjE2MDUzNDQxMDkzNDksIDUwLjcyMDYzMDAxMDU3XSwgWy0xLjE2MDUzMzI4MzU1NzMsIDUwLjcyMDYxMzgxNTMxXSwgWy0xLjE2MDUzMzMzMTczMzUsIDUwLjcyMDYxMTExNzc5OV0sIFstMS4xNjA1MzE5NDc0MTY4LCA1MC43MjA2MDkzMDkyNjRdLCBbLTEuMTYwNTMxOTYzNDc1NSwgNTAuNzIwNjA4NDEwMDk0XSwgWy0xLjE2MDUzMTk3OTUzNDMsIDUwLjcyMDYwNzUxMDkyM10sIFstMS4xNjA1MzA2MTEyNzY1LCA1MC43MjA2MDQ4MDMyMThdLCBbLTEuMTYwNTI5MjEwOTAxMywgNTAuNzIwNjAzODkzODUzXSwgWy0xLjE2MDUyOTIyNjk2MDEsIDUwLjcyMDYwMjk5NDY4M10sIFstMS4xNjA1Mjc4MjY1ODUsIDUwLjcyMDYwMjA4NTMxOF0sIFstMS4xNjA1MjY0MjYyMDk5LCA1MC43MjA2MDExNzU5NTRdLCBbLTEuMTYwNTI1MDI1ODM0OSwgNTAuNzIwNjAwMjY2NTg5XSwgWy0xLjE2MDUyMDgyNDcxMDIsIDUwLjcyMDU5NzUzODQ5NV0sIFstMS4xNjA1MTk0MDgyNzY1LCA1MC43MjA1OTc1MjgzXSwgWy0xLjE2MDUxODAwNzkwMTcsIDUwLjcyMDU5NjYxODkzNV0sIFstMS4xNjA1MTUxNzUwMzQyLCA1MC43MjA1OTY1OTg1NDZdLCBbLTEuMTYwNDk1MjQ4NjA1NCwgNTAuNzIwNjAxODUwODQ0XSwgWy0xLjE2MDQ5MzgxNjExMiwgNTAuNzIwNjAyNzM5ODE5XSwgWy0xLjE2MDQ5MDk2NzE4NDcsIDUwLjcyMDYwMzYxODZdLCBbLTEuMTYwNDg5NTUwNzUwNywgNTAuNzIwNjAzNjA4NDA1XSwgWy0xLjE2MDQ4NTIzNzIxMDQsIDUwLjcyMDYwNzE3NDUwMl0sIFstMS4xNjA0ODUyMjExNTA3LCA1MC43MjA2MDgwNzM2NzNdLCBbLTEuMTYwNDgyMzg4MjgyNiwgNTAuNzIwNjA4MDUzMjgzXSwgWy0xLjE2MDQ1NTkyNTcyMDksIDUwLjcyMDU4MjY4MjgwOF0sIFstMS4xNjA0NDE4MjU2Mjk4LCA1MC43MjA1Nzg5ODQxNzNdLCBbLTEuMTYwNDM4OTkyNzYzNSwgNTAuNzIwNTc4OTYzNzgyXSwgWy0xLjE2MDQyNDg3NjYxNDEsIDUwLjcyMDU3NjE2NDMxNl0sIFstMS4xNjA0MTc3OTQ0NDg2LCA1MC43MjA1NzYxMTMzMzhdLCBbLTEuMTYwNDEyMTQ0Nzc3MywgNTAuNzIwNTc1MTczMzg1XSwgWy0xLjE2MDM5OTQxMjk0MTEsIDUwLjcyMDU3NDE4MjQ1Ml0sIFstMS4xNjAzNzI1MDA3MTM5LCA1MC43MjA1NzM5ODg3MjddLCBbLTEuMTYwMzQ4Mzg5MjI4NSwgNTAuNzIwNTc1NjEzNzI5XSwgWy0xLjE2MDM0NDEzOTkyOTQsIDUwLjcyMDU3NTU4MzE0XSwgWy0xLjE2MDMzOTg5MDYzMDMsIDUwLjcyMDU3NTU1MjU1XSwgWy0xLjE2MDMzNTYyNTI2ODcsIDUwLjcyMDU3NjQyMTEzXSwgWy0xLjE2MDMzMTM3NTk2OTUsIDUwLjcyMDU3NjM5MDU0XSwgWy0xLjE2MDMxNzIyNzcwMTgsIDUwLjcyMDU3NTM4OTQwMl0sIFstMS4xNjAzMDg3MjkxMDM3LCA1MC43MjA1NzUzMjgyMl0sIFstMS4xNjAyNDM3NjU5NTY0LCA1MC43MjA1NjQwNjkwOTZdLCBbLTEuMTYwMjA3MDgzMjkyMSwgNTAuNzIwNTU1NzExNDE2XSwgWy0xLjE2MDIwMTQzMzYyNzUsIDUwLjcyMDU1NDc3MTQ1Ml0sIFstMS4xNjAxOTU3ODM5NjMyLCA1MC43MjA1NTM4MzE0ODldLCBbLTEuMTYwMTg4NzMzOTMyMiwgNTAuNzIwNTUxOTgyMTU2XSwgWy0xLjE2MDE4MzA4NDI2ODUsIDUwLjcyMDU1MTA0MjE5Ml0sIFstMS4xNjAxNTA1NTQ1MjUxLCA1MC43MjA1NDgxMTAxMV0sIFstMS4xNjAxNDc3Mzc3MjY5LCA1MC43MjA1NDcxOTA1NDJdLCBbLTEuMTYwMTQ0OTA0ODYyNywgNTAuNzIwNTQ3MTcwMTQ0XSwgWy0xLjE2MDE0MjA3MTk5ODUsIDUwLjcyMDU0NzE0OTc0Nl0sIFstMS4xNjAxNDA2NzE2MzI1LCA1MC43MjA1NDYyNDAzNzddLCBbLTEuMTYwMTM3ODM4NzY4NCwgNTAuNzIwNTQ2MjE5OTc5XSwgWy0xLjE2MDEzNTAwNTkwNDIsIDUwLjcyMDU0NjE5OTU4MV0sIFstMS4xNjAxMzIxODkxMDY0LCA1MC43MjA1NDUyODAwMTJdLCBbLTEuMTYwMTIwODU3NjUsIDUwLjcyMDU0NTE5ODQxOV0sIFstMS4xNjAxMTUxNzU4NTUyLCA1MC43MjA1NDYwNTY3OTJdLCBbLTEuMTYwMTEyMzQyOTkxMSwgNTAuNzIwNTQ2MDM2MzkzXSwgWy0xLjE2MDEwOTQ5NDA2MDEsIDUwLjcyMDU0NjkxNTE2NF0sIFstMS4xNjAxMDY2NDUxMjkxLCA1MC43MjA1NDc3OTM5MzZdLCBbLTEuMTYwMTAzODEyMjY0OSwgNTAuNzIwNTQ3NzczNTM3XSwgWy0xLjE2MDEwMjM3OTc2NTgsIDUwLjcyMDU0ODY2MjUwN10sIFstMS4xNjAwOTk1NDY5MDE2LCA1MC43MjA1NDg2NDIxMDhdLCBbLTEuMTYwMDk2Njk3OTcwMiwgNTAuNzIwNTQ5NTIwODhdLCBbLTEuMTYwMDkzODQ5MDM4OCwgNTAuNzIwNTUwMzk5NjUxXSwgWy0xLjE2MDA5MTAwMDEwNzMsIDUwLjcyMDU1MTI3ODQyMl0sIFstMS4xNjAwODk1Njc2MDc5LCA1MC43MjA1NTIxNjczOTJdLCBbLTEuMTU5ODY0Nzg4ODIxNiwgNTAuNzIwNTI2MjY3ODMzXSwgWy0xLjE1OTg3NTI2NjMzNTMsIDUwLjcyMDQ5NDg2ODI5Ml0sIFstMS4xNTk4OTAxNjk5MDM3LCA1MC43MjA0NTM2MDg0ODRdLCBbLTEuMTU5OTA2NzQ3MDAzLCA1MC43MjAzOTc5NzIxNTJdLCBbLTEuMTU5OTIzNDM2NTUzOSwgNTAuNzIwMzM2MDQxNjI1XSwgWy0xLjE1OTk0Mjk5MTA0NzEsIDUwLjcyMDI3MjMzMzE1N10sIFstMS4xNTk5NTA3NDgwOTIsIDUwLjcyMDIzNDYxOTAxMl0sIFstMS4xNTk5NjQyOTkzNjUsIDUwLjcyMDE4OTc1MjMxXSwgWy0xLjE1OTk4MjM4OTExMzMsIDUwLjcyMDEyODczMTE0M10sIFstMS4xNTk5OTkxNTg4MDc5LCA1MC43MjAwNjIzMDQ3NDldLCBbLTEuMTYwMDA5OTczNTYxMiwgNTAuNzIwMDEyMDIyNjE2XSwgWy0xLjE2MDAyMDY3NTgxMzcsIDUwLjcxOTk2ODAzNDY3NF0sIFstMS4xNjAwNTg5MTE1NTksIDUwLjcxOTczMDg5ODUwNl0sIFstMS4xNjAwNjg1OTg5Njk0LCA1MC43MTk2NjQ0MjEwOThdLCBbLTEuMTYwMTE4NTQ1Nzg5NiwgNTAuNzE5MjQ3NTEyMDA2XSwgWy0xLjE2MDEyMzY0NjQ1NDQsIDUwLjcxOTE5OTg4NjU2OV0sIFstMS4xNjAxNTg4MTc5ODk3LCA1MC43MTg4MTcwNDM5MTJdLCBbLTEuMTYwMTYzNTk3MjY2OSwgNTAuNzE4Nzg3NDAxODhdLCBbLTEuMTYwMTg0MzE1Mjk3OCwgNTAuNzE4NDIwNjQyMjddLCBbLTEuMTYwMTg3NDI4OTk0MSwgNTAuNzE4MTY3MDY1OTU3XSwgWy0xLjE2MDE4NzM0NTk0MDMsIDUwLjcxODA5MjQyNDU5NV0sIFstMS4xNjAxODE0MDE5NjczLCA1MC43MTc5NDkzOTUyN10sIFstMS4xNjAxNzE3NTUxNTM3LCA1MC43MTc3NzU3NjM1NDRdLCBbLTEuMTYwMTQ4MzYyNjQzOCwgNTAuNzE3NTc4NjUxMzg4XSwgWy0xLjE2MDExNjY2NTA3ODMsIDUwLjcxNzM3MDY4Nzk4MV0sIFstMS4xNjAwNjA0Njk5MjAyLCA1MC43MTcxMDY3OTIzODJdLCBbLTEuMTYwMTIyODg0NzU3MywgNTAuNzE3MTAxODQ2MTE5XSwgWy0xLjE2MDIzNjkxMzgyNzgsIDUwLjcxNzA2MjE5OTI3OF0sIFstMS4xNjAzMTk0NzgzODE2LCA1MC43MTcwMzk0MTIyNTRdLCBbLTEuMTYwMzY5MzA2NzY0OCwgNTAuNzE3MDI1MzgyMzgzXSwgWy0xLjE2MDM2Mzc1Mzg4MDEsIDUwLjcxNzAxOTA0NzQwM10sIFstMS4xNjAyNzE5NjI4NDk4LCA1MC43MTY5MjM5NjE1MDNdLCBbLTEuMTYwMjIzNDUxNjc0NCwgNTAuNzE2ODY0MjU5MzI0XSwgWy0xLjE2MDI0NzQ0NTk2MiwgNTAuNzE2Nzg5NzkxM10sIFstMS4xNjAyNTg1OTY5NTE4LCA1MC43MTY3MjA2MjY1MjNdLCBbLTEuMTYwMjg4OTE0ODcyNCwgNTAuNzE2NjA5MzMzMjY5XSwgWy0xLjE2MDMzMzYwNDUzLCA1MC43MTY0ODY0NTI3NDRdLCBbLTEuMTYwMzk0MjM5NTU0MSwgNTAuNzE2MjYzODY2MTc1XSwgWy0xLjE2MDQwMjIzNjQxNzgsIDUwLjcxNjIxMjY2NDQwNV0sIFstMS4xNjAzOTg0NjkyNzY2LCA1MC43MTYxODU2NTg2ODldLCBbLTEuMTYwMzU1MzM0ODE0MywgNTAuNzE2MTQyMTgyNDJdLCBbLTEuMTYwMjQ2MTY0NDU1OCwgNTAuNzE2MDY4NTU0MjQ2XSwgWy0xLjE2MDE2NzYwNDAzODYsIDUwLjcxNTk0NjU4NDkwMl0sIFstMS4xNjAxMzg1MDQ0MjAzLCA1MC43MTU5MTA0MDM4OTldLCBbLTEuMTYwMDU4NzM5NjYzOCwgNTAuNzE1ODU1ODcyMzA1XSwgWy0xLjE2MDAzMDk5MjIxMjMsIDUwLjcxNTgyMzI5ODE1OV0sIFstMS4xNjAwMjI4MzE4NTQ5LCA1MC43MTU4MDQzNTQzNzFdLCBbLTEuMTYwMDIzNzc5NzMyMiwgNTAuNzE1NzUxMzAzMjgzXSwgWy0xLjE2MDAxNDA5MDY0MTgsIDUwLjcxNTczODY0MzQ5MV0sIFstMS4xNTk5OTE2ODcxMDg1LCA1MC43MTU3MjQwOTM1NTVdLCBbLTEuMTU5OTU1MTA0NjU5OCwgNTAuNzE1NzEwMzQwNzhdLCBbLTEuMTU5OTIyNjEwNDE0LCA1MC43MTU3MDU2MTAzMDddLCBbLTEuMTU5ODQ3NDY2OTA2MiwgNTAuNzE1NzA5NTY1NDg1XSwgWy0xLjE1OTgxMDgyMDIzMjUsIDUwLjcxNTY5OTQwOTM1XSwgWy0xLjE1OTc2ODcxNzM0OTUsIDUwLjcxNTY3NzUyMzE2OV0sIFstMS4xNTk3MzkzOTMyMDg3LCA1MC43MTU2NTM5MzA0NjFdLCBbLTEuMTU5NjE1MTkwNTE1NCwgNTAuNzE1NDcwNDgwNDA3XSwgWy0xLjE1OTU1MzMyMjYwOTgsIDUwLjcxNTM2NTcxNzM1Ml0sIFstMS4xNTk1MTAyMDU3NTE5LCA1MC43MTUzMjEzNDE2XSwgWy0xLjE1OTM3NDQ1MTAwNSwgNTAuNzE1MjI5NTM1MjgxXSwgWy0xLjE1OTM2Mzc0Nzg3NTIsIDUwLjcxNTE5NDM4NTk1NF0sIFstMS4xNTkzNzQ5OTQ3OTY5LCA1MC43MTUwNDA2ODg5NzFdLCBbLTEuMTU5MzM3NjY5MzUxNywgNTAuNzE0ODMwODg2MTE1XSwgWy0xLjE1OTMyMjc4MTg3NTYsIDUwLjcxNDc5MjEwOTQ3NF0sIFstMS4xNTkyODQxODc4NzQ3LCA1MC43MTQ3MzI0NzgzNTZdLCBbLTEuMTU5MTc0MjMzMzcyLCA1MC43MTQ2MjM3NzEzMDldLCBbLTEuMTU5MTM1NDQ2NzExOCwgNTAuNzE0NTc0OTMwMTkyXSwgWy0xLjE1OTEwMzgyMTc5NjEsIDUwLjcxNDUyMTY0NDI2M10sIFstMS4xNTkwMTgzNjE3NDI2LCA1MC43MTQzMTA1OTQ5NDddLCBbLTEuMTU4OTc3OTgyMzI0LCA1MC43MTQyNzE2MzQ0NDddLCBbLTEuMTU4NzMzNDA2MDYxLCA1MC43MTQwODczMTUzNF0sIFstMS4xNTg2NzA3ODU5MTU4LCA1MC43MTQxMDM5NTAxMDJdLCBbLTEuMTU4NjU3MDc0MzI1MSwgNTAuNzE0MTU3ODA4NDEzXSwgWy0xLjE1ODU4OTcyMjU3MzgsIDUwLjcxNDIwMTM4NzYwOV0sIFstMS4xNTg1NTY5NzIwMjU3LCA1MC43MTQyMTEwNDM0OTRdLCBbLTEuMTU4NTE0NzI2MjE0MSwgNTAuNzE0MTk3MjQ5NDAyXSwgWy0xLjE1ODQwNzkxMjg0NywgNTAuNzE0MTUwNjE1MDgxXSwgWy0xLjE1ODIyMTI3NTcyNzMsIDUwLjcxNDA1MzA0NDUwMl0sIFstMS4xNTc5NDYwMTM1NDQyLCA1MC43MTM4NDI0MjI5MjhdLCBbLTEuMTU4MDgwMTUzNTA4OSwgNTAuNzEzNzg2NzM2MjE0XSwgWy0xLjE1ODExNjY4NjI3MjksIDUwLjcxMzcyNDA0OTgyN10sIFstMS4xNTgwNzg5NDg3ODI5LCA1MC43MTM1Mzc2MjQ5OTVdLCBbLTEuMTU3OTgwNTIxOTMxOSwgNTAuNzEzNDk3MzQ1ODJdLCBbLTEuMTU3ODcyOTg1OTM0NCwgNTAuNzEzNDkxMTczNzAxXSwgWy0xLjE1Nzc5NTk0NjM4MzUsIDUwLjcxMzUyMjA5MjQ3NF0sIFstMS4xNTc3NDIzODc3NzA3LCA1MC43MTM1MDczMTcxMjFdLCBbLTEuMTU3Njc0MDU0ODUwMiwgNTAuNzEzNTI2NjA3OTU1XSwgWy0xLjE1NzYyMDM4MzQ5ODUsIDUwLjcxMzUxODEyNjc0Ml0sIFstMS4xNTc0OTc3MTg1NDg3LCA1MC43MTM1NjU4MDIyMzZdLCBbLTEuMTU3MzcyODAxMDUzNCwgNTAuNzEzNTgxMDg2OTldLCBbLTEuMTU3Mjk0MzE0NjE5NiwgNTAuNzEzNTM0NjU2Mjg1XSwgWy0xLjE1NzE5OTU3Mjk2NTUsIDUwLjcxMzUyNTg3ODEyNl0sIFstMS4xNTcxNTA1Njk0NjQzLCA1MC43MTM0OTQwNDg5NjFdLCBbLTEuMTU3MDY5Nzk2NjUwOCwgNTAuNzEzNDk2MTYzMDg3XSwgWy0xLjE1Njk1MTAyNTE1NTksIDUwLjcxMzU2MzY1MDQ2M10sIFstMS4xNTY4NDg4MTU0MDU2LCA1MC43MTM1NzY0MDA5MjldLCBbLTEuMTU2NzU3Mjc3MTE1NSwgNTAuNzEzNTQ2OTYxOTY0XSwgWy0xLjE1NjY1OTA3NzE5NDIsIDUwLjcxMzQ5NDA5MzI5XSwgWy0xLjE1NjU3NjUzNjUyOSwgNTAuNzEzNDM2ODQxMzM4XSwgWy0xLjE1NjUyOTAzMDQxNjYsIDUwLjcxMzQwMDUyNjMwMl0sIFstMS4xNTY0NjEzNDI0NjI4LCA1MC43MTMzODM4NDk2MDNdLCBbLTEuMTU2NDQxMjI4NTQwNSwgNTAuNzEzMzIwNzU0MDI0XSwgWy0xLjE1NjM5NTM5NzAwMDYsIDUwLjcxMzI3MDA2MjQ0OF0sIFstMS4xNTYzMzM5Mzg4NDU5LCA1MC43MTMyMjE5NTU2ODFdLCBbLTEuMTU2MjkzOTQ5ODQyMywgNTAuNzEzMTYxNDE0MTY3XSwgWy0xLjE1NjIyNzA2OTE1ODUsIDUwLjcxMzA5OTc3ODgwN10sIFstMS4xNTYxNTE1MzAwNDEzLCA1MC43MTMwNDcwNzM2MzVdLCBbLTEuMTU2MDk0Mjg4NzU3NSwgNTAuNzEzMDAwNzk1ODIzXSwgWy0xLjE1NjAzMzU1MzQyNDgsIDUwLjcxMjk5MTM2MzQ3N10sIFstMS4xNTU5ODQwMTg2MDY1LCA1MC43MTI5ODkyMDY0NTFdLCBbLTEuMTU1OTM3NDkzNzYzNiwgNTAuNzEyOTc3MTc5MDI3XSwgWy0xLjE1NTkwNzI3MzU5NTYsIDUwLjcxMjkyNDgwMTY1OF0sIFstMS4xNTU4OTM4MzgwMjU4LCA1MC43MTI4ODQyMzY0OTJdLCBbLTEuMTU1ODU2MTQ5NTI0NywgNTAuNzEyODUzMzg3OTUzXSwgWy0xLjE1NTc3MTk2ODcyODYsIDUwLjcxMjgwODcxMzU3Ml0sIFstMS4xNTU1NjUxNDQyNzQ4LCA1MC43MTI3MzE2NzYxNzZdLCBbLTEuMTU1MzY5NTY5Mjc3MiwgNTAuNzEyNjU5MjE2MzE1XSwgWy0xLjE1NTM1NjAwNTAxOTgsIDUwLjcxMjYyNTg0NDQ1MV0sIFstMS4xNTUzNzE1MDc2MjY5LCA1MC43MTI1NTEzMTU4NjhdLCBbLTEuMTU1MzcyMTIxNDM1MSwgNTAuNzEyNTE3MTQ3MzkyXSwgWy0xLjE1NTM2MTI3NjUxOTMsIDUwLjcxMjQ5MDA5MDIzM10sIFstMS4xNTUyODg3ODE3MzAzLCA1MC43MTI0MjU3MTU4MDNdLCBbLTEuMTU1MjU2OTA0MTI2MSwgNTAuNzEyMzg2ODE1NTY1XSwgWy0xLjE1NTI1MDI2NDg1MzYsIDUwLjcxMjI4MzM0OTQyNV0sIFstMS4xNTUyNTIxODcyOTYzLCA1MC43MTIxNzYzNDgxNDRdLCBbLTEuMTU1MjAyMTkwMzk1NCwgNTAuNzEyMTIxMTI5NDc4XSwgWy0xLjE1NDg5MDk4MzEzMTYsIDUwLjcxMTk0MTcxNTI1N10sIFstMS4xNTQ4MjgwMTUxMDAzLCA1MC43MTE4OTg5OTI0NjFdLCBbLTEuMTU0NzMzOTc4NjI2NywgNTAuNzExNzcyNDEwNzMzXSwgWy0xLjE1NDcxMjMwNjA0MTksIDUwLjcxMTcxNzM5NzEyM10sIFstMS4xNTQ3MDk1NDQ3MzMzLCA1MC43MTE2MzQ2NDI2NTZdLCBbLTEuMTU0NjI2MjA3ODY3MywgNTAuNzExNTQzMjEwNTkzXSwgWy0xLjE1NDY4ODE4NTc3MzEsIDUwLjcxMTQ4MzQwNzU0M10sIFstMS4xNTQ3MzQ0NTY0OTgzLCA1MC43MTE0MzA2ODQ5MjZdLCBbLTEuMTU0Nzg3MjgwNzE5NCwgNTAuNzExMzI4NTQ4OTY2XSwgWy0xLjE1NDgxOTIyODA0NDYsIDUwLjcxMTI4NDcxNTM4OV0sIFstMS4xNTQ3OTMxNjE2NjEyLCA1MC43MTEyMzc3NjM1MzddLCBbLTEuMTU0NzU4OTA1NTUyMywgNTAuNzExMTczNjY1ODYzXSwgWy0xLjE1NDcwMjYzNzc5NzUsIDUwLjcxMTA3MzQzNzE0MV0sIFstMS4xNTQ2OTY1NDMxMzQ1LCA1MC43MTEwMTg1MzY0MjNdLCBbLTEuMTU0NzU4MDkwMDk0NSwgNTAuNzEwOTAzODczNjYyXSwgWy0xLjE1NDgyMzE1Nzg1MzksIDUwLjcxMDgyOTcwNDMyNl0sIFstMS4xNTQ4ODE5NjI5MDIxLCA1MC43MTA3ODg3NjMyMTddLCBbLTEuMTU0OTAzODE5MDU0MiwgNTAuNzEwNzU0NzQ4NjU2XSwgWy0xLjE1NDg3MzY4MjI0NzEsIDUwLjcxMDY5Nzg3NTE1OV0sIFstMS4xNTQ4MjExMjk4NDAyLCA1MC43MTA2MjczNDk5MDJdLCBbLTEuMTU0NzM5OTMxNzMyMywgNTAuNzEwNTc0NjAyNzcyXSwgWy0xLjE1NDcwNzg3ODAxMjgsIDUwLjcxMDU0NTU5MzI1Nl0sIFstMS4xNTQ2OTU3Nzk0Mzk2LCA1MC43MTA1MDk1MzQwNl0sIFstMS4xNTQ3MzMwODM2NzU2LCA1MC43MTA0ODI4MjU3OTRdLCBbLTEuMTU0ODE2OTc0NTY5LCA1MC43MTA0NjQ1NDg3MTVdLCBbLTEuMTU0NzU4OTUxOTY3NiwgNTAuNzEwMzgzMTkyMzMyXSwgWy0xLjE1NDc0OTQ0MzE4ODUsIDUwLjcxMDM2MDY0MTIyNl0sIFstMS4xNTQ3ODU0NjA0NTUsIDUwLjcxMDMyNjcyOTMxNF0sIFstMS4xNTQ4NTgxMTkwNDQ0LCA1MC43MTAzMDI5NzUwNzhdLCBbLTEuMTU0ODczNTYzMDM4MiwgNTAuNzEwMTUyOTA1OTM1XSwgWy0xLjE1NDg3NjAxOTUwMjUsIDUwLjcxMDAxNjIzMTk5M10sIFstMS4xNTQ4MzYzODQ1MDQ4LCA1MC43MTAwMTUwNDU0OTRdLCBbLTEuMTU0Nzc5NzU2MTU2NCwgNTAuNzEwMDEzNzM1ODMyXSwgWy0xLjE1NDcxNDQzNzE2NzcsIDUwLjcxMDAyMzE1NDYxXSwgWy0xLjE1NDY1MzczODI5MTQsIDUwLjcxMDAxMTkyMzIxOV0sIFstMS4xNTQ2Mjc1MjcyNzM3LCA1MC43MDk5NzMwNjM4Nl0sIFstMS4xNTQ1ODEyMzg2MzA5LCA1MC43MDk4NjkzMTAyMzVdLCBbLTEuMTU0NTQxMDI4MzUyLCA1MC43MDk4MjEzNTY0OTldLCBbLTEuMTU0NTM4NzQ1ODIzOSwgNTAuNzA5NzkwNzY0MTY2XSwgWy0xLjE1NDU1MDU5MjAxNDYsIDUwLjcwOTc2MjA3MjgyOV0sIFstMS4xNTQ1NjkzNTcwNDU5LCA1MC43MDk3NDI0MjQ1MjNdLCBbLTEuMTU0NjY4MTE4OTYyNywgNTAuNzA5Njg0Njg2Njg0XSwgWy0xLjE1NDY3MDk5OTY2MjEsIDUwLjcwOTY4MjAwOTddLCBbLTEuMTU0NzU1MzQxNzA5OCwgNTAuNzA5NjM4NTU1ODc2XSwgWy0xLjE1NDc4NDY0OTY0NTUsIDUwLjcwOTU4MzkxMTcxNl0sIFstMS4xNTQ3NTk4NDQ5MTk3LCA1MC43MDk0NjY4MjQ1M10sIFstMS4xNTQ3MTg2NTUxMTgzLCA1MC43MDkzOTQ1ODI5NzldLCBbLTEuMTU0NTg4Mzc0NDY4MywgNTAuNzA5MzkzNjM4Njg0XSwgWy0xLjE1NDUxMjM3NDI1MTMsIDUwLjcwOTM2NzAwODQwNl0sIFstMS4xNTM3ODE1MzI5NjY4LCA1MC43MDk0NDgwMzk2MTRdLCBbLTEuMTUzNTkwMzI3NzM0NywgNTAuNzA5NDQ4NDUwNzE3XSwgWy0xLjE1MzQ0NzQ4MDE4MzMsIDUwLjcwOTQzNzUyMTc3N10sIFstMS4xNTMzNjk3NTY4NTkyLCA1MC43MDk0Mjc5NjQ3MTZdLCBbLTEuMTUzMTMzOTk3ODAxLCA1MC43MDkzODU3ODUxMDRdLCBbLTEuMTUzMDQ0OTk0NDcyMSwgNTAuNzA5MzczNDQ4MDU2XSwgWy0xLjE1MjU2ODUzMjg1OTksIDUwLjcwOTMyNzcyMDVdLCBbLTEuMTUyNDE0NTY3ODk5MiwgNTAuNzA5MzA1MDE4NzY5XSwgWy0xLjE1MTk0MDE1NjE2MDksIDUwLjcwOTIyNDIzMTMwNV0sIFstMS4xNTE2MjIyMTc3NTM1LCA1MC43MDkxODQxNDg5XSwgWy0xLjE1MTIxOTExNTk3MzMsIDUwLjcwOTA3NTk5OTI2Ml0sIFstMS4xNTEwMjQzMjk2Mjg2LCA1MC43MDkwMzk1MDkyNzhdLCBbLTEuMTUwMzMxMTk2OTE1NywgNTAuNzA4OTkzMDk0NDMxXSwgWy0xLjE0OTg3OTUxNDI3MDQsIDUwLjcwODkwODg2Njk5M10sIFstMS4xNDk4MDM2ODAxMTE2LCA1MC43MDg4NzMyNDE5NjNdLCBbLTEuMTQ5NzI5MzEwOTE5NSwgNTAuNzA4ODM0OTI5Njk5XSwgWy0xLjE0OTM3NTM1NDIwNTcsIDUwLjcwODU5NDAzNzI4MV0sIFstMS4xNDkzNTE3NTI3NTYzLCA1MC43MDg1Njc3ODU3ODJdLCBbLTEuMTQ5MzMzOTI5NDYxLCA1MC43MDg1MzUyODE0MDZdLCBbLTEuMTQ5MzE1MjkxMDg5MSwgNTAuNzA4MzkxMjU5MzM1XSwgWy0xLjE0OTM1ODEyNjkxNywgNTAuNzA4MDU4ODM1MDk3XSwgWy0xLjE0OTMwMDY4NjAzODIsIDUwLjcwNzk0NjAwNTA4Nl0sIFstMS4xNDkyNTE5ODU3MTA1LCA1MC43MDc4MTk3NDk0NzZdLCBbLTEuMTQ5MDEwOTgxMTE4NiwgNTAuNzA3NzU1MDQxMDExXSwgWy0xLjE0ODc3MDYyODI0ODIsIDUwLjcwNzY1NDM2NTI2Nl0sIFstMS4xNDg0OTE5Mjg5OTY4LCA1MC43MDc2Mzc5NDIxN10sIFstMS4xNDc5ODIxNTUwNiwgNTAuNzA3NjM0MjE5MTM4XSwgWy0xLjE0NzkzNDE4ODk2NDUsIDUwLjcwNzYyMzk3NjUzOV0sIFstMS4xNDc4ODc4MDE4NTk4LCA1MC43MDc2MDQ3NTI1NzNdLCBbLTEuMTQ3ODUxNDQxMTA5MywgNTAuNzA3NTc5MzA2ODI3XSwgWy0xLjE0NzgzMjA1NjUzNzEsIDUwLjcwNzU1NDg4NDQwMV0sIFstMS4xNDc4MTk5MzE0MDA0LCA1MC43MDc1MjA2MjI4NDJdLCBbLTEuMTQ3NjYzMjc4NTM4MywgNTAuNzA3MjU1OTg2NTU4XSwgWy0xLjE0NzU5NjYyOTQyMSwgNTAuNzA3MTgyNjU3MDc5XSwgWy0xLjE0NzU1MTk1MjMwMTQsIDUwLjcwNzE0NzI1ODI4XSwgWy0xLjE0NzQ2MjIyMzM0MDcsIDUwLjcwNzA5NzE0MTUyN10sIFstMS4xNDY5NDg4MTY4NzUsIDUwLjcwNjkwMzYzNzUxMl0sIFstMS4xNDYxNjM5NDkyMTI2LCA1MC43MDc4NTU2MzYzODVdLCBbLTEuMTQ2MDQ0NDY5ODcyLCA1MC43MDgwNDAwMTUwMzhdLCBbLTEuMTQ1OTcxNjMzMTAwMiwgNTAuNzA4MzA3NDY5NjYzXSwgWy0xLjE0NTkwNjEyMDc4NjYsIDUwLjcwODU2MTQ4ODU0NV0sIFstMS4xNDU4MTMzMTAzNDk4LCA1MC43MDg4MzY4OTAzNzRdLCBbLTEuMTQ1NzQ3NzgwMDczOSwgNTAuNzA5MDkxODA4MzA1XSwgWy0xLjE0NTcyMzA5MjA2ODUsIDUwLjcwOTI4MTM3NzMxMV0sIFstMS4xNDU4NTYyOTI1MTE3LCA1MC43MDk0MzM0MzMzMzNdLCBbLTEuMTQ1OTI4NzY0OTc3LCA1MC43MDk1NzYwNTE2MTldLCBbLTEuMTQ1OTY3NzA4NzMzOCwgNTAuNzA5NjkzMjQ0MjddLCBbLTEuMTQ1OTkwNjk1MjY1OSwgNTAuNzA5OTA5MjQxNzY1XSwgWy0xLjE0NjAyNDE0NTM5NTQsIDUwLjcxMDE3Mjk3ODEzNl0sIFstMS4xNDYwMTk5OTA0MDUyLCA1MC43MTAyNDU3OTAwNTRdLCBbLTEuMTQ1OTI3NDc0MTAxOCwgNTAuNzExNTE4NTA0NDk0XSwgWy0xLjE0NTkyNjQ0Nzc1MjksIDUwLjcxMjU4ODY0OTU2M10sIFstMS4xNDU5Njg4ODk2MTY4LCA1MC43MTM4Mzg5NzAyNjZdLCBbLTEuMTQ2MTg2MTMzMzgsIDUwLjcxNTEzNTUzNDgyM10sIFstMS4xNDUxMTkwNzE4MDgzLCA1MC43MTUwODM2NTM0MjddLCBbLTEuMTQxNzc2MzE2MzM0NywgNTAuNzE0NzY5NTMzNjIxXSwgWy0xLjE0MTE0NTM4NzUzMDksIDUwLjcxNDY0Nzk4MTkxNl0sIFstMS4xNDA1NDU3NTA4ODYxLCA1MC43MTQ1MTk0NjMwNzhdLCBbLTEuMTM5NjE2NjkyMjUzOCwgNTAuNzE0MjgwNTk2OTU5XSwgWy0xLjEzOTE4NjE1NjI2MjQsIDUwLjcxNDIwMDA4MTM4NV0sIFstMS4xMzkwNTIwMDkzMDQyLCA1MC43MTQxNzc1MDgzMTRdLCBbLTEuMTM4ODM5ODUzODU3OSwgNTAuNzE0MzkyNjcwNDJdLCBbLTEuMTM4NTg3Njk1NjE4MSwgNTAuNzE0NjI2NDIxNzM5XSwgWy0xLjEzODQxMjY4ODEzMzQsIDUwLjcxNDgyMzg3MTY2Ml0sIFstMS4xMzgzMzU4NjM0MjY4LCA1MC43MTQ5MTk1Mjc5MTNdLCBbLTEuMTM4MjY3NjM0ODM4OSwgNTAuNzE1MDA5ODUxODk3XSwgWy0xLjEzODIxNzcxODQ3MDMsIDUwLjcxNTEwNTcwNjg3Nl0sIFstMS4xMzgxNTc1MjQwNzQ3LCA1MC43MTUyOTg2MDg5NjJdLCBbLTEuMTM4MTI4MDk0MzA2MywgNTAuNzE1MzU4NjQzNzcxXSwgWy0xLjEzODA4ODk4MTM2OCwgNTAuNzE1NDA2MDE2OTg1XSwgWy0xLjEzODAxMTM4MTc0ODEsIDUwLjcxNTQ2NjU5NTA2OF0sIFstMS4xMzc4Njc4NzQ4NzE1LCA1MC43MTU1NjgwNTMxNzhdLCBbLTEuMTM3ODI5MDkxMzAwMSwgNTAuNzE1NTk3NDQyOTg0XSwgWy0xLjEzNzc5Njg5MDQ0OCwgNTAuNzE1ODA4NTM3NTU3XSwgWy0xLjEzNzc5NjIzMDgwNzksIDUwLjcxNTg0NDUwNDE4OV0sIFstMS4xMzc4NzkxMTM1Nzk1LCA1MC43MTU5NTkzMjYzOTldLCBbLTEuMTM3OTE1OTAyMjc3NiwgNTAuNzE2MDM4NzM1NjM5XSwgWy0xLjEzNzkzNTA3MDc3MTMsIDUwLjcxNjA3NDg0ODgyNV0sIFstMS4xMzc5MTQyNTMzODkyLCA1MC43MTYxMjg2NTIyMTZdLCBbLTEuMTM3ODk0NDA3MDM5LCA1MC43MTYyMDY3NDM1NDZdLCBbLTEuMTM3OTEwODIzNjc0NSwgNTAuNzE2MzE1Njc4NjkxXSwgWy0xLjEzNzkzODI1OTIxOTIsIDUwLjcxNjM2NDQ0MzAwN10sIFstMS4xMzc5MzY2MTAzNTQ2LCA1MC43MTY0NTQzNTk1NzldLCBbLTEuMTM3OTE2NzQ3NDA4MSwgNTAuNzE2NTMzMzUwMDc0XSwgWy0xLjEzNzg4NzMxNjU0MDEsIDUwLjcxNjU5MzM4NDgwM10sIFstMS4xMzc4Mjc5Mjg3NzY5LCA1MC43MTY2NjQ4ODg4MjJdLCBbLTEuMTM3Nzc5NjQwNDE4MiwgNTAuNzE2NzQ5MDY0ODg5XSwgWy0xLjEzNzc1OTM0ODI3NzcsIDUwLjcxNjg1MTQzMzY1N10sIFstMS4xMzc3NDgyMTM2NDI3LCA1MC43MTY5MTc4OTg2MThdLCBbLTEuMTM3NzA4NjUzNjg1NCwgNTAuNzE2OTg5NTQ5MTU1XSwgWy0xLjEzNzY2OTQwNjk5NTEsIDUwLjcxNzA0NDExNTUzMV0sIFstMS4xMzc1NjMzOTUyMjQ1LCA1MC43MTcxMDg5Nzk2NzddLCBbLTEuMTM3MzE1MDkwOTE1NywgNTAuNzE3MjA4NzYyODQ4XSwgWy0xLjEzNzI0OTY5MjUyMDEsIDUwLjcxNzIyMTc2ODQyM10sIFstMS4xMzcwNDQ4MDEwOTY1LCA1MC43MTcyNzE1MTIwMzldLCBbLTEuMTM2OTY3MzQ4OTM3MiwgNTAuNzE3MjQ2NjU4MTk2XSwgWy0xLjEzNjkxOTI1OTk1MjUsIDUwLjcxNzI0MjcwNTIwM10sIFstMS4xMzY4Njk2MzkwODU0LCA1MC43MTcyNDUwMzU4NjZdLCBbLTEuMTM2NzkyNzQ0ODEzNCwgNTAuNzE3MjY2OTQ4OTg4XSwgWy0xLjEzNjU5OTc1NzM5OTQsIDUwLjcxNzM2MjY0MzU4Nl0sIFstMS4xMzYzNzMxNjE1MzQ4LCA1MC43MTczNjAwNjY2NzVdLCBbLTEuMTM2MjkxMzI4NDQ1OSwgNTAuNzE3MzQyMzc0MjQ1XSwgWy0xLjEzNjE4Nzc1NDg0NjcsIDUwLjcxNzM1MTQ5OTM3MV0sIFstMS4xMzYwODQxNjQ2ODM4LCA1MC43MTczNjE1MjM1NzFdLCBbLTEuMTM2MDEyOTM1MTcyMSwgNTAuNzE3MzgzNDc4MTM3XSwgWy0xLjEzNTM5MDI1MTc5MDYsIDUwLjcxNzUwNTY2MzM5N10sIFstMS4xMzUzMjcwMTMwNTg4LCA1MC43MTc0NzgyMTU5NjVdLCBbLTEuMTM1MjY4MDE3MjUwMiwgNTAuNzE3NTI4MTM4Njg2XSwgWy0xLjEzNTIxNzg0MzkxOTMsIDUwLjcxNzYzNzQ3OTc2OV0sIFstMS4xMzUwMTQ0NTc2MTc1LCA1MC43MTc3NTkxNzM5ODRdLCBbLTEuMTM0OTg0MTY4NDg2LCA1MC43MTc3ODg2MjU4MzhdLCBbLTEuMTM0ODcxOTQyODM2NiwgNTAuNzE4MDM2ODk2MTA3XSwgWy0xLjEzNDc5MDQyNjI3MDYsIDUwLjcxODE1NTg5NjY3M10sIFstMS4xMzQ2ODQxOTI4NTU1LCA1MC43MTgyMzI0NDcyOTddLCBbLTEuMTM0NjM0ODgwMzA0MSwgNTAuNzE4NDQ4ODA5NzEzXSwgWy0xLjEzNDQyMjQ2ODUxMjgsIDUwLjcxODUyMTg3NDQwNl0sIFstMS4xMzQ0MjI4NTgzMzE3LCA1MC43MTg1Nzc2MzMxMl0sIFstMS4xMzQzMTg2MjgxMzAzLCA1MC43MTg2OTkxNjI2NDZdLCBbLTEuMTM0MjYzMTgzMjc5LCA1MC43MTg3ODY4ODEyODFdLCBbLTEuMTM0MDM4MjEyNDQxMiwgNTAuNzE4NzcyNjIxMTc0XSwgWy0xLjEzNDAyMDAyMzMzMzMsIDUwLjcxODgzNzIzNDgyMV0sIFstMS4xMzM5MjUzODMxNzM1LCA1MC43MTg4OTk0ODIyMjldLCBbLTEuMTMzOTQwMDE4OTc3OSwgNTAuNzE4OTUwODUwMjg4XSwgWy0xLjEzMzgzNzY3NTUxODYsIDUwLjcxODk2OTg3NDYzXSwgWy0xLjEzMzc3NjE5OTQwMDQsIDUwLjcxOTA3NzMzMjU2NV0sIFstMS4xMzMxOTI5NjQxNDA3LCA1MC43MTkyMDk2OTEyNDddLCBbLTEuMTMyOTc2MTg4MDcyMSwgNTAuNzE5MzY1NDU1MzE0XSwgWy0xLjEzMjg0NzI5MzE2NTcsIDUwLjcxOTUxODI3NTIzXSwgWy0xLjEzMzIzMDM5NjA4NjMsIDUwLjcxOTYzODAzMDIwOF0sIFstMS4xMzM1MjcyOTk1NjIyLCA1MC43MTk3NDYzNTIxNDFdLCBbLTEuMTMzODA4MzkyMDIwOSwgNTAuNzE5ODY3MTQ1OTE2XSwgWy0xLjEzNDU3MzU0MzYwMDYsIDUwLjcyMDI0MTUzMzUwMl0sIFstMS4xMzQ5MTk4Mzk3OTQsIDUwLjcyMDQzNzQ0OTE4OF0sIFstMS4xMzUxNDA4MjE1MTU5LCA1MC43MjA1OTE5NjY3NzhdLCBbLTEuMTM1MjQ5NzE0NTI2NCwgNTAuNzIwNjc5MTA1NzI0XSwgWy0xLjEzNTQwNzI3MzI5NywgNTAuNzIwODE2MDY2MTA4XSwgWy0xLjEzNjMyMzY2NzE2ODUsIDUwLjcyMTc1MDAyMDI1Ml0sIFstMS4xMzYzNjEzNDk4MzIxLCA1MC43MjE3ODA4NzUwM10sIFstMS4xMzY0NzQ4NjA2NzQ5LCA1MC43MjE4NDgyNjI2ODRdLCBbLTEuMTM2NTI1NDczMzk2MiwgNTAuNzIxODY5MzIwOThdLCBbLTEuMTM2NTk0NDgzNjc2NiwgNTAuNzIxODkxNDE0NzI3XSwgWy0xLjEzNjcyMTQ4NjQ5ODYsIDUwLjcyMTkxODQzNDEwNV0sIFstMS4xMzc0MDcxOTU5NjEsIDUwLjcyMjE0NzQyOTY1OF0sIFstMS4xMzc0ODU2NzY4NiwgNTAuNzIyMTkzODczNjU2XSwgWy0xLjEzNzUxMzU5MzgyNDgsIDUwLjcyMjIxNjU2MjI2XSwgWy0xLjEzNzU1MzY0ODYxMTUsIDUwLjcyMjI3MjYxNDIxN10sIFstMS4xMzc1Njk0NDE4ODQ1LCA1MC43MjIzMzgzNzg5MjRdLCBbLTEuMTM3NTAxODQ1NDk0NCwgNTAuNzIyODU2NzY3NTA2XSwgWy0xLjEzNzQ2NDI3MTQ2MzMsIDUwLjcyMjk3NDI5NjIwNF0sIFstMS4xMzczOTMwMTQ3ODYzLCA1MC43MjMwNzQ0ODkzNDZdLCBbLTEuMTM2ODE2MjI1Njk0NywgNTAuNzIzNjI1MDgyMDk2XSwgWy0xLjEzNjYwNzk4OTY4MjgsIDUwLjcyMzc3ODIxODE2MV0sIFstMS4xMzY4MjY3MDgyMDAzLCA1MC43MjM4MjU3MDA1NjhdLCBbLTEuMTM4MDc0OTczMTAyOSwgNTAuNzI0MDQ5ODYwOTE5XSwgWy0xLjEzNzk1ODY2MDAwMTQsIDUwLjcyNDQ0Mzc4ODA4M10sIFstMS4xMzc4MTc4Njk2OTU0LCA1MC43MjQ3ODE3Nzg0MzFdLCBbLTEuMTM3NjQ5MDEwMDkwMSwgNTAuNzI1MTA1MTcyNDk1XSwgWy0xLjEzNzM5MTY0Njg2NDcsIDUwLjcyNTM4NzQ0MzkzNV0sIFstMS4xMzY4MzI5OTg0Njk2LCA1MC43MjYyNjAxMTUyMjldLCBbLTEuMTM2ODU4NTU2NTU0NSwgNTAuNzI2ODQzMzExNTQxXSwgWy0xLjEzNzk3NzYwMzA3NjQsIDUwLjcyNjk1NjI2Mzg5XSwgWy0xLjEzODUyNjI2MTc4ODUsIDUwLjcyNzEzMDE5MjQ2NF0sIFstMS4xNDAyNjQ1Nzg0NzQ5LCA1MC43Mjc2MDg4NDgwM10sIFstMS4xNDIzMTM2ODEyNjA4LCA1MC43MjgyMDE5MDQxMDVdLCBbLTEuMTQyODQzMTMzNjI2NiwgNTAuNzI4NDk4MzMzNTc0XSwgWy0xLjE0MzUwODA1MTI4NTMsIDUwLjcyODg2NDM3MDg1NV0sIFstMS4xNDM3NzgxNDk4MzQ4LCA1MC43MjkwMjUyNTc1NDNdXV0sICJ0eXBlIjogIlBvbHlnb24ifSwgInByb3BlcnRpZXMiOiB7ImhpZ2hsaWdodCI6IHt9LCAic3R5bGUiOiB7fX0sICJ0eXBlIjogIkZlYXR1cmUifV0sICJ0eXBlIjogIkZlYXR1cmVDb2xsZWN0aW9uIn0sCiAgICAgICAgICAgIHsKICAgICAgICAgICAgfQogICAgICAgICkuYWRkVG8obWFwXzFhYzA2MGQ3YTk4MzRjYzdhNzMyNjgyYmVkMGZlNDFhICk7CiAgICAgICAgZ2VvX2pzb25fMjQ4YTQ4NDc5N2U4NDEzMTg3YWIwMmJjZjMwMTFlZDYuc2V0U3R5bGUoZnVuY3Rpb24oZmVhdHVyZSkge3JldHVybiBmZWF0dXJlLnByb3BlcnRpZXMuc3R5bGU7fSk7CiAgICAgICAgCjwvc2NyaXB0Pg==\" style=\"position:absolute;width:100%;height:100%;left:0;top:0;border:none !important;\" allowfullscreen webkitallowfullscreen mozallowfullscreen></iframe></div></div>"
      ],
      "text/plain": [
       "<folium.folium.Map at 0x7f1cf4b53dd8>"
      ]
     },
     "execution_count": 12,
     "metadata": {},
     "output_type": "execute_result"
    }
   ],
   "source": [
    "import folium\n",
    "import json\n",
    "\n",
    "m = folium.Map(\n",
    "    location=boundary[0], #Just pick the first point in boundary to centre map - rough and ready!\n",
    "    #Note that the default location is in lat/lon order\n",
    "    tiles='Mapbox Bright',\n",
    "    zoom_start=11\n",
    ")\n",
    "\n",
    "folium.GeoJson(\n",
    "    geoJsonFromNeighbourhoodBoundary(boundary),\n",
    "    name='geojson'\n",
    ").add_to(m)\n",
    "\n",
    "m"
   ]
  },
  {
   "cell_type": "markdown",
   "metadata": {},
   "source": [
    "We can easily build up a simple interactive application to allow a user to select a particular neighbourhood from a particular police force area."
   ]
  },
  {
   "cell_type": "code",
   "execution_count": 385,
   "metadata": {},
   "outputs": [],
   "source": [
    "#It would be better if this function were a little bit more sensitive to setting bounds on the map viewport\n",
    "#folium does have a method for this, m.fit_bounds(), that takes bounding box co-ords.\n",
    "#Generate bounding box from area extrema.\n",
    "#https://github.com/python-visualization/folium/blob/master/folium/folium.py#L383\n",
    "\n",
    "def createFoliumMap(boundary):\n",
    "    m = folium.Map(\n",
    "        location=boundary[0], #Just pick the first point in boundary to centre map - rough and ready!\n",
    "        #Note that the default location is in lat/lon order\n",
    "        #tiles='Mapbox Bright',\n",
    "        zoom_start=11\n",
    "    )\n",
    "\n",
    "    folium.GeoJson(\n",
    "        geoJsonFromNeighbourhoodBoundary(boundary),\n",
    "        name='geojson'\n",
    "    ).add_to(m)\n",
    "\n",
    "    return m"
   ]
  },
  {
   "cell_type": "code",
   "execution_count": 43,
   "metadata": {
    "scrolled": true
   },
   "outputs": [
    {
     "data": {
      "application/vnd.jupyter.widget-view+json": {
       "model_id": "3b36f004be06479f8437ec872d68389e",
       "version_major": 2,
       "version_minor": 0
      },
      "text/plain": [
       "interactive(children=(Select(description='Police Force:', options={'Avon and Somerset Constabulary': 'avon-and…"
      ]
     },
     "metadata": {},
     "output_type": "display_data"
    }
   ],
   "source": [
    "from ipywidgets import widgets, interact\n",
    "\n",
    "\n",
    "#Note that we are seeding both widgets with values from the API\n",
    "\n",
    "force_widget = widgets.Select(options=getIdName(forces),\n",
    "                              description='Police Force:',\n",
    "                              disabled=False )\n",
    "\n",
    "area_widget = widgets.Select(options=getNameId(force.neighbourhoods),\n",
    "                              description='Neigbourhood areas:',\n",
    "                              disabled=False )\n",
    "\n",
    "def update_area_widget(*args):\n",
    "    ''' Update neighbourhoods widget. Also update the force global variable. '''\n",
    "    global force\n",
    "    force = api.get_force(force_widget.value)\n",
    "    area = getNameId(force.neighbourhoods)\n",
    "    area_widget.options = getNameId(force.neighbourhoods)\n",
    "    \n",
    "force_widget.observe(update_area_widget, 'value')\n",
    "\n",
    "def mapper(force_i, area_i):\n",
    "    ''' Generate map for selected area. Also set global boundary for use elsewhere. '''\n",
    "    global boundary\n",
    "    neighbourhood = force.get_neighbourhood( area_widget.value )\n",
    "    boundary = neighbourhood.boundary\n",
    "    m = createFoliumMap(boundary)\n",
    "    print(force_i, area_i)\n",
    "    return m\n",
    "    \n",
    "interact(mapper,force_i=force_widget, area_i=area_widget);\n"
   ]
  },
  {
   "cell_type": "markdown",
   "metadata": {},
   "source": [
    "*This sort of thing can be served as a standalone from a notebook source file using things like [voila](https://github.com/QuantStack/voila) or [Jupyter dashboards](https://github.com/jupyter/dashboards). Conversion to [Scripted Forms](https://github.com/SimonBiggs/scriptedforms) format is another option, although that would require a small amount of recoding using Scripted Forms markup.*"
   ]
  },
  {
   "cell_type": "markdown",
   "metadata": {},
   "source": [
    "## Get crimes in an area\n",
    "\n",
    "We can use the API to retrieve crimes recorded within a particular area for a particular time period."
   ]
  },
  {
   "cell_type": "code",
   "execution_count": 15,
   "metadata": {},
   "outputs": [],
   "source": [
    "crimes = api.get_crimes_area(neighbourhood.boundary, date='2019-01')\n"
   ]
  },
  {
   "cell_type": "code",
   "execution_count": 16,
   "metadata": {},
   "outputs": [
    {
     "data": {
      "text/plain": [
       "(763767, '50.727222', '-1.162537', 'On or near Supermarket')"
      ]
     },
     "execution_count": 16,
     "metadata": {},
     "output_type": "execute_result"
    }
   ],
   "source": [
    "#Unpack location details\n",
    "crimes[0].location.id, crimes[0].location.latitude, crimes[0].location.longitude, crimes[0].location.name\n"
   ]
  },
  {
   "cell_type": "code",
   "execution_count": 17,
   "metadata": {},
   "outputs": [
    {
     "data": {
      "text/plain": [
       "('anti-social-behaviour', 'Anti-social behaviour')"
      ]
     },
     "execution_count": 17,
     "metadata": {},
     "output_type": "execute_result"
    }
   ],
   "source": [
    "#Upack category details\n",
    "crimes[0].category.id, crimes[0].category.name"
   ]
  },
  {
   "cell_type": "code",
   "execution_count": 68,
   "metadata": {},
   "outputs": [],
   "source": [
    "import pandas as pd\n",
    "\n",
    "\n",
    "def setCrimesAsDataFrame(crimes, df=None):\n",
    "    ''' Convert crimes result to dataframe. '''\n",
    "    if df is None:\n",
    "        df=pd.DataFrame(columns = ['cid','type', 'month','name','lid','location','lat','lon'])\n",
    "        #[int, object, object, int, object, float, float]\n",
    "    for c in crimes:\n",
    "        df = df.append({'cid':c.id,'type':c.category.id, 'month':c.month, 'name':c.category.name,\n",
    "                            'lat':c.location.latitude,'lon':c.location.longitude, \n",
    "                        'lid':c.location.id,'location':c.location.name }, ignore_index=True)\n",
    "\n",
    "    df['lat']=df['lat'].astype(float)\n",
    "    df['lon']=df['lon'].astype(float)\n",
    "    \n",
    "    return df"
   ]
  },
  {
   "cell_type": "code",
   "execution_count": 25,
   "metadata": {},
   "outputs": [
    {
     "data": {
      "text/html": [
       "<div>\n",
       "<style scoped>\n",
       "    .dataframe tbody tr th:only-of-type {\n",
       "        vertical-align: middle;\n",
       "    }\n",
       "\n",
       "    .dataframe tbody tr th {\n",
       "        vertical-align: top;\n",
       "    }\n",
       "\n",
       "    .dataframe thead th {\n",
       "        text-align: right;\n",
       "    }\n",
       "</style>\n",
       "<table border=\"1\" class=\"dataframe\">\n",
       "  <thead>\n",
       "    <tr style=\"text-align: right;\">\n",
       "      <th></th>\n",
       "      <th>cid</th>\n",
       "      <th>type</th>\n",
       "      <th>month</th>\n",
       "      <th>name</th>\n",
       "      <th>lid</th>\n",
       "      <th>location</th>\n",
       "      <th>lat</th>\n",
       "      <th>lon</th>\n",
       "    </tr>\n",
       "  </thead>\n",
       "  <tbody>\n",
       "    <tr>\n",
       "      <th>0</th>\n",
       "      <td>71249494</td>\n",
       "      <td>anti-social-behaviour</td>\n",
       "      <td>2019-01</td>\n",
       "      <td>Anti-social behaviour</td>\n",
       "      <td>763767</td>\n",
       "      <td>On or near Supermarket</td>\n",
       "      <td>50.727222</td>\n",
       "      <td>-1.162537</td>\n",
       "    </tr>\n",
       "    <tr>\n",
       "      <th>1</th>\n",
       "      <td>71249516</td>\n",
       "      <td>anti-social-behaviour</td>\n",
       "      <td>2019-01</td>\n",
       "      <td>Anti-social behaviour</td>\n",
       "      <td>763719</td>\n",
       "      <td>On or near West Place</td>\n",
       "      <td>50.726292</td>\n",
       "      <td>-1.167016</td>\n",
       "    </tr>\n",
       "    <tr>\n",
       "      <th>2</th>\n",
       "      <td>71249593</td>\n",
       "      <td>anti-social-behaviour</td>\n",
       "      <td>2019-01</td>\n",
       "      <td>Anti-social behaviour</td>\n",
       "      <td>763566</td>\n",
       "      <td>On or near Sutton Close</td>\n",
       "      <td>50.718427</td>\n",
       "      <td>-1.152494</td>\n",
       "    </tr>\n",
       "    <tr>\n",
       "      <th>3</th>\n",
       "      <td>71249583</td>\n",
       "      <td>anti-social-behaviour</td>\n",
       "      <td>2019-01</td>\n",
       "      <td>Anti-social behaviour</td>\n",
       "      <td>763545</td>\n",
       "      <td>On or near Slade Road</td>\n",
       "      <td>50.720485</td>\n",
       "      <td>-1.156055</td>\n",
       "    </tr>\n",
       "    <tr>\n",
       "      <th>4</th>\n",
       "      <td>71249466</td>\n",
       "      <td>anti-social-behaviour</td>\n",
       "      <td>2019-01</td>\n",
       "      <td>Anti-social behaviour</td>\n",
       "      <td>763785</td>\n",
       "      <td>On or near George Street</td>\n",
       "      <td>50.728725</td>\n",
       "      <td>-1.161490</td>\n",
       "    </tr>\n",
       "  </tbody>\n",
       "</table>\n",
       "</div>"
      ],
      "text/plain": [
       "        cid                   type    month                   name     lid  \\\n",
       "0  71249494  anti-social-behaviour  2019-01  Anti-social behaviour  763767   \n",
       "1  71249516  anti-social-behaviour  2019-01  Anti-social behaviour  763719   \n",
       "2  71249593  anti-social-behaviour  2019-01  Anti-social behaviour  763566   \n",
       "3  71249583  anti-social-behaviour  2019-01  Anti-social behaviour  763545   \n",
       "4  71249466  anti-social-behaviour  2019-01  Anti-social behaviour  763785   \n",
       "\n",
       "                   location        lat       lon  \n",
       "0    On or near Supermarket  50.727222 -1.162537  \n",
       "1     On or near West Place  50.726292 -1.167016  \n",
       "2   On or near Sutton Close  50.718427 -1.152494  \n",
       "3     On or near Slade Road  50.720485 -1.156055  \n",
       "4  On or near George Street  50.728725 -1.161490  "
      ]
     },
     "execution_count": 25,
     "metadata": {},
     "output_type": "execute_result"
    }
   ],
   "source": [
    "df = setCrimesAsDataFrame(crimes)\n",
    "df.head()"
   ]
  },
  {
   "cell_type": "markdown",
   "metadata": {},
   "source": [
    "## Plot Crimes on Map\n",
    "\n",
    "As in *Initial Look At The Data.ipynb*, we can plot the crime markers on a map or create a heatmap."
   ]
  },
  {
   "cell_type": "code",
   "execution_count": 26,
   "metadata": {},
   "outputs": [
    {
     "data": {
      "text/plain": [
       "[[50.716306, -1.151484, 3.0],\n",
       " [50.718427, -1.152494, 4.0],\n",
       " [50.719642, -1.147698, 1.0]]"
      ]
     },
     "execution_count": 26,
     "metadata": {},
     "output_type": "execute_result"
    }
   ],
   "source": [
    "#Recall that the Heatmap plugin expects data in the form [[Latitude, Longitude, count], ...]\n",
    "\n",
    "data = df.groupby(['lat','lon']).size().reset_index().values.tolist()\n",
    "data[:3]"
   ]
  },
  {
   "cell_type": "code",
   "execution_count": 30,
   "metadata": {},
   "outputs": [
    {
     "data": {
      "text/html": [
       "<div style=\"width:100%;\"><div style=\"position:relative;width:100%;height:0;padding-bottom:60%;\"><iframe src=\"data:text/html;charset=utf-8;base64,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\" style=\"position:absolute;width:100%;height:100%;left:0;top:0;border:none !important;\" allowfullscreen webkitallowfullscreen mozallowfullscreen></iframe></div></div>"
      ],
      "text/plain": [
       "<folium.folium.Map at 0x7f1cc0c87278>"
      ]
     },
     "execution_count": 30,
     "metadata": {},
     "output_type": "execute_result"
    }
   ],
   "source": [
    "from folium.plugins import HeatMap\n",
    "\n",
    "m = folium.Map(data[0][:2], zoom_start=12)\n",
    "\n",
    "\n",
    "HeatMap(data).add_to(m)\n",
    "\n",
    "m"
   ]
  },
  {
   "cell_type": "markdown",
   "metadata": {},
   "source": [
    "We can then select an area, and crime type, to generate a heatmap from:"
   ]
  },
  {
   "cell_type": "code",
   "execution_count": 42,
   "metadata": {},
   "outputs": [
    {
     "data": {
      "text/plain": [
       "{'Anti-social behaviour': 'anti-social-behaviour',\n",
       " 'Bicycle theft': 'bicycle-theft',\n",
       " 'Burglary': 'burglary',\n",
       " 'Criminal damage and arson': 'criminal-damage-arson',\n",
       " 'Drugs': 'drugs',\n",
       " 'Other theft': 'other-theft',\n",
       " 'Public order': 'public-order',\n",
       " 'Robbery': 'robbery',\n",
       " 'Shoplifting': 'shoplifting',\n",
       " 'Violence and sexual offences': 'violent-crime',\n",
       " 'Other crime': 'other-crime'}"
      ]
     },
     "execution_count": 42,
     "metadata": {},
     "output_type": "execute_result"
    }
   ],
   "source": [
    "crime_types = df[['name','type']].drop_duplicates().set_index('name')['type'].to_dict()\n",
    "crime_types"
   ]
  },
  {
   "cell_type": "markdown",
   "metadata": {},
   "source": [
    "For now, let's just use a fixed date. We could of course add in another widget to select the date too."
   ]
  },
  {
   "cell_type": "code",
   "execution_count": 97,
   "metadata": {},
   "outputs": [
    {
     "data": {
      "application/vnd.jupyter.widget-view+json": {
       "model_id": "a5b1dac028f74176a40d504a60eab4c5",
       "version_major": 2,
       "version_minor": 0
      },
      "text/plain": [
       "interactive(children=(Select(description='Police Force:', options={'Avon and Somerset Constabulary': 'avon-and…"
      ]
     },
     "metadata": {},
     "output_type": "display_data"
    }
   ],
   "source": [
    "crime_widget = widgets.Select(options=crime_types,\n",
    "                              description='Crime:',\n",
    "                              disabled=False )\n",
    "\n",
    "\n",
    "def crime_heatmap(force_i, area_i, crime_i):\n",
    "    ''' Create a heatmap. '''\n",
    "    m = mapper(force_i, area_i)\n",
    "    \n",
    "    crimes = api.get_crimes_area(boundary, date='2019-01')\n",
    "    df = setCrimesAsDataFrame(crimes)\n",
    "    df = df[df['type']==crime_i]\n",
    "    data = df.groupby(['lat','lon']).size().reset_index().values.tolist()\n",
    "\n",
    "    HeatMap(data).add_to(m)\n",
    "    \n",
    "    return m\n",
    "\n",
    "\n",
    "\n",
    "interact(crime_heatmap,force_i=force_widget, area_i=area_widget, crime_i=crime_widget);\n"
   ]
  },
  {
   "cell_type": "markdown",
   "metadata": {},
   "source": [
    "Or we can create a heatmap that is animated over several time periods.\n",
    "\n",
    "To do this, we first need to obtain crime data recorded over several different months:"
   ]
  },
  {
   "cell_type": "code",
   "execution_count": 46,
   "metadata": {},
   "outputs": [
    {
     "data": {
      "text/plain": [
       "['2018-12',\n",
       " '2018-11',\n",
       " '2018-10',\n",
       " '2018-09',\n",
       " '2018-08',\n",
       " '2018-07',\n",
       " '2018-06',\n",
       " '2018-05',\n",
       " '2018-04',\n",
       " '2018-03',\n",
       " '2018-02',\n",
       " '2018-01']"
      ]
     },
     "execution_count": 46,
     "metadata": {},
     "output_type": "execute_result"
    }
   ],
   "source": [
    "dates_2018 = [d for d in api.get_dates() if '2018' in d]\n",
    "dates_2018"
   ]
  },
  {
   "cell_type": "markdown",
   "metadata": {},
   "source": [
    "We could collect the data into a single dataframe as:"
   ]
  },
  {
   "cell_type": "code",
   "execution_count": 49,
   "metadata": {},
   "outputs": [
    {
     "data": {
      "text/html": [
       "<div>\n",
       "<style scoped>\n",
       "    .dataframe tbody tr th:only-of-type {\n",
       "        vertical-align: middle;\n",
       "    }\n",
       "\n",
       "    .dataframe tbody tr th {\n",
       "        vertical-align: top;\n",
       "    }\n",
       "\n",
       "    .dataframe thead th {\n",
       "        text-align: right;\n",
       "    }\n",
       "</style>\n",
       "<table border=\"1\" class=\"dataframe\">\n",
       "  <thead>\n",
       "    <tr style=\"text-align: right;\">\n",
       "      <th></th>\n",
       "      <th>cid</th>\n",
       "      <th>type</th>\n",
       "      <th>month</th>\n",
       "      <th>name</th>\n",
       "      <th>lid</th>\n",
       "      <th>location</th>\n",
       "      <th>lat</th>\n",
       "      <th>lon</th>\n",
       "    </tr>\n",
       "  </thead>\n",
       "  <tbody>\n",
       "    <tr>\n",
       "      <th>0</th>\n",
       "      <td>70393460</td>\n",
       "      <td>anti-social-behaviour</td>\n",
       "      <td>2018-12</td>\n",
       "      <td>Anti-social behaviour</td>\n",
       "      <td>776327</td>\n",
       "      <td>On or near Benhams Road</td>\n",
       "      <td>50.929404</td>\n",
       "      <td>-1.356801</td>\n",
       "    </tr>\n",
       "    <tr>\n",
       "      <th>1</th>\n",
       "      <td>70393473</td>\n",
       "      <td>anti-social-behaviour</td>\n",
       "      <td>2018-12</td>\n",
       "      <td>Anti-social behaviour</td>\n",
       "      <td>776327</td>\n",
       "      <td>On or near Benhams Road</td>\n",
       "      <td>50.929404</td>\n",
       "      <td>-1.356801</td>\n",
       "    </tr>\n",
       "    <tr>\n",
       "      <th>2</th>\n",
       "      <td>70392556</td>\n",
       "      <td>anti-social-behaviour</td>\n",
       "      <td>2018-12</td>\n",
       "      <td>Anti-social behaviour</td>\n",
       "      <td>774803</td>\n",
       "      <td>On or near Steuart Road</td>\n",
       "      <td>50.917144</td>\n",
       "      <td>-1.381210</td>\n",
       "    </tr>\n",
       "    <tr>\n",
       "      <th>3</th>\n",
       "      <td>70392199</td>\n",
       "      <td>anti-social-behaviour</td>\n",
       "      <td>2018-12</td>\n",
       "      <td>Anti-social behaviour</td>\n",
       "      <td>774677</td>\n",
       "      <td>On or near Bramwell Court</td>\n",
       "      <td>50.913537</td>\n",
       "      <td>-1.352738</td>\n",
       "    </tr>\n",
       "    <tr>\n",
       "      <th>4</th>\n",
       "      <td>70393427</td>\n",
       "      <td>anti-social-behaviour</td>\n",
       "      <td>2018-12</td>\n",
       "      <td>Anti-social behaviour</td>\n",
       "      <td>776304</td>\n",
       "      <td>On or near Middleton Close</td>\n",
       "      <td>50.927950</td>\n",
       "      <td>-1.357333</td>\n",
       "    </tr>\n",
       "  </tbody>\n",
       "</table>\n",
       "</div>"
      ],
      "text/plain": [
       "        cid                   type    month                   name     lid  \\\n",
       "0  70393460  anti-social-behaviour  2018-12  Anti-social behaviour  776327   \n",
       "1  70393473  anti-social-behaviour  2018-12  Anti-social behaviour  776327   \n",
       "2  70392556  anti-social-behaviour  2018-12  Anti-social behaviour  774803   \n",
       "3  70392199  anti-social-behaviour  2018-12  Anti-social behaviour  774677   \n",
       "4  70393427  anti-social-behaviour  2018-12  Anti-social behaviour  776304   \n",
       "\n",
       "                     location        lat       lon  \n",
       "0     On or near Benhams Road  50.929404 -1.356801  \n",
       "1     On or near Benhams Road  50.929404 -1.356801  \n",
       "2     On or near Steuart Road  50.917144 -1.381210  \n",
       "3   On or near Bramwell Court  50.913537 -1.352738  \n",
       "4  On or near Middleton Close  50.927950 -1.357333  "
      ]
     },
     "execution_count": 49,
     "metadata": {},
     "output_type": "execute_result"
    }
   ],
   "source": [
    "crimes_2018= pd.DataFrame()\n",
    "\n",
    "for d in dates_2018:\n",
    "    tmp = api.get_crimes_area(boundary, date=d)\n",
    "    crimes_2018 = pd.concat([crimes_2018, setCrimesAsDataFrame(tmp)])\n",
    "    \n",
    "crimes_2018.head()"
   ]
  },
  {
   "cell_type": "markdown",
   "metadata": {},
   "source": [
    "However, the data needs to be presented as a list of lists: `[ data_period1, data_period2, etc. ]`.\n",
    "\n",
    "So it may be easier (for now) to collect it as:"
   ]
  },
  {
   "cell_type": "code",
   "execution_count": 56,
   "metadata": {},
   "outputs": [],
   "source": [
    "overall_data = []\n",
    "\n",
    "for d in dates_2018:\n",
    "    tmp_crimes = api.get_crimes_area(boundary, date=d)\n",
    "    df = setCrimesAsDataFrame(tmp_crimes)\n",
    "    period_data = df.groupby(['lat','lon']).size().reset_index().values.tolist()\n",
    "    overall_data.append(period_data)"
   ]
  },
  {
   "cell_type": "code",
   "execution_count": 58,
   "metadata": {},
   "outputs": [
    {
     "data": {
      "text/html": [
       "<div style=\"width:100%;\"><div style=\"position:relative;width:100%;height:0;padding-bottom:60%;\"><iframe src=\"data:text/html;charset=utf-8;base64,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\" style=\"position:absolute;width:100%;height:100%;left:0;top:0;border:none !important;\" allowfullscreen webkitallowfullscreen mozallowfullscreen></iframe></div></div>"
      ],
      "text/plain": [
       "<folium.folium.Map at 0x7f1cc0348320>"
      ]
     },
     "execution_count": 58,
     "metadata": {},
     "output_type": "execute_result"
    }
   ],
   "source": [
    "from folium.plugins import HeatMapWithTime\n",
    "\n",
    "m = folium.Map(overall_data[0][0][:2], tiles='stamentoner', zoom_start=13)\n",
    "\n",
    "HeatMapWithTime(overall_data).add_to(m)\n",
    "\n",
    "m"
   ]
  },
  {
   "cell_type": "markdown",
   "metadata": {},
   "source": [
    "## Plotting Choropleths\n",
    "\n",
    "Another way of visualising the data is to use a choropleth map. However, this requires boundaries, rather than points, that can be filled with indicative colour values.\n",
    "\n",
    "The Police API allows us to search for crimes within a particular boundary, so we could download shapefiles for a small geography (for example, [output area](http://geoportal.statistics.gov.uk/datasets/09b8a48426e3482ebbc0b0c49985c0fb_0)) and search for crimes withon those areas.\n",
    "\n",
    "An alternative is to generate Voronoi boundaries around each of the crime points. (Ideally, we would have a database of all the legitimate crime recording points in a neighbourhood. (Locations are approximated to specific location points.))\n",
    "\n",
    "There are several ways in which we can generate Voronoi boundaries (*notebook to follow*), but for convenience we will use the [WZBSocialScienceCenter/geovoronoi](https://github.com/WZBSocialScienceCenter/geovoronoi/) package.\n",
    "\n",
    "*ASIDE: [spatialite will create voronoi boundaries](https://www.gaia-gis.it/fossil/libspatialite/wiki?name=tesselations-4.0); other py examples with a lower level look can be found [here](https://gist.github.com/Sklavit/e05f0b61cb12ac781c93442fbea4fb55), [here](https://github.com/GrayTaylor/voronoi/blob/master/Voronoi%20for%20tableau.ipynb) and [here](https://stackoverflow.com/questions/23901943/voronoi-compute-exact-boundaries-of-every-region/52727406#52727406).*\n",
    "\n",
    "One of the example recipes for using the `geovoronoi` packages works on a geopandas dataframe, so let's convert the crimes dataframe to a geopandas dataframe.\n",
    "\n",
    "*(The recipe actually converts co-ordinates in the geodataframe representation back to an array that is closer to our original list of points, but it is nevertheless instructive to show how we can generate a geopandas dataframe.)*"
   ]
  },
  {
   "cell_type": "code",
   "execution_count": 141,
   "metadata": {},
   "outputs": [
    {
     "data": {
      "text/html": [
       "<div>\n",
       "<style scoped>\n",
       "    .dataframe tbody tr th:only-of-type {\n",
       "        vertical-align: middle;\n",
       "    }\n",
       "\n",
       "    .dataframe tbody tr th {\n",
       "        vertical-align: top;\n",
       "    }\n",
       "\n",
       "    .dataframe thead th {\n",
       "        text-align: right;\n",
       "    }\n",
       "</style>\n",
       "<table border=\"1\" class=\"dataframe\">\n",
       "  <thead>\n",
       "    <tr style=\"text-align: right;\">\n",
       "      <th></th>\n",
       "      <th>lat</th>\n",
       "      <th>lon</th>\n",
       "      <th>Count</th>\n",
       "    </tr>\n",
       "  </thead>\n",
       "  <tbody>\n",
       "    <tr>\n",
       "      <th>0</th>\n",
       "      <td>50.905766</td>\n",
       "      <td>-1.391004</td>\n",
       "      <td>1</td>\n",
       "    </tr>\n",
       "    <tr>\n",
       "      <th>1</th>\n",
       "      <td>50.908768</td>\n",
       "      <td>-1.397479</td>\n",
       "      <td>1</td>\n",
       "    </tr>\n",
       "    <tr>\n",
       "      <th>2</th>\n",
       "      <td>50.909429</td>\n",
       "      <td>-1.393246</td>\n",
       "      <td>2</td>\n",
       "    </tr>\n",
       "    <tr>\n",
       "      <th>3</th>\n",
       "      <td>50.909940</td>\n",
       "      <td>-1.389427</td>\n",
       "      <td>1</td>\n",
       "    </tr>\n",
       "    <tr>\n",
       "      <th>4</th>\n",
       "      <td>50.910711</td>\n",
       "      <td>-1.399516</td>\n",
       "      <td>1</td>\n",
       "    </tr>\n",
       "  </tbody>\n",
       "</table>\n",
       "</div>"
      ],
      "text/plain": [
       "         lat       lon  Count\n",
       "0  50.905766 -1.391004      1\n",
       "1  50.908768 -1.397479      1\n",
       "2  50.909429 -1.393246      2\n",
       "3  50.909940 -1.389427      1\n",
       "4  50.910711 -1.399516      1"
      ]
     },
     "execution_count": 141,
     "metadata": {},
     "output_type": "execute_result"
    }
   ],
   "source": [
    "#For a particular crime type, get the count of crimes by location\n",
    "crimes = setCrimesAsDataFrame( api.get_crimes_area(boundary, date='2019-01') )\n",
    "public_order_crime = crimes[crimes['type']=='public-order']\n",
    "public_order_crime_count_by_location = public_order_crime.groupby(['lat','lon']).size().to_frame('Count').reset_index()\n",
    "public_order_crime_count_by_location.head()"
   ]
  },
  {
   "cell_type": "code",
   "execution_count": 357,
   "metadata": {},
   "outputs": [],
   "source": [
    "#For convenience, let's go back to using the df name...\n",
    "df = public_order_crime_count_by_location.reset_index()"
   ]
  },
  {
   "cell_type": "markdown",
   "metadata": {},
   "source": [
    "Cast the dataframe as a geodataframe with a suitable geometry column:"
   ]
  },
  {
   "cell_type": "code",
   "execution_count": 373,
   "metadata": {},
   "outputs": [
    {
     "data": {
      "text/html": [
       "<div>\n",
       "<style scoped>\n",
       "    .dataframe tbody tr th:only-of-type {\n",
       "        vertical-align: middle;\n",
       "    }\n",
       "\n",
       "    .dataframe tbody tr th {\n",
       "        vertical-align: top;\n",
       "    }\n",
       "\n",
       "    .dataframe thead th {\n",
       "        text-align: right;\n",
       "    }\n",
       "</style>\n",
       "<table border=\"1\" class=\"dataframe\">\n",
       "  <thead>\n",
       "    <tr style=\"text-align: right;\">\n",
       "      <th></th>\n",
       "      <th>index</th>\n",
       "      <th>lat</th>\n",
       "      <th>lon</th>\n",
       "      <th>Count</th>\n",
       "      <th>Coordinates</th>\n",
       "      <th>RCoordinates</th>\n",
       "      <th>voronoi_boundary</th>\n",
       "    </tr>\n",
       "  </thead>\n",
       "  <tbody>\n",
       "    <tr>\n",
       "      <th>0</th>\n",
       "      <td>a_0</td>\n",
       "      <td>50.905766</td>\n",
       "      <td>-1.391004</td>\n",
       "      <td>1</td>\n",
       "      <td>POINT (-1.391004 50.905766)</td>\n",
       "      <td>POINT (50.905766 -1.391004)</td>\n",
       "      <td>POLYGON ((-1.403794612501743 50.91824480571032...</td>\n",
       "    </tr>\n",
       "    <tr>\n",
       "      <th>1</th>\n",
       "      <td>a_1</td>\n",
       "      <td>50.908768</td>\n",
       "      <td>-1.397479</td>\n",
       "      <td>1</td>\n",
       "      <td>POINT (-1.397479 50.908768)</td>\n",
       "      <td>POINT (50.908768 -1.397479)</td>\n",
       "      <td>POLYGON ((-1.400667122044089 50.91784738296978...</td>\n",
       "    </tr>\n",
       "    <tr>\n",
       "      <th>2</th>\n",
       "      <td>a_2</td>\n",
       "      <td>50.909429</td>\n",
       "      <td>-1.393246</td>\n",
       "      <td>2</td>\n",
       "      <td>POINT (-1.393246 50.909429)</td>\n",
       "      <td>POINT (50.909429 -1.393246)</td>\n",
       "      <td>POLYGON ((-1.400667122044089 50.91784738296978...</td>\n",
       "    </tr>\n",
       "    <tr>\n",
       "      <th>3</th>\n",
       "      <td>a_3</td>\n",
       "      <td>50.909940</td>\n",
       "      <td>-1.389427</td>\n",
       "      <td>1</td>\n",
       "      <td>POINT (-1.389427 50.90994)</td>\n",
       "      <td>POINT (50.90994 -1.389427)</td>\n",
       "      <td>POLYGON ((-1.39446924386208 50.91454443252438,...</td>\n",
       "    </tr>\n",
       "    <tr>\n",
       "      <th>4</th>\n",
       "      <td>a_4</td>\n",
       "      <td>50.910711</td>\n",
       "      <td>-1.399516</td>\n",
       "      <td>1</td>\n",
       "      <td>POINT (-1.399516 50.910711)</td>\n",
       "      <td>POINT (50.910711 -1.399516)</td>\n",
       "      <td>POLYGON ((-1.391828404158418 50.92004831759458...</td>\n",
       "    </tr>\n",
       "  </tbody>\n",
       "</table>\n",
       "</div>"
      ],
      "text/plain": [
       "  index        lat       lon  Count                  Coordinates  \\\n",
       "0   a_0  50.905766 -1.391004      1  POINT (-1.391004 50.905766)   \n",
       "1   a_1  50.908768 -1.397479      1  POINT (-1.397479 50.908768)   \n",
       "2   a_2  50.909429 -1.393246      2  POINT (-1.393246 50.909429)   \n",
       "3   a_3  50.909940 -1.389427      1   POINT (-1.389427 50.90994)   \n",
       "4   a_4  50.910711 -1.399516      1  POINT (-1.399516 50.910711)   \n",
       "\n",
       "                  RCoordinates  \\\n",
       "0  POINT (50.905766 -1.391004)   \n",
       "1  POINT (50.908768 -1.397479)   \n",
       "2  POINT (50.909429 -1.393246)   \n",
       "3   POINT (50.90994 -1.389427)   \n",
       "4  POINT (50.910711 -1.399516)   \n",
       "\n",
       "                                    voronoi_boundary  \n",
       "0  POLYGON ((-1.403794612501743 50.91824480571032...  \n",
       "1  POLYGON ((-1.400667122044089 50.91784738296978...  \n",
       "2  POLYGON ((-1.400667122044089 50.91784738296978...  \n",
       "3  POLYGON ((-1.39446924386208 50.91454443252438,...  \n",
       "4  POLYGON ((-1.391828404158418 50.92004831759458...  "
      ]
     },
     "execution_count": 373,
     "metadata": {},
     "output_type": "execute_result"
    }
   ],
   "source": [
    "#https://geopandas.readthedocs.io/en/latest/gallery/create_geopandas_from_pandas.html\n",
    "import geopandas\n",
    "from shapely.geometry import Point\n",
    "\n",
    "df['Coordinates'] = list(zip(df['lon'], df['lat']))\n",
    "df['Coordinates'] = df['Coordinates'].apply(Point)\n",
    "\n",
    "df['RCoordinates'] = list(zip(df['lat'], df['lon']))\n",
    "df['RCoordinates'] = df['RCoordinates'].apply(Point)\n",
    "gdf = geopandas.GeoDataFrame(df, geometry='Coordinates')\n",
    "\n",
    "#Avoid ambiguity about whether index is int or string\n",
    "gdf['index'] = gdf['index'].apply(lambda x: 'a_{}'.format(x))\n",
    "\n",
    "gdf.head()"
   ]
  },
  {
   "cell_type": "code",
   "execution_count": 374,
   "metadata": {},
   "outputs": [
    {
     "data": {
      "text/plain": [
       "{'init': 'epsg:4326 '}"
      ]
     },
     "execution_count": 374,
     "metadata": {},
     "output_type": "execute_result"
    }
   ],
   "source": [
    "gdf.crs = {'init' :'epsg:4326 '}\n",
    "gdf.crs"
   ]
  },
  {
   "cell_type": "markdown",
   "metadata": {},
   "source": [
    "We also need the boundary as a shapefile:"
   ]
  },
  {
   "cell_type": "code",
   "execution_count": 375,
   "metadata": {},
   "outputs": [
    {
     "data": {
      "text/plain": [
       "[(50.918888188227, -1.3887913614074), (50.918581802548, -1.3894253024958)]"
      ]
     },
     "execution_count": 375,
     "metadata": {},
     "output_type": "execute_result"
    }
   ],
   "source": [
    "#Check how the boundary co-ordinates are presented\n",
    "boundary[:2]\n",
    "#Looks like: lat, lon"
   ]
  },
  {
   "cell_type": "code",
   "execution_count": 376,
   "metadata": {},
   "outputs": [
    {
     "data": {
      "image/svg+xml": [
       "<svg xmlns=\"http://www.w3.org/2000/svg\" xmlns:xlink=\"http://www.w3.org/1999/xlink\" width=\"100.0\" height=\"100.0\" viewBox=\"50.90337868686579 -1.4077627249896119 0.02321917535041962 0.03291119006072374\" preserveAspectRatio=\"xMinYMin meet\"><g transform=\"matrix(1,0,0,-1,0,-2.7826142599184998)\"><path fill-rule=\"evenodd\" fill=\"#66cc99\" stroke=\"#555555\" stroke-width=\"0.0006582238012144747\" opacity=\"0.6\" d=\"M 50.918888188227,-1.3887913614074 L 50.918581802548,-1.3894253024958 L 50.917999264493,-1.3898027944897 L 50.917021825929,-1.3903276912624 L 50.916590587995,-1.3904044502387 L 50.916068689196,-1.3903401386041 L 50.916021353682,-1.3898855481812 L 50.915707010111,-1.3899607820706 L 50.915408718685,-1.3896659530877 L 50.915074384738,-1.3893573742857 L 50.91441210986,-1.3882269161741 L 50.9139604162,-1.3869571690595 L 50.914339880409,-1.3865254437325 L 50.914253864293,-1.3862423638477 L 50.913920123386,-1.3865790384946 L 50.913899857732,-1.3863673578711 L 50.913762711056,-1.3861597745596 L 50.913619494282,-1.3835702310551 L 50.913643262101,-1.3830814463173 L 50.913599860448,-1.3825598371683 L 50.913412090706,-1.3809952096954 L 50.913449132601,-1.3807563161599 L 50.913354091397,-1.3804358194179 L 50.913288553898,-1.379812093925 L 50.913200140703,-1.3793855402252 L 50.913118013461,-1.3787884963407 L 50.912981187114,-1.3782718393674 L 50.912778118112,-1.3769686117531 L 50.912006613624,-1.3763544706371 L 50.911577209429,-1.3761330500219 L 50.911172483304,-1.3760704678941 L 50.910792149907,-1.3761132427983 L 50.910401039998,-1.3763608380153 L 50.909927970468,-1.3769385108957 L 50.909668229562,-1.3775892807982 L 50.909465066391,-1.3780915102478 L 50.90930484099,-1.3785516320889 L 50.909076664555,-1.3792888681116 L 50.908923568857,-1.3797716442546 L 50.908675920681,-1.3804334600125 L 50.908306217073,-1.3815662427695 L 50.908157937031,-1.3820261830812 L 50.907970593493,-1.3837056747255 L 50.907828488498,-1.383991010016 L 50.907790678092,-1.3845289869672 L 50.90771890705,-1.384987905115 L 50.90742083473,-1.3857453465696 L 50.907029751078,-1.3866180648842 L 50.906748833671,-1.3870821350623 L 50.905534524687,-1.3878608014131 L 50.905092133183,-1.3881085150132 L 50.905093415656,-1.3882847080258 L 50.905097109212,-1.3883031481692 L 50.905200758235,-1.388863558467 L 50.905215999777,-1.3888548258379 L 50.905301662071,-1.3892433877153 L 50.905266705297,-1.3892651778462 L 50.905350902297,-1.3895456727201 L 50.905273787703,-1.3895879244611 L 50.904597619831,-1.3901172792244 L 50.904779586575,-1.3920760949036 L 50.904664586753,-1.3920960801435 L 50.90468549231,-1.3926575695994 L 50.905325322113,-1.3925738724531 L 50.905812356445,-1.3925049604605 L 50.906548384271,-1.3924171630598 L 50.90688089871,-1.3923772807917 L 50.907792112443,-1.3922573316741 L 50.90819549235,-1.3921838121801 L 50.908110050815,-1.3923541762461 L 50.908024786516,-1.3925586721703 L 50.907944946548,-1.3927687859323 L 50.907886694086,-1.3929800406434 L 50.907836814634,-1.3932452325574 L 50.907819792599,-1.3936038674324 L 50.907835700891,-1.3940701677449 L 50.907874882978,-1.3946897726666 L 50.907879510658,-1.3950623496152 L 50.907872064962,-1.3953611244724 L 50.907854830435,-1.3956799377959 L 50.907847287561,-1.3959602240413 L 50.907841956425,-1.3961466113061 L 50.907845511286,-1.3964864896031 L 50.907863217177,-1.3967806722819 L 50.90790433732,-1.3974301226318 L 50.907933292986,-1.3978137645716 L 50.908014224472,-1.3981626024015 L 50.908120630866,-1.3983944859008 L 50.908329186798,-1.3987303045895 L 50.908513485631,-1.3990707053117 L 50.908651339879,-1.3992979219108 L 50.908825263563,-1.3995445883349 L 50.908971092667,-1.3997489483524 L 50.909174907746,-1.4000379035896 L 50.909342630464,-1.4003031453473 L 50.909480438532,-1.4005218362239 L 50.909695348328,-1.4008703936019 L 50.909818702698,-1.401076472138 L 50.909933774488,-1.4012456770988 L 50.909967652055,-1.4011883490388 L 50.910007573544,-1.4012575318995 L 50.910121464303,-1.4011963330164 L 50.910160092953,-1.4011887259208 L 50.910183498379,-1.4013690640024 L 50.910203564743,-1.4014242783587 L 50.910229091791,-1.4014922239162 L 50.910334937984,-1.4016160343021 L 50.910488830332,-1.4016396646481 L 50.910623708591,-1.4016379362786 L 50.910926915054,-1.4027235869305 L 50.910950070949,-1.4028555712907 L 50.910959608034,-1.4029621272128 L 50.910962785295,-1.4030559631338 L 50.910956934262,-1.4031428026092 L 50.910943077652,-1.4032468128324 L 50.910732752436,-1.4041470130011 L 50.910654363641,-1.4044694671998 L 50.910511050463,-1.4049335613286 L 50.910363333586,-1.405416199266 L 50.910720309917,-1.4055880269317 L 50.911211091504,-1.4057240172563 L 50.911315621702,-1.4057667807495 L 50.91151749577,-1.4058538221352 L 50.911669784191,-1.4059158920459 L 50.911767222052,-1.4059786601586 L 50.911854754338,-1.406038709738 L 50.911931612013,-1.4061216537357 L 50.912070708849,-1.4062422114501 L 50.912245830934,-1.4063736911471 L 50.912345886619,-1.406420781148 L 50.912554773044,-1.4064721776053 L 50.912748257621,-1.4065010114633 L 50.912831939989,-1.4065113271956 L 50.91306826768,-1.4064770296446 L 50.913867169493,-1.4063729915901 L 50.914069306246,-1.4063348598772 L 50.914288520332,-1.4062950881951 L 50.914449438943,-1.4062859295206 L 50.914650864404,-1.406284790567 L 50.914813964478,-1.4063509959578 L 50.915012627311,-1.406337089934 L 50.915477428224,-1.4063155320113 L 50.915574598396,-1.40632567646 L 50.915758199068,-1.4063560596678 L 50.916138054054,-1.4064294686637 L 50.916656600741,-1.4065437920244 L 50.916656376738,-1.4064996959679 L 50.916505676178,-1.4053351284044 L 50.916481611211,-1.404847503706 L 50.916478080211,-1.4046839566261 L 50.916484585051,-1.4045487323635 L 50.916508449794,-1.4042909480758 L 50.9167038491,-1.4031091633632 L 50.917528443943,-1.4034585309062 L 50.918452383813,-1.4038919979055 L 50.918511773739,-1.4038997751296 L 50.91869802894,-1.4039215810659 L 50.920044461806,-1.4045019001389 L 50.920552676429,-1.4047059709151 L 50.921582752582,-1.4049688367824 L 50.921995029502,-1.405051788936 L 50.922011599666,-1.4049505654105 L 50.922079387781,-1.4044887429231 L 50.922161532028,-1.4040210449265 L 50.92222626435,-1.4036659622817 L 50.92228167846,-1.4034233924114 L 50.922340899551,-1.403222032129 L 50.922383457325,-1.4031034022256 L 50.922495453584,-1.4028473024635 L 50.922595803494,-1.4025998868928 L 50.923086241993,-1.4014383433919 L 50.923707497878,-1.4000118837094 L 50.924085126207,-1.3991263331711 L 50.924438762823,-1.3982979888984 L 50.924740878991,-1.3975940800867 L 50.924983487112,-1.3970346339017 L 50.925378929251,-1.3961203481189 L 50.92537710882,-1.3961161032388 L 50.925018968276,-1.3950266034554 L 50.924681020305,-1.394017957185 L 50.92437919751,-1.3942537894465 L 50.9240873611,-1.3945079851189 L 50.92387520519,-1.3946942743045 L 50.923607505791,-1.3949211191376 L 50.92350820457,-1.3950205765898 L 50.923324586066,-1.3951609633399 L 50.923214376585,-1.3952377970747 L 50.923080817682,-1.3953206239175 L 50.922984818361,-1.3953631270597 L 50.922684792261,-1.3954253456436 L 50.922309949682,-1.3954529644436 L 50.921613154445,-1.3954762163329 L 50.921137337987,-1.3954539251239 L 50.920713593287,-1.3954153105281 L 50.920369035797,-1.3953870521592 L 50.919938259504,-1.3953798280404 L 50.91967470232,-1.3953647475161 L 50.919178248585,-1.3953512612545 L 50.919013726988,-1.3953590827679 L 50.919099187359,-1.3951915292322 L 50.919174011941,-1.3950539879965 L 50.919286277979,-1.3948533654387 L 50.919384112468,-1.3946443932865 L 50.919484275443,-1.3943642584394 L 50.919593495996,-1.3940968085334 L 50.919649214986,-1.393916833005 L 50.919701962996,-1.3936842579946 L 50.919850047099,-1.3929354467504 L 50.919969737269,-1.3922609780993 L 50.920044905678,-1.3918445858117 L 50.920130030324,-1.3914408662378 L 50.920191350087,-1.3911285055906 L 50.920290465991,-1.3906491999874 L 50.920307707642,-1.3905067091612 L 50.920277009185,-1.3904829248416 L 50.920140006489,-1.3904221170972 L 50.920064311648,-1.3903918073029 L 50.919811202672,-1.3903111769201 L 50.919689463752,-1.3902459029743 L 50.919610685191,-1.390141656951 L 50.919576211687,-1.3900837793004 L 50.919535013056,-1.3899434768458 L 50.919479657725,-1.3896753227912 L 50.919184092424,-1.3892139894157 L 50.918888188227,-1.3887913614074 z\" /></g></svg>"
      ],
      "text/plain": [
       "<shapely.geometry.polygon.Polygon at 0x7f1ca7157c88>"
      ]
     },
     "execution_count": 376,
     "metadata": {},
     "output_type": "execute_result"
    }
   ],
   "source": [
    "from shapely import geometry\n",
    "\n",
    "#By default, I think shapely shapes assume lon/lat format...\n",
    "#So this shape is rotated in preview...\n",
    "boundary_shape_rotated = geometry.Polygon(boundary)\n",
    "boundary_shape_rotated"
   ]
  },
  {
   "cell_type": "code",
   "execution_count": 377,
   "metadata": {
    "scrolled": true
   },
   "outputs": [
    {
     "data": {
      "image/svg+xml": [
       "<svg xmlns=\"http://www.w3.org/2000/svg\" xmlns:xlink=\"http://www.w3.org/1999/xlink\" width=\"100.0\" height=\"100.0\" viewBox=\"-1.4077627249896119 50.90337868686579 0.03291119006072374 0.02321917535041962\" preserveAspectRatio=\"xMinYMin meet\"><g transform=\"matrix(1,0,0,-1,0,101.829976549082)\"><path fill-rule=\"evenodd\" fill=\"#66cc99\" stroke=\"#555555\" stroke-width=\"0.0006582238012144747\" opacity=\"0.6\" d=\"M -1.3887913614074,50.918888188227 L -1.3894253024958,50.918581802548 L -1.3898027944897,50.917999264493 L -1.3903276912624,50.917021825929 L -1.3904044502387,50.916590587995 L -1.3903401386041,50.916068689196 L -1.3898855481812,50.916021353682 L -1.3899607820706,50.915707010111 L -1.3896659530877,50.915408718685 L -1.3893573742857,50.915074384738 L -1.3882269161741,50.91441210986 L -1.3869571690595,50.9139604162 L -1.3865254437325,50.914339880409 L -1.3862423638477,50.914253864293 L -1.3865790384946,50.913920123386 L -1.3863673578711,50.913899857732 L -1.3861597745596,50.913762711056 L -1.3835702310551,50.913619494282 L -1.3830814463173,50.913643262101 L -1.3825598371683,50.913599860448 L -1.3809952096954,50.913412090706 L -1.3807563161599,50.913449132601 L -1.3804358194179,50.913354091397 L -1.379812093925,50.913288553898 L -1.3793855402252,50.913200140703 L -1.3787884963407,50.913118013461 L -1.3782718393674,50.912981187114 L -1.3769686117531,50.912778118112 L -1.3763544706371,50.912006613624 L -1.3761330500219,50.911577209429 L -1.3760704678941,50.911172483304 L -1.3761132427983,50.910792149907 L -1.3763608380153,50.910401039998 L -1.3769385108957,50.909927970468 L -1.3775892807982,50.909668229562 L -1.3780915102478,50.909465066391 L -1.3785516320889,50.90930484099 L -1.3792888681116,50.909076664555 L -1.3797716442546,50.908923568857 L -1.3804334600125,50.908675920681 L -1.3815662427695,50.908306217073 L -1.3820261830812,50.908157937031 L -1.3837056747255,50.907970593493 L -1.383991010016,50.907828488498 L -1.3845289869672,50.907790678092 L -1.384987905115,50.90771890705 L -1.3857453465696,50.90742083473 L -1.3866180648842,50.907029751078 L -1.3870821350623,50.906748833671 L -1.3878608014131,50.905534524687 L -1.3881085150132,50.905092133183 L -1.3882847080258,50.905093415656 L -1.3883031481692,50.905097109212 L -1.388863558467,50.905200758235 L -1.3888548258379,50.905215999777 L -1.3892433877153,50.905301662071 L -1.3892651778462,50.905266705297 L -1.3895456727201,50.905350902297 L -1.3895879244611,50.905273787703 L -1.3901172792244,50.904597619831 L -1.3920760949036,50.904779586575 L -1.3920960801435,50.904664586753 L -1.3926575695994,50.90468549231 L -1.3925738724531,50.905325322113 L -1.3925049604605,50.905812356445 L -1.3924171630598,50.906548384271 L -1.3923772807917,50.90688089871 L -1.3922573316741,50.907792112443 L -1.3921838121801,50.90819549235 L -1.3923541762461,50.908110050815 L -1.3925586721703,50.908024786516 L -1.3927687859323,50.907944946548 L -1.3929800406434,50.907886694086 L -1.3932452325574,50.907836814634 L -1.3936038674324,50.907819792599 L -1.3940701677449,50.907835700891 L -1.3946897726666,50.907874882978 L -1.3950623496152,50.907879510658 L -1.3953611244724,50.907872064962 L -1.3956799377959,50.907854830435 L -1.3959602240413,50.907847287561 L -1.3961466113061,50.907841956425 L -1.3964864896031,50.907845511286 L -1.3967806722819,50.907863217177 L -1.3974301226318,50.90790433732 L -1.3978137645716,50.907933292986 L -1.3981626024015,50.908014224472 L -1.3983944859008,50.908120630866 L -1.3987303045895,50.908329186798 L -1.3990707053117,50.908513485631 L -1.3992979219108,50.908651339879 L -1.3995445883349,50.908825263563 L -1.3997489483524,50.908971092667 L -1.4000379035896,50.909174907746 L -1.4003031453473,50.909342630464 L -1.4005218362239,50.909480438532 L -1.4008703936019,50.909695348328 L -1.401076472138,50.909818702698 L -1.4012456770988,50.909933774488 L -1.4011883490388,50.909967652055 L -1.4012575318995,50.910007573544 L -1.4011963330164,50.910121464303 L -1.4011887259208,50.910160092953 L -1.4013690640024,50.910183498379 L -1.4014242783587,50.910203564743 L -1.4014922239162,50.910229091791 L -1.4016160343021,50.910334937984 L -1.4016396646481,50.910488830332 L -1.4016379362786,50.910623708591 L -1.4027235869305,50.910926915054 L -1.4028555712907,50.910950070949 L -1.4029621272128,50.910959608034 L -1.4030559631338,50.910962785295 L -1.4031428026092,50.910956934262 L -1.4032468128324,50.910943077652 L -1.4041470130011,50.910732752436 L -1.4044694671998,50.910654363641 L -1.4049335613286,50.910511050463 L -1.405416199266,50.910363333586 L -1.4055880269317,50.910720309917 L -1.4057240172563,50.911211091504 L -1.4057667807495,50.911315621702 L -1.4058538221352,50.91151749577 L -1.4059158920459,50.911669784191 L -1.4059786601586,50.911767222052 L -1.406038709738,50.911854754338 L -1.4061216537357,50.911931612013 L -1.4062422114501,50.912070708849 L -1.4063736911471,50.912245830934 L -1.406420781148,50.912345886619 L -1.4064721776053,50.912554773044 L -1.4065010114633,50.912748257621 L -1.4065113271956,50.912831939989 L -1.4064770296446,50.91306826768 L -1.4063729915901,50.913867169493 L -1.4063348598772,50.914069306246 L -1.4062950881951,50.914288520332 L -1.4062859295206,50.914449438943 L -1.406284790567,50.914650864404 L -1.4063509959578,50.914813964478 L -1.406337089934,50.915012627311 L -1.4063155320113,50.915477428224 L -1.40632567646,50.915574598396 L -1.4063560596678,50.915758199068 L -1.4064294686637,50.916138054054 L -1.4065437920244,50.916656600741 L -1.4064996959679,50.916656376738 L -1.4053351284044,50.916505676178 L -1.404847503706,50.916481611211 L -1.4046839566261,50.916478080211 L -1.4045487323635,50.916484585051 L -1.4042909480758,50.916508449794 L -1.4031091633632,50.9167038491 L -1.4034585309062,50.917528443943 L -1.4038919979055,50.918452383813 L -1.4038997751296,50.918511773739 L -1.4039215810659,50.91869802894 L -1.4045019001389,50.920044461806 L -1.4047059709151,50.920552676429 L -1.4049688367824,50.921582752582 L -1.405051788936,50.921995029502 L -1.4049505654105,50.922011599666 L -1.4044887429231,50.922079387781 L -1.4040210449265,50.922161532028 L -1.4036659622817,50.92222626435 L -1.4034233924114,50.92228167846 L -1.403222032129,50.922340899551 L -1.4031034022256,50.922383457325 L -1.4028473024635,50.922495453584 L -1.4025998868928,50.922595803494 L -1.4014383433919,50.923086241993 L -1.4000118837094,50.923707497878 L -1.3991263331711,50.924085126207 L -1.3982979888984,50.924438762823 L -1.3975940800867,50.924740878991 L -1.3970346339017,50.924983487112 L -1.3961203481189,50.925378929251 L -1.3961161032388,50.92537710882 L -1.3950266034554,50.925018968276 L -1.394017957185,50.924681020305 L -1.3942537894465,50.92437919751 L -1.3945079851189,50.9240873611 L -1.3946942743045,50.92387520519 L -1.3949211191376,50.923607505791 L -1.3950205765898,50.92350820457 L -1.3951609633399,50.923324586066 L -1.3952377970747,50.923214376585 L -1.3953206239175,50.923080817682 L -1.3953631270597,50.922984818361 L -1.3954253456436,50.922684792261 L -1.3954529644436,50.922309949682 L -1.3954762163329,50.921613154445 L -1.3954539251239,50.921137337987 L -1.3954153105281,50.920713593287 L -1.3953870521592,50.920369035797 L -1.3953798280404,50.919938259504 L -1.3953647475161,50.91967470232 L -1.3953512612545,50.919178248585 L -1.3953590827679,50.919013726988 L -1.3951915292322,50.919099187359 L -1.3950539879965,50.919174011941 L -1.3948533654387,50.919286277979 L -1.3946443932865,50.919384112468 L -1.3943642584394,50.919484275443 L -1.3940968085334,50.919593495996 L -1.393916833005,50.919649214986 L -1.3936842579946,50.919701962996 L -1.3929354467504,50.919850047099 L -1.3922609780993,50.919969737269 L -1.3918445858117,50.920044905678 L -1.3914408662378,50.920130030324 L -1.3911285055906,50.920191350087 L -1.3906491999874,50.920290465991 L -1.3905067091612,50.920307707642 L -1.3904829248416,50.920277009185 L -1.3904221170972,50.920140006489 L -1.3903918073029,50.920064311648 L -1.3903111769201,50.919811202672 L -1.3902459029743,50.919689463752 L -1.390141656951,50.919610685191 L -1.3900837793004,50.919576211687 L -1.3899434768458,50.919535013056 L -1.3896753227912,50.919479657725 L -1.3892139894157,50.919184092424 L -1.3887913614074,50.918888188227 z\" /></g></svg>"
      ],
      "text/plain": [
       "<shapely.geometry.polygon.Polygon at 0x7f1cc035e780>"
      ]
     },
     "execution_count": 377,
     "metadata": {},
     "output_type": "execute_result"
    }
   ],
   "source": [
    "boundary_shape = geometry.Polygon( [(lon,lat) for (lat,lon) in boundary] )\n",
    "boundary_shape"
   ]
  },
  {
   "cell_type": "markdown",
   "metadata": {},
   "source": [
    "Now let's see how to create the Voronoi boundaries"
   ]
  },
  {
   "cell_type": "code",
   "execution_count": 378,
   "metadata": {},
   "outputs": [
    {
     "name": "stderr",
     "output_type": "stream",
     "text": [
      "INFO:geovoronoi:running Voronoi tesselation for 19 points\n",
      "INFO:geovoronoi:generated 19 Voronoi regions\n",
      "INFO:geovoronoi:generating Voronoi polygon lines\n",
      "INFO:geovoronoi:generating Voronoi polygon shapes\n",
      "INFO:geovoronoi:assigning 19 points to 19 Voronoi polygons\n"
     ]
    }
   ],
   "source": [
    "#https://github.com/WZBSocialScienceCenter/geovoronoi/blob/master/examples/using_geopandas.py\n",
    "\n",
    "from geovoronoi.plotting import subplot_for_map, plot_voronoi_polys_with_points_in_area\n",
    "from geovoronoi import voronoi_regions_from_coords, points_to_coords\n",
    "\n",
    "\n",
    "# convert the pandas Series of Point objects to NumPy array of coordinates\n",
    "coords = points_to_coords(gdf.Coordinates)\n",
    "Rcoords = points_to_coords(gdf.RCoordinates)\n",
    "\n",
    "# Calculate the Voronoi regions for the identifed points and then \n",
    "# clip within the geographic area shape\n",
    "poly_shapes, pts, poly_to_pt_assignments = voronoi_regions_from_coords(coords, boundary_shape)\n"
   ]
  },
  {
   "cell_type": "code",
   "execution_count": 379,
   "metadata": {},
   "outputs": [
    {
     "data": {
      "image/png": "[encoded data removed]",
      "text/plain": [
       "<Figure size 432x288 with 1 Axes>"
      ]
     },
     "metadata": {
      "needs_background": "light"
     },
     "output_type": "display_data"
    }
   ],
   "source": [
    "#Preview the shapes\n",
    "\n",
    "fig, ax = subplot_for_map()\n",
    "\n",
    "plot_voronoi_polys_with_points_in_area(ax, boundary_shape, poly_shapes, pts, poly_to_pt_assignments);\n"
   ]
  },
  {
   "cell_type": "markdown",
   "metadata": {},
   "source": [
    "The `polyshapes` object is a list of boundaries for the Voronoi areas, associated with particular points. In general, we might have multiple rows in the original table associated with each shape (the mappings are decribed as a list in `poly_to_pt_assignments`) but in this case we ensured unique locations in the dataframe. \n",
    "\n",
    "The Voronoi shaper returns items in the same order they were presented, so we can merge the data back:"
   ]
  },
  {
   "cell_type": "code",
   "execution_count": 380,
   "metadata": {},
   "outputs": [
    {
     "data": {
      "text/html": [
       "<div>\n",
       "<style scoped>\n",
       "    .dataframe tbody tr th:only-of-type {\n",
       "        vertical-align: middle;\n",
       "    }\n",
       "\n",
       "    .dataframe tbody tr th {\n",
       "        vertical-align: top;\n",
       "    }\n",
       "\n",
       "    .dataframe thead th {\n",
       "        text-align: right;\n",
       "    }\n",
       "</style>\n",
       "<table border=\"1\" class=\"dataframe\">\n",
       "  <thead>\n",
       "    <tr style=\"text-align: right;\">\n",
       "      <th></th>\n",
       "      <th>index</th>\n",
       "      <th>lat</th>\n",
       "      <th>lon</th>\n",
       "      <th>Count</th>\n",
       "      <th>Coordinates</th>\n",
       "      <th>RCoordinates</th>\n",
       "      <th>voronoi_boundary</th>\n",
       "    </tr>\n",
       "  </thead>\n",
       "  <tbody>\n",
       "    <tr>\n",
       "      <th>0</th>\n",
       "      <td>a_0</td>\n",
       "      <td>50.905766</td>\n",
       "      <td>-1.391004</td>\n",
       "      <td>1</td>\n",
       "      <td>POINT (-1.391004 50.905766)</td>\n",
       "      <td>POINT (50.905766 -1.391004)</td>\n",
       "      <td>POLYGON ((-1.403794612501743 50.91824480571032...</td>\n",
       "    </tr>\n",
       "    <tr>\n",
       "      <th>1</th>\n",
       "      <td>a_1</td>\n",
       "      <td>50.908768</td>\n",
       "      <td>-1.397479</td>\n",
       "      <td>1</td>\n",
       "      <td>POINT (-1.397479 50.908768)</td>\n",
       "      <td>POINT (50.908768 -1.397479)</td>\n",
       "      <td>POLYGON ((-1.400667122044089 50.91784738296978...</td>\n",
       "    </tr>\n",
       "    <tr>\n",
       "      <th>2</th>\n",
       "      <td>a_2</td>\n",
       "      <td>50.909429</td>\n",
       "      <td>-1.393246</td>\n",
       "      <td>2</td>\n",
       "      <td>POINT (-1.393246 50.909429)</td>\n",
       "      <td>POINT (50.909429 -1.393246)</td>\n",
       "      <td>POLYGON ((-1.400667122044089 50.91784738296978...</td>\n",
       "    </tr>\n",
       "    <tr>\n",
       "      <th>3</th>\n",
       "      <td>a_3</td>\n",
       "      <td>50.909940</td>\n",
       "      <td>-1.389427</td>\n",
       "      <td>1</td>\n",
       "      <td>POINT (-1.389427 50.90994)</td>\n",
       "      <td>POINT (50.90994 -1.389427)</td>\n",
       "      <td>POLYGON ((-1.39446924386208 50.91454443252438,...</td>\n",
       "    </tr>\n",
       "    <tr>\n",
       "      <th>4</th>\n",
       "      <td>a_4</td>\n",
       "      <td>50.910711</td>\n",
       "      <td>-1.399516</td>\n",
       "      <td>1</td>\n",
       "      <td>POINT (-1.399516 50.910711)</td>\n",
       "      <td>POINT (50.910711 -1.399516)</td>\n",
       "      <td>POLYGON ((-1.391828404158418 50.92004831759458...</td>\n",
       "    </tr>\n",
       "  </tbody>\n",
       "</table>\n",
       "</div>"
      ],
      "text/plain": [
       "  index        lat       lon  Count                  Coordinates  \\\n",
       "0   a_0  50.905766 -1.391004      1  POINT (-1.391004 50.905766)   \n",
       "1   a_1  50.908768 -1.397479      1  POINT (-1.397479 50.908768)   \n",
       "2   a_2  50.909429 -1.393246      2  POINT (-1.393246 50.909429)   \n",
       "3   a_3  50.909940 -1.389427      1   POINT (-1.389427 50.90994)   \n",
       "4   a_4  50.910711 -1.399516      1  POINT (-1.399516 50.910711)   \n",
       "\n",
       "                  RCoordinates  \\\n",
       "0  POINT (50.905766 -1.391004)   \n",
       "1  POINT (50.908768 -1.397479)   \n",
       "2  POINT (50.909429 -1.393246)   \n",
       "3   POINT (50.90994 -1.389427)   \n",
       "4  POINT (50.910711 -1.399516)   \n",
       "\n",
       "                                    voronoi_boundary  \n",
       "0  POLYGON ((-1.403794612501743 50.91824480571032...  \n",
       "1  POLYGON ((-1.400667122044089 50.91784738296978...  \n",
       "2  POLYGON ((-1.400667122044089 50.91784738296978...  \n",
       "3  POLYGON ((-1.39446924386208 50.91454443252438,...  \n",
       "4  POLYGON ((-1.391828404158418 50.92004831759458...  "
      ]
     },
     "execution_count": 380,
     "metadata": {},
     "output_type": "execute_result"
    }
   ],
   "source": [
    "gdf['voronoi_boundary'] = poly_shapes\n",
    "\n",
    "gdf = gdf.set_geometry('voronoi_boundary')\n",
    "\n",
    "gdf.head()"
   ]
  },
  {
   "cell_type": "markdown",
   "metadata": {},
   "source": [
    "We should now be able to plot this as a choropleth map:"
   ]
  },
  {
   "cell_type": "code",
   "execution_count": 381,
   "metadata": {},
   "outputs": [
    {
     "data": {
      "image/png": "[encoded data removed]",
      "text/plain": [
       "<Figure size 432x288 with 1 Axes>"
      ]
     },
     "metadata": {
      "needs_background": "light"
     },
     "output_type": "display_data"
    }
   ],
   "source": [
    "from descartes import PolygonPatch\n",
    "\n",
    "ax = gdf.plot(column='Count', cmap='OrRd')\n",
    "ax.add_patch(PolygonPatch(boundary_shape,fill=False))\n",
    "\n",
    "gdf = gdf.set_geometry('Coordinates')\n",
    "gdf[gdf['Count']>0].plot( ax=ax, markersize=1, c='b', marker='o')\n",
    "ax.axis('off');"
   ]
  },
  {
   "cell_type": "markdown",
   "metadata": {},
   "source": [
    "The shapes defined in geojson have to be just right for it to be plotted correctly.\n",
    "\n",
    "It seems that the shapes returned by the `voronoi_regions_from_coords()` don't play nicely with folium, so if we want to plot them in folium we need to repair the geojson that the geodataframe `__geo_interface__` returns.\n",
    "\n",
    "The following seems to do the trick..."
   ]
  },
  {
   "cell_type": "code",
   "execution_count": 383,
   "metadata": {
    "scrolled": false
   },
   "outputs": [],
   "source": [
    "import json\n",
    "from geojson_rewind import rewind\n",
    "\n",
    "gdf = gdf.set_geometry('voronoi_boundary')\n",
    "rewoundGeoJSON = rewind( json.dumps(gdf.set_index('index')['voronoi_boundary'].__geo_interface__) )"
   ]
  },
  {
   "cell_type": "code",
   "execution_count": 399,
   "metadata": {},
   "outputs": [
    {
     "data": {
      "text/html": [
       "<div style=\"width:100%;\"><div style=\"position:relative;width:100%;height:0;padding-bottom:60%;\"><iframe src=\"data:text/html;charset=utf-8;base64,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\" style=\"position:absolute;width:100%;height:100%;left:0;top:0;border:none !important;\" allowfullscreen webkitallowfullscreen mozallowfullscreen></iframe></div></div>"
      ],
      "text/plain": [
       "<folium.folium.Map at 0x7f1ca6c4b160>"
      ]
     },
     "execution_count": 399,
     "metadata": {},
     "output_type": "execute_result"
    }
   ],
   "source": [
    "def addMarker(m,row):\n",
    "    folium.Circle([row['lat'], row['lon']], radius=1, color='red').add_to(m)\n",
    "    \n",
    "m =  folium.Map(zoom_start=12, location=[50.905766, -1.391004])\n",
    "folium.Choropleth(rewoundGeoJSON,#gdf[['index','Count','voronoi_boundary']],\n",
    "                  key_on='id',\n",
    "                  data=gdf, \n",
    "                  columns=['index','Count'],\n",
    "            fill_color='YlOrBr').add_to(m)\n",
    "\n",
    "#for i, r in gdf.iterrows():\n",
    "#    folium.Circle([r['lat'], r['lon']], radius=1, color='red').add_to(m)\n",
    "gdf.apply(lambda x: addMarker(m,x), axis=1)\n",
    "m"
   ]
  },
  {
   "cell_type": "code",
   "execution_count": null,
   "metadata": {},
   "outputs": [],
   "source": [
    "# TO DO\n",
    "\n",
    "# Show how we can create maps for areas using widget selectors"
   ]
  },
  {
   "cell_type": "code",
   "execution_count": 370,
   "metadata": {},
   "outputs": [
    {
     "data": {
      "text/plain": [
       "'{\"type\": \"FeatureCollection\", \"features\": [{\"id\": \"0\", \"type\": \"Feature\", \"properties\": {}, \"geometry\": {\"type\": \"Polygon\", \"coordinates\": [[[-1.4037946125017426, 50.91824480571032], [-1.4034585309062, 50.917528443943], [-1.4031091633632, 50.9167038491], [-1.4040287717879696, 50.91655179869177], [-1.4034776071119648, 50.914798258270416], [-1.400339362298744, 50.91272477509024], [-1.4005217407443045, 50.91758598965707], [-1.4006671220440887, 50.91784738296978], [-1.4037946125017426, 50.91824480571032]]]}, \"bbox\": [-1.4040287717879696, 50.91272477509024, -1.400339362298744, 50.91824480571032]}, {\"id\": \"1\", \"type\": \"Feature\", \"properties\": {}, \"geometry\": {\"type\": \"Polygon\", \"coordinates\": [[[-1.4006671220440887, 50.91784738296978], [-1.3992598617652878, 50.918617201935824], [-1.3959035715175236, 50.925307245358404], [-1.3961161032388, 50.92537710882], [-1.3961203481189, 50.925378929251], [-1.3970346339017, 50.924983487112], [-1.3975940800867, 50.924740878991], [-1.3982979888984, 50.924438762823], [-1.3991263331711, 50.924085126207], [-1.4000118837094, 50.923707497878], [-1.4014383433919, 50.923086241993], [-1.4025998868928, 50.922595803494], [-1.4028473024635, 50.922495453584], [-1.4031034022256, 50.922383457325], [-1.403222032129, 50.922340899551], [-1.4034233924114, 50.92228167846], [-1.4036659622817, 50.92222626435], [-1.4040210449265, 50.922161532028], [-1.4044887429231, 50.922079387781], [-1.4049505654105, 50.922011599666], [-1.405051788936, 50.921995029502], [-1.4049688367824, 50.921582752582], [-1.4047059709151, 50.920552676429], [-1.4045019001389, 50.920044461806], [-1.4039215810659, 50.91869802894], [-1.4038997751296, 50.918511773739], [-1.4038919979055, 50.918452383813], [-1.4037946125017426, 50.91824480571032], [-1.4006671220440887, 50.91784738296978]]]}, \"bbox\": [-1.405051788936, 50.91784738296978, -1.3959035715175236, 50.925378929251]}, {\"id\": \"2\", \"type\": \"Feature\", \"properties\": {}, \"geometry\": {\"type\": \"Polygon\", \"coordinates\": [[[-1.4006671220440887, 50.91784738296978], [-1.4005217407443045, 50.91758598965707], [-1.3991037260664976, 50.91594740972628], [-1.3955083531786927, 50.913820133091846], [-1.3944692438620803, 50.91454443252438], [-1.3973821796692398, 50.91813143612163], [-1.3992598617652878, 50.918617201935824], [-1.4006671220440887, 50.91784738296978]]]}, \"bbox\": [-1.4006671220440887, 50.913820133091846, -1.3944692438620803, 50.918617201935824]}, {\"id\": \"3\", \"type\": \"Feature\", \"properties\": {}, \"geometry\": {\"type\": \"Polygon\", \"coordinates\": [[[-1.3944692438620803, 50.91454443252438], [-1.3920584407019747, 50.915220318410334], [-1.3899861729355283, 50.91765778560785], [-1.3898027944897, 50.917999264493], [-1.3894253024958, 50.918581802548], [-1.3890438731997017, 50.918766148500666], [-1.3888846113024316, 50.91895347740511], [-1.3892139894157, 50.919184092424], [-1.3896753227912, 50.919479657725], [-1.3899434768458, 50.919535013056], [-1.3900837793004, 50.919576211687], [-1.390141656951, 50.919610685191], [-1.3902459029743, 50.919689463752], [-1.3903111769201, 50.919811202672], [-1.3903918073029, 50.920064311648], [-1.3904221170972, 50.920140006489], [-1.3904829248416, 50.920277009185], [-1.3905067091612, 50.920307707642], [-1.3906491999874, 50.920290465991], [-1.3911285055906, 50.920191350087], [-1.3914408662378, 50.920130030324], [-1.3918284041584181, 50.92004831759458], [-1.3973821796692398, 50.91813143612163], [-1.3944692438620803, 50.91454443252438]]]}, \"bbox\": [-1.3973821796692398, 50.91454443252438, -1.3888846113024316, 50.920307707642]}, {\"id\": \"4\", \"type\": \"Feature\", \"properties\": {}, \"geometry\": {\"type\": \"Polygon\", \"coordinates\": [[[-1.3918284041584181, 50.92004831759458], [-1.3918445858117, 50.920044905678], [-1.3922609780993, 50.919969737269], [-1.3929354467504, 50.919850047099], [-1.3936842579946, 50.919701962996], [-1.393916833005, 50.919649214986], [-1.3940968085334, 50.919593495996], [-1.3943642584394, 50.919484275443], [-1.3946443932865, 50.919384112468], [-1.3948533654387, 50.919286277979], [-1.3950539879965, 50.919174011941], [-1.3951915292322, 50.919099187359], [-1.3953590827679, 50.919013726988], [-1.3953512612545, 50.919178248585], [-1.3953647475161, 50.91967470232], [-1.3953798280404, 50.919938259504], [-1.3953870521592, 50.920369035797], [-1.3954153105281, 50.920713593287], [-1.3954539251239, 50.921137337987], [-1.3954762163329, 50.921613154445], [-1.3954529644436, 50.922309949682], [-1.3954253456436, 50.922684792261], [-1.3953631270597, 50.922984818361], [-1.3953206239175, 50.923080817682], [-1.3952377970747, 50.923214376585], [-1.3951609633399, 50.923324586066], [-1.3950205765898, 50.92350820457], [-1.3949211191376, 50.923607505791], [-1.3946942743045, 50.92387520519], [-1.3945079851189, 50.9240873611], [-1.3942537894465, 50.92437919751], [-1.394017957185, 50.924681020305], [-1.3950266034554, 50.925018968276], [-1.3959035715175236, 50.925307245358404], [-1.3992598617652878, 50.918617201935824], [-1.3973821796692398, 50.91813143612163], [-1.3918284041584181, 50.92004831759458]]]}, \"bbox\": [-1.3992598617652878, 50.91813143612163, -1.3918284041584181, 50.925307245358404]}, {\"id\": \"5\", \"type\": \"Feature\", \"properties\": {}, \"geometry\": {\"type\": \"Polygon\", \"coordinates\": [[[-1.3857669952605958, 50.90741113349078], [-1.3857453465696, 50.90742083473], [-1.384987905115, 50.90771890705], [-1.3845289869672, 50.907790678092], [-1.383991010016, 50.907828488498], [-1.3837056747255, 50.907970593493], [-1.3820261830812, 50.908157937031], [-1.3815662427695, 50.908306217073], [-1.3804334600125, 50.908675920681], [-1.3797716442546, 50.908923568857], [-1.3792888681116, 50.909076664555], [-1.3785516320889, 50.90930484099], [-1.3780915102478, 50.909465066391], [-1.3775892807982, 50.909668229562], [-1.3769385108957, 50.909927970468], [-1.3763608380153, 50.910401039998], [-1.3761132427983, 50.910792149907], [-1.3760704678941, 50.911172483304], [-1.3761330500219, 50.911577209429], [-1.3763544706371, 50.912006613624], [-1.3769686117531, 50.912778118112], [-1.3782718393674, 50.912981187114], [-1.3787884963407, 50.913118013461], [-1.3793855402252, 50.913200140703], [-1.379812093925, 50.913288553898], [-1.3804358194179, 50.913354091397], [-1.3807563161599, 50.913449132601], [-1.3809952096954, 50.913412090706], [-1.3825598371683, 50.913599860448], [-1.3830814463173, 50.913643262101], [-1.3835702310551, 50.913619494282], [-1.3861597745596, 50.913762711056], [-1.3863673578711, 50.913899857732], [-1.3865790384946, 50.913920123386], [-1.3862423638477, 50.914253864293], [-1.3865254437325, 50.914339880409], [-1.3869571690595, 50.9139604162], [-1.3873903695184386, 50.914114520823325], [-1.3876810433779698, 50.91086241711965], [-1.3857669952605958, 50.90741113349078]]]}, \"bbox\": [-1.3876810433779698, 50.90741113349078, -1.3760704678941, 50.914339880409]}, {\"id\": \"6\", \"type\": \"Feature\", \"properties\": {}, \"geometry\": {\"type\": \"MultiPolygon\", \"coordinates\": [[[[-1.3920584407019747, 50.915220318410334], [-1.3914292244100779, 50.911274342555515], [-1.3876810433779698, 50.91086241711965], [-1.3873903695184386, 50.914114520823325], [-1.3882269161741, 50.91441210986], [-1.3893573742857, 50.915074384738], [-1.3896659530877, 50.915408718685], [-1.3899607820706, 50.915707010111], [-1.3898855481812, 50.916021353682], [-1.3903401386041, 50.916068689196], [-1.3904044502387, 50.916590587995], [-1.3903276912624, 50.917021825929], [-1.3899861729355283, 50.91765778560785], [-1.3920584407019747, 50.915220318410334]]], [[[-1.3890438731997017, 50.918766148500666], [-1.3887913614074, 50.918888188227], [-1.3888846113024316, 50.91895347740511], [-1.3890438731997017, 50.918766148500666]]]]}, \"bbox\": [-1.3920584407019747, 50.91086241711965, -1.3873903695184386, 50.91895347740511]}, {\"id\": \"7\", \"type\": \"Feature\", \"properties\": {}, \"geometry\": {\"type\": \"Polygon\", \"coordinates\": [[[-1.3944692438620803, 50.91454443252438], [-1.3955083531786927, 50.913820133091846], [-1.3956730642497417, 50.91354349062872], [-1.3960018368883376, 50.91056421539376], [-1.3954780972940257, 50.909838777376116], [-1.3915147320829757, 50.91101653194695], [-1.3914292244100779, 50.911274342555515], [-1.3920584407019747, 50.915220318410334], [-1.3944692438620803, 50.91454443252438]]]}, \"bbox\": [-1.3960018368883376, 50.909838777376116, -1.3914292244100779, 50.915220318410334]}, {\"id\": \"8\", \"type\": \"Feature\", \"properties\": {}, \"geometry\": {\"type\": \"Polygon\", \"coordinates\": [[[-1.3876810433779698, 50.91086241711965], [-1.3914292244100779, 50.911274342555515], [-1.3915147320829757, 50.91101653194695], [-1.3911380761369994, 50.9082015631452], [-1.387123257546138, 50.906684704276536], [-1.3870821350623, 50.906748833671], [-1.3866180648842, 50.907029751078], [-1.3857669952605958, 50.90741113349078], [-1.3876810433779698, 50.91086241711965]]]}, \"bbox\": [-1.3915147320829757, 50.906684704276536, -1.3857669952605958, 50.911274342555515]}, {\"id\": \"9\", \"type\": \"Feature\", \"properties\": {}, \"geometry\": {\"type\": \"Polygon\", \"coordinates\": [[[-1.3991037260664976, 50.91594740972628], [-1.3990039849537552, 50.91281963072933], [-1.3956730642497417, 50.91354349062872], [-1.3955083531786927, 50.913820133091846], [-1.3991037260664976, 50.91594740972628]]]}, \"bbox\": [-1.3991037260664976, 50.91281963072933, -1.3955083531786927, 50.91594740972628]}, {\"id\": \"10\", \"type\": \"Feature\", \"properties\": {}, \"geometry\": {\"type\": \"Polygon\", \"coordinates\": [[[-1.4005217407443045, 50.91758598965707], [-1.400339362298744, 50.91272477509024], [-1.4001571973197617, 50.912382770031826], [-1.399541491208858, 50.912408371495005], [-1.3990039849537552, 50.91281963072933], [-1.3991037260664976, 50.91594740972628], [-1.4005217407443045, 50.91758598965707]]]}, \"bbox\": [-1.4005217407443045, 50.912382770031826, -1.3990039849537552, 50.91758598965707]}, {\"id\": \"11\", \"type\": \"Feature\", \"properties\": {}, \"geometry\": {\"type\": \"Polygon\", \"coordinates\": [[[-1.3915147320829757, 50.91101653194695], [-1.3954780972940257, 50.909838777376116], [-1.395171724275357, 50.90787678495853], [-1.3950623496152, 50.907879510658], [-1.3946897726666, 50.907874882978], [-1.3940701677449, 50.907835700891], [-1.3936038674324, 50.907819792599], [-1.3932452325574, 50.907836814634], [-1.3929800406434, 50.907886694086], [-1.3927687859323, 50.907944946548], [-1.3925586721703, 50.908024786516], [-1.3923541762461, 50.908110050815], [-1.3921838121801, 50.90819549235], [-1.3922573316741, 50.907792112443], [-1.3922967910778707, 50.90749235241699], [-1.3911380761369994, 50.9082015631452], [-1.3915147320829757, 50.91101653194695]]]}, \"bbox\": [-1.3954780972940257, 50.90749235241699, -1.3911380761369994, 50.91101653194695]}, {\"id\": \"12\", \"type\": \"Feature\", \"properties\": {}, \"geometry\": {\"type\": \"Polygon\", \"coordinates\": [[[-1.3922967910778707, 50.90749235241699], [-1.3923772807917, 50.90688089871], [-1.3924171630598, 50.906548384271], [-1.3925049604605, 50.905812356445], [-1.3925738724531, 50.905325322113], [-1.3926575695994, 50.90468549231], [-1.3920960801435, 50.904664586753], [-1.3920760949036, 50.904779586575], [-1.3901172792244, 50.904597619831], [-1.3895879244611, 50.905273787703], [-1.3895456727201, 50.905350902297], [-1.3892651778462, 50.905266705297], [-1.3892433877153, 50.905301662071], [-1.3888548258379, 50.905215999777], [-1.388863558467, 50.905200758235], [-1.3883031481692, 50.905097109212], [-1.3882847080258, 50.905093415656], [-1.3881085150132, 50.905092133183], [-1.3878608014131, 50.905534524687], [-1.387123257546138, 50.906684704276536], [-1.3911380761369994, 50.9082015631452], [-1.3922967910778707, 50.90749235241699]]]}, \"bbox\": [-1.3926575695994, 50.904597619831, -1.387123257546138, 50.9082015631452]}, {\"id\": \"13\", \"type\": \"Feature\", \"properties\": {}, \"geometry\": {\"type\": \"Polygon\", \"coordinates\": [[[-1.3954780972940257, 50.909838777376116], [-1.3960018368883376, 50.91056421539376], [-1.397992671737685, 50.910268751245674], [-1.399439934024099, 50.90875147215281], [-1.3992979219108, 50.908651339879], [-1.3990707053117, 50.908513485631], [-1.3987303045895, 50.908329186798], [-1.3983944859008, 50.908120630866], [-1.3981626024015, 50.908014224472], [-1.3978137645716, 50.907933292986], [-1.3974301226318, 50.90790433732], [-1.3967806722819, 50.907863217177], [-1.3964864896031, 50.907845511286], [-1.3961466113061, 50.907841956425], [-1.3959602240413, 50.907847287561], [-1.3956799377959, 50.907854830435], [-1.3953611244724, 50.907872064962], [-1.395171724275357, 50.90787678495853], [-1.3954780972940257, 50.909838777376116]]]}, \"bbox\": [-1.399439934024099, 50.907841956425, -1.395171724275357, 50.91056421539376]}, {\"id\": \"14\", \"type\": \"Feature\", \"properties\": {}, \"geometry\": {\"type\": \"Polygon\", \"coordinates\": [[[-1.399541491208858, 50.912408371495005], [-1.397992671737685, 50.910268751245674], [-1.3960018368883376, 50.91056421539376], [-1.3956730642497417, 50.91354349062872], [-1.3990039849537552, 50.91281963072933], [-1.399541491208858, 50.912408371495005]]]}, \"bbox\": [-1.399541491208858, 50.910268751245674, -1.3956730642497417, 50.91354349062872]}, {\"id\": \"15\", \"type\": \"Feature\", \"properties\": {}, \"geometry\": {\"type\": \"Polygon\", \"coordinates\": [[[-1.399541491208858, 50.912408371495005], [-1.4001571973197617, 50.912382770031826], [-1.401780485352372, 50.910663520477435], [-1.4016379362786, 50.910623708591], [-1.4016396646481, 50.910488830332], [-1.4016160343021, 50.910334937984], [-1.4014922239162, 50.910229091791], [-1.4014242783587, 50.910203564743], [-1.4013690640024, 50.910183498379], [-1.4011887259208, 50.910160092953], [-1.4011963330164, 50.910121464303], [-1.4012575318995, 50.910007573544], [-1.4011883490388, 50.909967652055], [-1.4012456770988, 50.909933774488], [-1.401076472138, 50.909818702698], [-1.4008703936019, 50.909695348328], [-1.4005218362239, 50.909480438532], [-1.4003031453473, 50.909342630464], [-1.4000379035896, 50.909174907746], [-1.3997489483524, 50.908971092667], [-1.3995445883349, 50.908825263563], [-1.399439934024099, 50.90875147215281], [-1.397992671737685, 50.910268751245674], [-1.399541491208858, 50.912408371495005]]]}, \"bbox\": [-1.401780485352372, 50.90875147215281, -1.397992671737685, 50.912408371495005]}, {\"id\": \"16\", \"type\": \"Feature\", \"properties\": {}, \"geometry\": {\"type\": \"Polygon\", \"coordinates\": [[[-1.4001571973197617, 50.912382770031826], [-1.400339362298744, 50.91272477509024], [-1.4034776071119648, 50.914798258270416], [-1.403435675715728, 50.91337806011095], [-1.4020634579440892, 50.91074255061343], [-1.401780485352372, 50.910663520477435], [-1.4001571973197617, 50.912382770031826]]]}, \"bbox\": [-1.4034776071119648, 50.910663520477435, -1.4001571973197617, 50.914798258270416]}, {\"id\": \"17\", \"type\": \"Feature\", \"properties\": {}, \"geometry\": {\"type\": \"Polygon\", \"coordinates\": [[[-1.403435675715728, 50.91337806011095], [-1.4056942663950784, 50.91110372228543], [-1.4055880269317, 50.910720309917], [-1.405416199266, 50.910363333586], [-1.4049335613286, 50.910511050463], [-1.4044694671998, 50.910654363641], [-1.4041470130011, 50.910732752436], [-1.4032468128324, 50.910943077652], [-1.4031428026092, 50.910956934262], [-1.4030559631338, 50.910962785295], [-1.4029621272128, 50.910959608034], [-1.4028555712907, 50.910950070949], [-1.4027235869305, 50.910926915054], [-1.4020634579440892, 50.91074255061343], [-1.403435675715728, 50.91337806011095]]]}, \"bbox\": [-1.4056942663950784, 50.910363333586, -1.4020634579440892, 50.91337806011095]}, {\"id\": \"18\", \"type\": \"Feature\", \"properties\": {}, \"geometry\": {\"type\": \"Polygon\", \"coordinates\": [[[-1.4034776071119648, 50.914798258270416], [-1.4040287717879696, 50.91655179869177], [-1.4042909480758, 50.916508449794], [-1.4045487323635, 50.916484585051], [-1.4046839566261, 50.916478080211], [-1.404847503706, 50.916481611211], [-1.4053351284044, 50.916505676178], [-1.4064996959679, 50.916656376738], [-1.4065437920244, 50.916656600741], [-1.4064294686637, 50.916138054054], [-1.4063560596678, 50.915758199068], [-1.40632567646, 50.915574598396], [-1.4063155320113, 50.915477428224], [-1.406337089934, 50.915012627311], [-1.4063509959578, 50.914813964478], [-1.406284790567, 50.914650864404], [-1.4062859295206, 50.914449438943], [-1.4062950881951, 50.914288520332], [-1.4063348598772, 50.914069306246], [-1.4063729915901, 50.913867169493], [-1.4064770296446, 50.91306826768], [-1.4065113271956, 50.912831939989], [-1.4065010114633, 50.912748257621], [-1.4064721776053, 50.912554773044], [-1.406420781148, 50.912345886619], [-1.4063736911471, 50.912245830934], [-1.4062422114501, 50.912070708849], [-1.4061216537357, 50.911931612013], [-1.406038709738, 50.911854754338], [-1.4059786601586, 50.911767222052], [-1.4059158920459, 50.911669784191], [-1.4058538221352, 50.91151749577], [-1.4057667807495, 50.911315621702], [-1.4057240172563, 50.911211091504], [-1.4056942663950784, 50.91110372228543], [-1.403435675715728, 50.91337806011095], [-1.4034776071119648, 50.914798258270416]]]}, \"bbox\": [-1.4065437920244, 50.91110372228543, -1.403435675715728, 50.916656600741]}], \"bbox\": [-1.4065437920244, 50.904597619831, -1.3760704678941, 50.925378929251]}'"
      ]
     },
     "execution_count": 370,
     "metadata": {},
     "output_type": "execute_result"
    }
   ],
   "source": [
    "rewoundGeoJSON"
   ]
  },
  {
   "cell_type": "code",
   "execution_count": 372,
   "metadata": {},
   "outputs": [
    {
     "data": {
      "text/plain": [
       "index                 int64\n",
       "lat                 float64\n",
       "lon                 float64\n",
       "Count                 int64\n",
       "Coordinates          object\n",
       "RCoordinates         object\n",
       "voronoi_boundary     object\n",
       "dtype: object"
      ]
     },
     "execution_count": 372,
     "metadata": {},
     "output_type": "execute_result"
    }
   ],
   "source": [
    "gdf.dtypes"
   ]
  },
  {
   "cell_type": "code",
   "execution_count": null,
   "metadata": {},
   "outputs": [],
   "source": []
  }
 ],
 "metadata": {
  "kernelspec": {
   "display_name": "Python 3",
   "language": "python",
   "name": "python3"
  },
  "language_info": {
   "codemirror_mode": {
    "name": "ipython",
    "version": 3
   },
   "file_extension": ".py",
   "mimetype": "text/x-python",
   "name": "python",
   "nbconvert_exporter": "python",
   "pygments_lexer": "ipython3",
   "version": "3.6.7"
  }
 },
 "nbformat": 4,
 "nbformat_minor": 2
}
