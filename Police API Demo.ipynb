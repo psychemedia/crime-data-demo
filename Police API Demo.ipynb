{
 "cells": [
  {
   "cell_type": "markdown",
   "metadata": {},
   "source": [
    "# Police API Demo\n",
    "\n",
    "The https://data.police.uk/docs/ website provides an API — an *application programming interface* — that allows us to write programmatic code that can be used to query and download data from the website directly (that is, at a \"machine to machine\" level).\n",
    "\n",
    "A Pyhton package exists that \"wraps\" this API and allows us to call it from Python code: https://github.com/rkhleics/police-api-client-python ([docs](https://police-api-client-python.readthedocs.io/en/latest/))."
   ]
  },
  {
   "cell_type": "markdown",
   "metadata": {},
   "source": [
    "## Using the API\n",
    "\n",
    "Let's see how to use the API to download all the data for a particular year in a particular policie neighbourhood area."
   ]
  },
  {
   "cell_type": "code",
   "execution_count": 1,
   "metadata": {},
   "outputs": [],
   "source": [
    "#Initialisation\n",
    "from police_api import PoliceAPI\n",
    "api = PoliceAPI()"
   ]
  },
  {
   "cell_type": "code",
   "execution_count": 2,
   "metadata": {},
   "outputs": [
    {
     "data": {
      "text/plain": [
       "[<Force> Avon and Somerset Constabulary,\n",
       " <Force> Bedfordshire Police,\n",
       " <Force> Cambridgeshire Constabulary,\n",
       " <Force> Cheshire Constabulary,\n",
       " <Force> City of London Police,\n",
       " <Force> Cleveland Police,\n",
       " <Force> Cumbria Constabulary,\n",
       " <Force> Derbyshire Constabulary,\n",
       " <Force> Devon & Cornwall Police,\n",
       " <Force> Dorset Police,\n",
       " <Force> Durham Constabulary,\n",
       " <Force> Dyfed-Powys Police,\n",
       " <Force> Essex Police,\n",
       " <Force> Gloucestershire Constabulary,\n",
       " <Force> Greater Manchester Police,\n",
       " <Force> Gwent Police,\n",
       " <Force> Hampshire Constabulary,\n",
       " <Force> Hertfordshire Constabulary,\n",
       " <Force> Humberside Police,\n",
       " <Force> Kent Police,\n",
       " <Force> Lancashire Constabulary,\n",
       " <Force> Leicestershire Police,\n",
       " <Force> Lincolnshire Police,\n",
       " <Force> Merseyside Police,\n",
       " <Force> Metropolitan Police Service,\n",
       " <Force> Norfolk Constabulary,\n",
       " <Force> North Wales Police,\n",
       " <Force> North Yorkshire Police,\n",
       " <Force> Northamptonshire Police,\n",
       " <Force> Northumbria Police,\n",
       " <Force> Nottinghamshire Police,\n",
       " <Force> Police Service of Northern Ireland,\n",
       " <Force> South Wales Police,\n",
       " <Force> South Yorkshire Police,\n",
       " <Force> Staffordshire Police,\n",
       " <Force> Suffolk Constabulary,\n",
       " <Force> Surrey Police,\n",
       " <Force> Sussex Police,\n",
       " <Force> Thames Valley Police,\n",
       " <Force> Warwickshire Police,\n",
       " <Force> West Mercia Police,\n",
       " <Force> West Midlands Police,\n",
       " <Force> West Yorkshire Police,\n",
       " <Force> Wiltshire Police]"
      ]
     },
     "execution_count": 2,
     "metadata": {},
     "output_type": "execute_result"
    }
   ],
   "source": [
    "#Get forces\n",
    "forces = api.get_forces()\n",
    "forces"
   ]
  },
  {
   "cell_type": "markdown",
   "metadata": {},
   "source": [
    "Each force has several atributes associated with it.\n",
    "\n",
    "The items that are returned are a little confusing to work with. Let's make them more directly useable:"
   ]
  },
  {
   "cell_type": "code",
   "execution_count": 3,
   "metadata": {},
   "outputs": [],
   "source": [
    "def getIdName(records, name):\n",
    "    ''' Get id force by name. '''\n",
    "    return {r.name:r.id for r in records if name.lower() in r.name.lower()}"
   ]
  },
  {
   "cell_type": "code",
   "execution_count": 4,
   "metadata": {},
   "outputs": [
    {
     "data": {
      "text/plain": [
       "{'Hampshire Constabulary': 'hampshire'}"
      ]
     },
     "execution_count": 4,
     "metadata": {},
     "output_type": "execute_result"
    }
   ],
   "source": [
    "getIdName(forces, 'Hampshire')"
   ]
  },
  {
   "cell_type": "code",
   "execution_count": 5,
   "metadata": {},
   "outputs": [],
   "source": [
    "#Get police authority\n",
    "force = api.get_force('hampshire')\n"
   ]
  },
  {
   "cell_type": "code",
   "execution_count": 6,
   "metadata": {},
   "outputs": [],
   "source": [
    "def getNameId(records, rid=None):\n",
    "    ''' Get record name by id. '''\n",
    "    if rid:\n",
    "        return {r.name:r.id for r in records if rid == r.id}\n",
    "    return {r.name:r.id for r in records}"
   ]
  },
  {
   "cell_type": "code",
   "execution_count": 7,
   "metadata": {
    "scrolled": false
   },
   "outputs": [
    {
     "data": {
      "text/plain": [
       "{'Aldershot North': '14RA01',\n",
       " 'Aldershot South': '14RA02',\n",
       " 'Alton': '8OL01',\n",
       " 'Alton Rural': '8OL02',\n",
       " 'Andover East': '11TA04',\n",
       " 'Andover North': '11TA02',\n",
       " 'Andover South': '11TA03',\n",
       " 'Andover Town': '11TA01',\n",
       " 'Bargate': '2SC02',\n",
       " 'Barncroft and Bedhampton': '7JH02',\n",
       " 'Basingstoke Centre': '12BB02',\n",
       " 'Basingstoke East': '12BB05',\n",
       " 'Basingstoke North': '12BB03',\n",
       " 'Basingstoke Rural East': '12BL02',\n",
       " 'Basingstoke Rural South': '12BL01',\n",
       " 'Basingstoke Rural West': '12BL03',\n",
       " 'Basingstoke South': '12BB01',\n",
       " 'Basingstoke West': '12BB04',\n",
       " 'Battins and West Leigh': '7JH03',\n",
       " 'Bevois': '2SC01',\n",
       " 'Bishops Waltham and Soberton': '9WG02',\n",
       " 'Bitterne North': '2SN02',\n",
       " 'Bordon': '8OW02',\n",
       " 'Butser Clanfield Rowlands Castle': '8OP02',\n",
       " 'Central Southsea and St Jude': '5PS02',\n",
       " 'Charles Dickens and Nelson': '5PC01',\n",
       " 'Cosham': '5PN01',\n",
       " 'Cowes': '6LW01',\n",
       " 'Coxford Redbridge Millbrook': '2SW02',\n",
       " 'Crofton and Titchfield': '3FP01',\n",
       " 'Denmead and Southwick': '9WG05',\n",
       " 'East Cowes and Wootton': '6LE01',\n",
       " 'Eastleigh Central': '10EE01',\n",
       " 'Eastleigh East': '10EE02',\n",
       " 'Eastleigh West': '10EE03',\n",
       " 'Eastney and Milton': '5PS03',\n",
       " 'Fareham': '3FF02',\n",
       " 'Farnborough Central': '14RF01',\n",
       " 'Farnborough North': '14RF02',\n",
       " 'Farnborough South': '14RF04',\n",
       " 'Farnborough West': '14RF03',\n",
       " 'Fleet': '13HS01',\n",
       " 'Four Marks and Ropley': '8OL03',\n",
       " 'Fratton and Baffins': '5PC02',\n",
       " 'Gosport Central': '4GG02',\n",
       " 'Gosport East': '4GG01',\n",
       " 'Gosport West': '4GG03',\n",
       " 'Hart Rural North': '13HN02',\n",
       " 'Hart Rural South': '13HS02',\n",
       " 'Havant and Emsworth': '7JH01',\n",
       " 'Hayling Island': '7JL01',\n",
       " 'Hedge End North': '10EH02',\n",
       " 'Hedge End South': '10EH01',\n",
       " 'Hilsea and Copnor': '5PN03',\n",
       " 'Horndean': '8OP01',\n",
       " 'Hythe': '1NE01',\n",
       " 'Lee': '4GG04',\n",
       " 'Liss': '8OW03',\n",
       " 'Longmoor Rural': '8OW01',\n",
       " 'Lymington': '1NW02',\n",
       " 'New Forest Heart': '1NE03',\n",
       " 'New Milton': '1NW03',\n",
       " 'Newport': '6LW02',\n",
       " 'Owslebury and Curdridge': '9WG01',\n",
       " 'Paulsgrove': '5PN02',\n",
       " 'Peartree and Woolston': '2SE02',\n",
       " 'Petersfield': '8OP03',\n",
       " 'Portchester': '3FF01',\n",
       " 'Portswood': '2SN01',\n",
       " 'Ringwood': '1NW01',\n",
       " 'Romsey East': '11TR03',\n",
       " 'Romsey North': '11TR02',\n",
       " 'Romsey Town': '11TR01',\n",
       " 'Ryde': '6LE02',\n",
       " 'Sandown and Lake': '6LS01',\n",
       " 'Shanklin and Ventnor': '6LS02',\n",
       " 'Shirley and Freemantle': '2SW01',\n",
       " 'Sholing and Bitterne': '2SE01',\n",
       " 'St Thomas': '5PS01',\n",
       " 'Totton': '1NE02',\n",
       " 'Waterlooville North': '7JW02',\n",
       " 'Waterlooville South': '7JW01',\n",
       " 'West Meon and Hambledon': '9WG04',\n",
       " 'Western Wards': '3FP02',\n",
       " 'Wickham and Whiteley': '9WG03',\n",
       " 'Wight Rural East': '6LE03',\n",
       " 'Wight Rural South': '6LS03',\n",
       " 'Wight Rural West': '6LW03',\n",
       " 'Winchester Central': '9WC02',\n",
       " 'Winchester North': '9WC01',\n",
       " 'Winchester Rural East': '9WR03',\n",
       " 'Winchester Rural North': '9WR02',\n",
       " 'Winchester Rural West': '9WR01',\n",
       " 'Winchester South': '9WC03',\n",
       " 'Yateley Blackwater and Hawley': '13HN01'}"
      ]
     },
     "execution_count": 7,
     "metadata": {},
     "output_type": "execute_result"
    }
   ],
   "source": [
    "areas = getNameId(force.neighbourhoods)\n",
    "areas"
   ]
  },
  {
   "cell_type": "code",
   "execution_count": 8,
   "metadata": {},
   "outputs": [
    {
     "name": "stdout",
     "output_type": "stream",
     "text": [
      "['2019-01', '2018-12', '2018-11', '2018-10', '2018-09', '2018-08', '2018-07', '2018-06', '2018-05', '2018-04', '2018-03', '2018-02', '2018-01', '2017-12', '2017-11', '2017-10', '2017-09', '2017-08', '2017-07', '2017-06', '2017-05', '2017-04', '2017-03', '2017-02', '2017-01', '2016-12', '2016-11', '2016-10', '2016-09', '2016-08', '2016-07', '2016-06', '2016-05', '2016-04', '2016-03', '2016-02']\n"
     ]
    }
   ],
   "source": [
    "#Show dates available\n",
    "print( api.get_dates() )"
   ]
  },
  {
   "cell_type": "markdown",
   "metadata": {},
   "source": [
    "We can get crimes in a particular boundary area defined by a simple boundary definition list (a closed list of points defining an area).\n",
    "\n",
    "We can get a list for a particular neighbourhood in the following way:"
   ]
  },
  {
   "cell_type": "code",
   "execution_count": 9,
   "metadata": {},
   "outputs": [],
   "source": [
    "neighbourhood = force.get_neighbourhood( areas['Ryde'] )\n",
    "boundary = neighbourhood.boundary\n"
   ]
  },
  {
   "cell_type": "markdown",
   "metadata": {},
   "source": [
    "We can plot that boundary using folium if we cast it into the correct form.\n",
    "\n",
    "In particular, we need to convert the list of lat/lon co-ordinates to a set of lon/lat co-ordinates inside a geojson data structure that folium can work with.\n",
    "\n",
    "(Getting the correct order for co-ordinates can be a pain, with different packages and formats adopting different conventions. A handy summary can be found [here](https://macwright.org/lonlat/).)"
   ]
  },
  {
   "cell_type": "code",
   "execution_count": 10,
   "metadata": {},
   "outputs": [],
   "source": [
    "def geoJsonFromNeighbourhoodBoundary(boundary):\n",
    "    ''' Generate geojson polygon from police API boundary. '''\n",
    "    geojson = {\"type\": \"FeatureCollection\",\n",
    "               \"features\": [\n",
    "                   {\n",
    "                       \"type\": \"Feature\",\n",
    "                       \"properties\": {},\n",
    "                       \"geometry\": {\n",
    "                           \"type\": \"Polygon\",\n",
    "                           \"coordinates\":  [[[ll[1],ll[0]] for ll in boundary]]\n",
    "                       }\n",
    "                   }\n",
    "               ]\n",
    "              }\n",
    "    return geojson\n",
    "#geojson"
   ]
  },
  {
   "cell_type": "code",
   "execution_count": 13,
   "metadata": {},
   "outputs": [
    {
     "data": {
      "text/html": [
       "<div style=\"width:100%;\"><div style=\"position:relative;width:100%;height:0;padding-bottom:60%;\"><iframe src=\"data:text/html;charset=utf-8;base64,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\" style=\"position:absolute;width:100%;height:100%;left:0;top:0;border:none !important;\" allowfullscreen webkitallowfullscreen mozallowfullscreen></iframe></div></div>"
      ],
      "text/plain": [
       "<folium.folium.Map at 0x7fdc15c66240>"
      ]
     },
     "execution_count": 13,
     "metadata": {},
     "output_type": "execute_result"
    }
   ],
   "source": [
    "import folium\n",
    "import json\n",
    "\n",
    "m = folium.Map(\n",
    "    location=boundary[0], #Just pick the first point in boundary to centre map - rough and ready!\n",
    "    #Note that the default location is in lat/lon order\n",
    "    tiles='Mapbox Bright',\n",
    "    zoom_start=11\n",
    ")\n",
    "\n",
    "folium.GeoJson(\n",
    "    geoJsonFromNeighbourhoodBoundary(boundary),\n",
    "    name='geojson'\n",
    ").add_to(m)\n",
    "\n",
    "m"
   ]
  },
  {
   "cell_type": "markdown",
   "metadata": {},
   "source": [
    "## Get crimes in an area\n",
    "\n",
    "We can use the API to retrieve crimes recorded within a particular area for a particular time period."
   ]
  },
  {
   "cell_type": "code",
   "execution_count": 18,
   "metadata": {},
   "outputs": [],
   "source": [
    "crimes = api.get_crimes_area(neighbourhood.boundary, date='2019-01')\n"
   ]
  },
  {
   "cell_type": "code",
   "execution_count": 32,
   "metadata": {},
   "outputs": [
    {
     "data": {
      "text/plain": [
       "(763767, '50.727222', '-1.162537', 'On or near Supermarket')"
      ]
     },
     "execution_count": 32,
     "metadata": {},
     "output_type": "execute_result"
    }
   ],
   "source": [
    "#Unpack location details\n",
    "crimes[0].location.id, crimes[0].location.latitude, crimes[0].location.longitude, crimes[0].location.name\n"
   ]
  },
  {
   "cell_type": "code",
   "execution_count": 33,
   "metadata": {},
   "outputs": [
    {
     "data": {
      "text/plain": [
       "('anti-social-behaviour', 'Anti-social behaviour')"
      ]
     },
     "execution_count": 33,
     "metadata": {},
     "output_type": "execute_result"
    }
   ],
   "source": [
    "#Upack category details\n",
    "crimes[0].category.id, crimes[0].category.name"
   ]
  },
  {
   "cell_type": "code",
   "execution_count": 59,
   "metadata": {},
   "outputs": [],
   "source": [
    "import pandas as pd\n",
    "\n",
    "\n",
    "def getCrimesAsDataFrame(crimes, df=None):\n",
    "    ''' Convert crimes result to dataframe. '''\n",
    "    if df is None:\n",
    "        df=pd.DataFrame(columns = ['cid','type', 'month','name','lid','location','lat','lon'])\n",
    "        #[int, object, object, int, object, float, float]\n",
    "    for c in crimes:\n",
    "        df = df.append({'cid':c.id,'type':c.category.id, 'month':c.month, 'name':c.category.name,\n",
    "                            'lat':c.location.latitude,'lon':c.location.longitude, \n",
    "                        'lid':c.location.id,'location':c.location.name }, ignore_index=True)\n",
    "\n",
    "    return df"
   ]
  },
  {
   "cell_type": "code",
   "execution_count": 60,
   "metadata": {},
   "outputs": [
    {
     "data": {
      "text/html": [
       "<div>\n",
       "<style scoped>\n",
       "    .dataframe tbody tr th:only-of-type {\n",
       "        vertical-align: middle;\n",
       "    }\n",
       "\n",
       "    .dataframe tbody tr th {\n",
       "        vertical-align: top;\n",
       "    }\n",
       "\n",
       "    .dataframe thead th {\n",
       "        text-align: right;\n",
       "    }\n",
       "</style>\n",
       "<table border=\"1\" class=\"dataframe\">\n",
       "  <thead>\n",
       "    <tr style=\"text-align: right;\">\n",
       "      <th></th>\n",
       "      <th>cid</th>\n",
       "      <th>type</th>\n",
       "      <th>month</th>\n",
       "      <th>name</th>\n",
       "      <th>lid</th>\n",
       "      <th>location</th>\n",
       "      <th>lat</th>\n",
       "      <th>lon</th>\n",
       "    </tr>\n",
       "  </thead>\n",
       "  <tbody>\n",
       "    <tr>\n",
       "      <th>0</th>\n",
       "      <td>71249494</td>\n",
       "      <td>anti-social-behaviour</td>\n",
       "      <td>2019-01</td>\n",
       "      <td>Anti-social behaviour</td>\n",
       "      <td>763767</td>\n",
       "      <td>On or near Supermarket</td>\n",
       "      <td>50.727222</td>\n",
       "      <td>-1.162537</td>\n",
       "    </tr>\n",
       "    <tr>\n",
       "      <th>1</th>\n",
       "      <td>71249516</td>\n",
       "      <td>anti-social-behaviour</td>\n",
       "      <td>2019-01</td>\n",
       "      <td>Anti-social behaviour</td>\n",
       "      <td>763719</td>\n",
       "      <td>On or near West Place</td>\n",
       "      <td>50.726292</td>\n",
       "      <td>-1.167016</td>\n",
       "    </tr>\n",
       "    <tr>\n",
       "      <th>2</th>\n",
       "      <td>71249593</td>\n",
       "      <td>anti-social-behaviour</td>\n",
       "      <td>2019-01</td>\n",
       "      <td>Anti-social behaviour</td>\n",
       "      <td>763566</td>\n",
       "      <td>On or near Sutton Close</td>\n",
       "      <td>50.718427</td>\n",
       "      <td>-1.152494</td>\n",
       "    </tr>\n",
       "    <tr>\n",
       "      <th>3</th>\n",
       "      <td>71249583</td>\n",
       "      <td>anti-social-behaviour</td>\n",
       "      <td>2019-01</td>\n",
       "      <td>Anti-social behaviour</td>\n",
       "      <td>763545</td>\n",
       "      <td>On or near Slade Road</td>\n",
       "      <td>50.720485</td>\n",
       "      <td>-1.156055</td>\n",
       "    </tr>\n",
       "    <tr>\n",
       "      <th>4</th>\n",
       "      <td>71249466</td>\n",
       "      <td>anti-social-behaviour</td>\n",
       "      <td>2019-01</td>\n",
       "      <td>Anti-social behaviour</td>\n",
       "      <td>763785</td>\n",
       "      <td>On or near George Street</td>\n",
       "      <td>50.728725</td>\n",
       "      <td>-1.161490</td>\n",
       "    </tr>\n",
       "  </tbody>\n",
       "</table>\n",
       "</div>"
      ],
      "text/plain": [
       "        cid                   type    month                   name     lid  \\\n",
       "0  71249494  anti-social-behaviour  2019-01  Anti-social behaviour  763767   \n",
       "1  71249516  anti-social-behaviour  2019-01  Anti-social behaviour  763719   \n",
       "2  71249593  anti-social-behaviour  2019-01  Anti-social behaviour  763566   \n",
       "3  71249583  anti-social-behaviour  2019-01  Anti-social behaviour  763545   \n",
       "4  71249466  anti-social-behaviour  2019-01  Anti-social behaviour  763785   \n",
       "\n",
       "                   location        lat        lon  \n",
       "0    On or near Supermarket  50.727222  -1.162537  \n",
       "1     On or near West Place  50.726292  -1.167016  \n",
       "2   On or near Sutton Close  50.718427  -1.152494  \n",
       "3     On or near Slade Road  50.720485  -1.156055  \n",
       "4  On or near George Street  50.728725  -1.161490  "
      ]
     },
     "execution_count": 60,
     "metadata": {},
     "output_type": "execute_result"
    }
   ],
   "source": [
    "df = getCrimesAsDataFrame(crimes)\n",
    "df.head()"
   ]
  },
  {
   "cell_type": "markdown",
   "metadata": {},
   "source": [
    "## Plot Crimes on Map\n",
    "\n",
    "As in ??, we can plot the crime markers on a map:"
   ]
  },
  {
   "cell_type": "code",
   "execution_count": null,
   "metadata": {},
   "outputs": [],
   "source": []
  },
  {
   "cell_type": "markdown",
   "metadata": {},
   "source": [
    "Or we can create a heatmap:"
   ]
  },
  {
   "cell_type": "code",
   "execution_count": null,
   "metadata": {},
   "outputs": [],
   "source": []
  },
  {
   "cell_type": "code",
   "execution_count": null,
   "metadata": {},
   "outputs": [],
   "source": []
  },
  {
   "cell_type": "markdown",
   "metadata": {},
   "source": [
    "Or we can create a heatmap that is animated over several time periods.\n",
    "\n",
    "To do this, we first need to obtain crime data recorded over several different months:"
   ]
  },
  {
   "cell_type": "code",
   "execution_count": null,
   "metadata": {},
   "outputs": [],
   "source": []
  }
 ],
 "metadata": {
  "kernelspec": {
   "display_name": "Python 3",
   "language": "python",
   "name": "python3"
  },
  "language_info": {
   "codemirror_mode": {
    "name": "ipython",
    "version": 3
   },
   "file_extension": ".py",
   "mimetype": "text/x-python",
   "name": "python",
   "nbconvert_exporter": "python",
   "pygments_lexer": "ipython3",
   "version": "3.6.7"
  }
 },
 "nbformat": 4,
 "nbformat_minor": 2
}
