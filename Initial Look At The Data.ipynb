{
 "cells": [
  {
   "cell_type": "markdown",
   "metadata": {},
   "source": [
    "# Initial Look At the Data\n",
    "\n",
    "We can download data for a particular police authroity from the `data.police.uk` website.\n",
    "\n",
    "https://data.police.uk/data/\n",
    "\n",
    "For example, download the data for the Nottinghamshire area for the December 2018 to December 2018 period (i.e. just for December 2018).\n",
    "\n",
    "From the [homepage](../) of this notebook environment, click on the `Upload` button and upload the zip file you have just downloaded from the data.police.uk website."
   ]
  },
  {
   "cell_type": "code",
   "execution_count": 1,
   "metadata": {},
   "outputs": [
    {
     "name": "stdout",
     "output_type": "stream",
     "text": [
      "ad3a89c1b0c17604f60d6ac8b5cf86cf6cce0540.zip  LICENSE\t Untitled.ipynb\r\n",
      "binder\t\t\t\t\t      README.md\r\n"
     ]
    }
   ],
   "source": [
    "#List the files in the current directory - you should see the zip file you uploaded\n",
    "!ls"
   ]
  },
  {
   "cell_type": "code",
   "execution_count": 2,
   "metadata": {},
   "outputs": [
    {
     "name": "stdout",
     "output_type": "stream",
     "text": [
      "Archive:  ad3a89c1b0c17604f60d6ac8b5cf86cf6cce0540.zip\n",
      "  inflating: 2018-12/2018-12-nottinghamshire-street.csv  \n"
     ]
    }
   ],
   "source": [
    "#Unzip the zip file\n",
    "#It should unzip a CSV file into a newly created folder\n",
    "!unzip ad3a89c1b0c17604f60d6ac8b5cf86cf6cce0540.zip"
   ]
  },
  {
   "cell_type": "code",
   "execution_count": 3,
   "metadata": {},
   "outputs": [
    {
     "name": "stdout",
     "output_type": "stream",
     "text": [
      "2018-12\t\t\t\t\t      binder   README.md\r\n",
      "ad3a89c1b0c17604f60d6ac8b5cf86cf6cce0540.zip  LICENSE  Untitled.ipynb\r\n"
     ]
    }
   ],
   "source": [
    "#Look to check the folder is there...\n",
    "!ls"
   ]
  },
  {
   "cell_type": "code",
   "execution_count": 4,
   "metadata": {},
   "outputs": [
    {
     "name": "stdout",
     "output_type": "stream",
     "text": [
      "2018-12-nottinghamshire-street.csv\r\n"
     ]
    }
   ],
   "source": [
    "#Look inside the folder\n",
    "!ls 2018-12"
   ]
  },
  {
   "cell_type": "markdown",
   "metadata": {},
   "source": [
    "## Preview the Data\n",
    "\n",
    "We can load the data into a dataframe and preview what's there:"
   ]
  },
  {
   "cell_type": "code",
   "execution_count": 5,
   "metadata": {},
   "outputs": [
    {
     "data": {
      "text/html": [
       "<div>\n",
       "<style scoped>\n",
       "    .dataframe tbody tr th:only-of-type {\n",
       "        vertical-align: middle;\n",
       "    }\n",
       "\n",
       "    .dataframe tbody tr th {\n",
       "        vertical-align: top;\n",
       "    }\n",
       "\n",
       "    .dataframe thead th {\n",
       "        text-align: right;\n",
       "    }\n",
       "</style>\n",
       "<table border=\"1\" class=\"dataframe\">\n",
       "  <thead>\n",
       "    <tr style=\"text-align: right;\">\n",
       "      <th></th>\n",
       "      <th>Crime ID</th>\n",
       "      <th>Month</th>\n",
       "      <th>Reported by</th>\n",
       "      <th>Falls within</th>\n",
       "      <th>Longitude</th>\n",
       "      <th>Latitude</th>\n",
       "      <th>Location</th>\n",
       "      <th>LSOA code</th>\n",
       "      <th>LSOA name</th>\n",
       "      <th>Crime type</th>\n",
       "      <th>Last outcome category</th>\n",
       "      <th>Context</th>\n",
       "    </tr>\n",
       "  </thead>\n",
       "  <tbody>\n",
       "    <tr>\n",
       "      <th>0</th>\n",
       "      <td>1d1ff84e849e658f91f33ee70151dcb99ecdb8cc6c210d...</td>\n",
       "      <td>2018-12</td>\n",
       "      <td>Nottinghamshire Police</td>\n",
       "      <td>Nottinghamshire Police</td>\n",
       "      <td>-1.426980</td>\n",
       "      <td>53.005407</td>\n",
       "      <td>On or near The Walk</td>\n",
       "      <td>E01019446</td>\n",
       "      <td>Amber Valley 015A</td>\n",
       "      <td>Violence and sexual offences</td>\n",
       "      <td>Under investigation</td>\n",
       "      <td>NaN</td>\n",
       "    </tr>\n",
       "    <tr>\n",
       "      <th>1</th>\n",
       "      <td>NaN</td>\n",
       "      <td>2018-12</td>\n",
       "      <td>Nottinghamshire Police</td>\n",
       "      <td>Nottinghamshire Police</td>\n",
       "      <td>-1.251694</td>\n",
       "      <td>53.141619</td>\n",
       "      <td>On or near Hardwick Close</td>\n",
       "      <td>E01027979</td>\n",
       "      <td>Ashfield 001A</td>\n",
       "      <td>Anti-social behaviour</td>\n",
       "      <td>NaN</td>\n",
       "      <td>NaN</td>\n",
       "    </tr>\n",
       "    <tr>\n",
       "      <th>2</th>\n",
       "      <td>d6dc982cf42d35157092da89eddd50bb11f09e8266962c...</td>\n",
       "      <td>2018-12</td>\n",
       "      <td>Nottinghamshire Police</td>\n",
       "      <td>Nottinghamshire Police</td>\n",
       "      <td>-1.269785</td>\n",
       "      <td>53.143259</td>\n",
       "      <td>On or near Legion Drive</td>\n",
       "      <td>E01027979</td>\n",
       "      <td>Ashfield 001A</td>\n",
       "      <td>Criminal damage and arson</td>\n",
       "      <td>Investigation complete; no suspect identified</td>\n",
       "      <td>NaN</td>\n",
       "    </tr>\n",
       "    <tr>\n",
       "      <th>3</th>\n",
       "      <td>8340cd179ea3825d0195ac406be3706402bd4c13ca7a7e...</td>\n",
       "      <td>2018-12</td>\n",
       "      <td>Nottinghamshire Police</td>\n",
       "      <td>Nottinghamshire Police</td>\n",
       "      <td>-1.252344</td>\n",
       "      <td>53.142917</td>\n",
       "      <td>On or near Moorland Close</td>\n",
       "      <td>E01027979</td>\n",
       "      <td>Ashfield 001A</td>\n",
       "      <td>Criminal damage and arson</td>\n",
       "      <td>Under investigation</td>\n",
       "      <td>NaN</td>\n",
       "    </tr>\n",
       "    <tr>\n",
       "      <th>4</th>\n",
       "      <td>540890893d93e852f10805b6a9229b1ac8d13db5f32763...</td>\n",
       "      <td>2018-12</td>\n",
       "      <td>Nottinghamshire Police</td>\n",
       "      <td>Nottinghamshire Police</td>\n",
       "      <td>-1.253677</td>\n",
       "      <td>53.141056</td>\n",
       "      <td>On or near Petrol Station</td>\n",
       "      <td>E01027979</td>\n",
       "      <td>Ashfield 001A</td>\n",
       "      <td>Other theft</td>\n",
       "      <td>Investigation complete; no suspect identified</td>\n",
       "      <td>NaN</td>\n",
       "    </tr>\n",
       "  </tbody>\n",
       "</table>\n",
       "</div>"
      ],
      "text/plain": [
       "                                            Crime ID    Month  \\\n",
       "0  1d1ff84e849e658f91f33ee70151dcb99ecdb8cc6c210d...  2018-12   \n",
       "1                                                NaN  2018-12   \n",
       "2  d6dc982cf42d35157092da89eddd50bb11f09e8266962c...  2018-12   \n",
       "3  8340cd179ea3825d0195ac406be3706402bd4c13ca7a7e...  2018-12   \n",
       "4  540890893d93e852f10805b6a9229b1ac8d13db5f32763...  2018-12   \n",
       "\n",
       "              Reported by            Falls within  Longitude   Latitude  \\\n",
       "0  Nottinghamshire Police  Nottinghamshire Police  -1.426980  53.005407   \n",
       "1  Nottinghamshire Police  Nottinghamshire Police  -1.251694  53.141619   \n",
       "2  Nottinghamshire Police  Nottinghamshire Police  -1.269785  53.143259   \n",
       "3  Nottinghamshire Police  Nottinghamshire Police  -1.252344  53.142917   \n",
       "4  Nottinghamshire Police  Nottinghamshire Police  -1.253677  53.141056   \n",
       "\n",
       "                    Location  LSOA code          LSOA name  \\\n",
       "0        On or near The Walk  E01019446  Amber Valley 015A   \n",
       "1  On or near Hardwick Close  E01027979      Ashfield 001A   \n",
       "2    On or near Legion Drive  E01027979      Ashfield 001A   \n",
       "3  On or near Moorland Close  E01027979      Ashfield 001A   \n",
       "4  On or near Petrol Station  E01027979      Ashfield 001A   \n",
       "\n",
       "                     Crime type  \\\n",
       "0  Violence and sexual offences   \n",
       "1         Anti-social behaviour   \n",
       "2     Criminal damage and arson   \n",
       "3     Criminal damage and arson   \n",
       "4                   Other theft   \n",
       "\n",
       "                           Last outcome category  Context  \n",
       "0                            Under investigation      NaN  \n",
       "1                                            NaN      NaN  \n",
       "2  Investigation complete; no suspect identified      NaN  \n",
       "3                            Under investigation      NaN  \n",
       "4  Investigation complete; no suspect identified      NaN  "
      ]
     },
     "execution_count": 5,
     "metadata": {},
     "output_type": "execute_result"
    }
   ],
   "source": [
    "#pandas is a Python package for working with tabular data\n",
    "#It has nothing to do with police cars!\n",
    "import pandas as pd\n",
    "\n",
    "#Read the data file in to a dataframe called: df\n",
    "df = pd.read_csv('2018-12/2018-12-nottinghamshire-street.csv')\n",
    "\n",
    "#The .head() method shows the first few rows of a dataframe\n",
    "# .head(20) will preview the first 20 rows etc\n",
    "df.head()"
   ]
  },
  {
   "cell_type": "markdown",
   "metadata": {},
   "source": [
    "We notice that there are *latitude* and *longitude* columns in there.\n",
    "\n",
    "We can use those columns to create \"geographical things\" that we can work with as geographical points."
   ]
  },
  {
   "cell_type": "code",
   "execution_count": 18,
   "metadata": {},
   "outputs": [],
   "source": [
    "#It's good to crib from documentation\n",
    "#https://geopandas.readthedocs.io/en/latest/gallery/create_geopandas_from_pandas.html\n",
    "\n",
    "#This just makes sure when we create any plots we can see them inline in the notebook\n",
    "%matplotlib inline\n",
    "\n",
    "#egopandas provides us with a dataframe type that can also cope with geometrical datatypes\n",
    "import geopandas\n",
    "#Shapely is another Python package that helps us work with geometrical things\n",
    "#A Point is exactly that...\n",
    "from shapely.geometry import Point\n",
    "\n",
    "#To create a Point, we need Longitude,Latidude pairs\n",
    "#Create a temporary column that joins data from the longitude and latitude columns as a pair of values\n",
    "df['Coordinates'] = list(zip(df['Longitude'], df['Latitude']))\n",
    "#Then cast the things in that column to a geometical Point datatype\n",
    "df['Coordinates'] = df['Coordinates'].apply(Point)"
   ]
  },
  {
   "cell_type": "markdown",
   "metadata": {},
   "source": [
    "Now we can look at our geopandas dataframe:"
   ]
  },
  {
   "cell_type": "code",
   "execution_count": 21,
   "metadata": {},
   "outputs": [
    {
     "data": {
      "text/html": [
       "<div>\n",
       "<style scoped>\n",
       "    .dataframe tbody tr th:only-of-type {\n",
       "        vertical-align: middle;\n",
       "    }\n",
       "\n",
       "    .dataframe tbody tr th {\n",
       "        vertical-align: top;\n",
       "    }\n",
       "\n",
       "    .dataframe thead th {\n",
       "        text-align: right;\n",
       "    }\n",
       "</style>\n",
       "<table border=\"1\" class=\"dataframe\">\n",
       "  <thead>\n",
       "    <tr style=\"text-align: right;\">\n",
       "      <th></th>\n",
       "      <th>Crime ID</th>\n",
       "      <th>Month</th>\n",
       "      <th>Reported by</th>\n",
       "      <th>Falls within</th>\n",
       "      <th>Location</th>\n",
       "      <th>LSOA code</th>\n",
       "      <th>LSOA name</th>\n",
       "      <th>Crime type</th>\n",
       "      <th>Last outcome category</th>\n",
       "      <th>Context</th>\n",
       "      <th>Coordinates</th>\n",
       "    </tr>\n",
       "  </thead>\n",
       "  <tbody>\n",
       "    <tr>\n",
       "      <th>0</th>\n",
       "      <td>1d1ff84e849e658f91f33ee70151dcb99ecdb8cc6c210d...</td>\n",
       "      <td>2018-12</td>\n",
       "      <td>Nottinghamshire Police</td>\n",
       "      <td>Nottinghamshire Police</td>\n",
       "      <td>On or near The Walk</td>\n",
       "      <td>E01019446</td>\n",
       "      <td>Amber Valley 015A</td>\n",
       "      <td>Violence and sexual offences</td>\n",
       "      <td>Under investigation</td>\n",
       "      <td>NaN</td>\n",
       "      <td>POINT (-1.42698 53.005407)</td>\n",
       "    </tr>\n",
       "    <tr>\n",
       "      <th>1</th>\n",
       "      <td>NaN</td>\n",
       "      <td>2018-12</td>\n",
       "      <td>Nottinghamshire Police</td>\n",
       "      <td>Nottinghamshire Police</td>\n",
       "      <td>On or near Hardwick Close</td>\n",
       "      <td>E01027979</td>\n",
       "      <td>Ashfield 001A</td>\n",
       "      <td>Anti-social behaviour</td>\n",
       "      <td>NaN</td>\n",
       "      <td>NaN</td>\n",
       "      <td>POINT (-1.251694 53.14161899999999)</td>\n",
       "    </tr>\n",
       "    <tr>\n",
       "      <th>2</th>\n",
       "      <td>d6dc982cf42d35157092da89eddd50bb11f09e8266962c...</td>\n",
       "      <td>2018-12</td>\n",
       "      <td>Nottinghamshire Police</td>\n",
       "      <td>Nottinghamshire Police</td>\n",
       "      <td>On or near Legion Drive</td>\n",
       "      <td>E01027979</td>\n",
       "      <td>Ashfield 001A</td>\n",
       "      <td>Criminal damage and arson</td>\n",
       "      <td>Investigation complete; no suspect identified</td>\n",
       "      <td>NaN</td>\n",
       "      <td>POINT (-1.269785 53.14325899999999)</td>\n",
       "    </tr>\n",
       "    <tr>\n",
       "      <th>3</th>\n",
       "      <td>8340cd179ea3825d0195ac406be3706402bd4c13ca7a7e...</td>\n",
       "      <td>2018-12</td>\n",
       "      <td>Nottinghamshire Police</td>\n",
       "      <td>Nottinghamshire Police</td>\n",
       "      <td>On or near Moorland Close</td>\n",
       "      <td>E01027979</td>\n",
       "      <td>Ashfield 001A</td>\n",
       "      <td>Criminal damage and arson</td>\n",
       "      <td>Under investigation</td>\n",
       "      <td>NaN</td>\n",
       "      <td>POINT (-1.252344 53.142917)</td>\n",
       "    </tr>\n",
       "    <tr>\n",
       "      <th>4</th>\n",
       "      <td>540890893d93e852f10805b6a9229b1ac8d13db5f32763...</td>\n",
       "      <td>2018-12</td>\n",
       "      <td>Nottinghamshire Police</td>\n",
       "      <td>Nottinghamshire Police</td>\n",
       "      <td>On or near Petrol Station</td>\n",
       "      <td>E01027979</td>\n",
       "      <td>Ashfield 001A</td>\n",
       "      <td>Other theft</td>\n",
       "      <td>Investigation complete; no suspect identified</td>\n",
       "      <td>NaN</td>\n",
       "      <td>POINT (-1.253677 53.14105600000001)</td>\n",
       "    </tr>\n",
       "  </tbody>\n",
       "</table>\n",
       "</div>"
      ],
      "text/plain": [
       "                                            Crime ID    Month  \\\n",
       "0  1d1ff84e849e658f91f33ee70151dcb99ecdb8cc6c210d...  2018-12   \n",
       "1                                                NaN  2018-12   \n",
       "2  d6dc982cf42d35157092da89eddd50bb11f09e8266962c...  2018-12   \n",
       "3  8340cd179ea3825d0195ac406be3706402bd4c13ca7a7e...  2018-12   \n",
       "4  540890893d93e852f10805b6a9229b1ac8d13db5f32763...  2018-12   \n",
       "\n",
       "              Reported by            Falls within                   Location  \\\n",
       "0  Nottinghamshire Police  Nottinghamshire Police        On or near The Walk   \n",
       "1  Nottinghamshire Police  Nottinghamshire Police  On or near Hardwick Close   \n",
       "2  Nottinghamshire Police  Nottinghamshire Police    On or near Legion Drive   \n",
       "3  Nottinghamshire Police  Nottinghamshire Police  On or near Moorland Close   \n",
       "4  Nottinghamshire Police  Nottinghamshire Police  On or near Petrol Station   \n",
       "\n",
       "   LSOA code          LSOA name                    Crime type  \\\n",
       "0  E01019446  Amber Valley 015A  Violence and sexual offences   \n",
       "1  E01027979      Ashfield 001A         Anti-social behaviour   \n",
       "2  E01027979      Ashfield 001A     Criminal damage and arson   \n",
       "3  E01027979      Ashfield 001A     Criminal damage and arson   \n",
       "4  E01027979      Ashfield 001A                   Other theft   \n",
       "\n",
       "                           Last outcome category  Context  \\\n",
       "0                            Under investigation      NaN   \n",
       "1                                            NaN      NaN   \n",
       "2  Investigation complete; no suspect identified      NaN   \n",
       "3                            Under investigation      NaN   \n",
       "4  Investigation complete; no suspect identified      NaN   \n",
       "\n",
       "                           Coordinates  \n",
       "0           POINT (-1.42698 53.005407)  \n",
       "1  POINT (-1.251694 53.14161899999999)  \n",
       "2  POINT (-1.269785 53.14325899999999)  \n",
       "3          POINT (-1.252344 53.142917)  \n",
       "4  POINT (-1.253677 53.14105600000001)  "
      ]
     },
     "execution_count": 21,
     "metadata": {},
     "output_type": "execute_result"
    }
   ],
   "source": [
    "#A geopandas dataframe expects one column to relate to geometrical things: tell it which column\n",
    "gdf = geopandas.GeoDataFrame(df, geometry='Coordinates')\n",
    "#We can get rid of the latitude and longitude columns\n",
    "gdf.drop(columns=['Longitude', 'Latitude'], inplace=True)\n",
    "\n",
    "#Preview the first few rows of the geodataframe\n",
    "gdf.head()"
   ]
  },
  {
   "cell_type": "code",
   "execution_count": 23,
   "metadata": {},
   "outputs": [
    {
     "data": {
      "image/png": "[encoded data removed]",
      "text/plain": [
       "<Figure size 432x288 with 1 Axes>"
      ]
     },
     "metadata": {
      "needs_background": "light"
     },
     "output_type": "display_data"
    }
   ],
   "source": [
    "#We can crudely plot the points\n",
    "gdf.plot();"
   ]
  },
  {
   "cell_type": "markdown",
   "metadata": {},
   "source": [
    "Hmmm... it looks like there may be some outliers... We'll worry about those later...."
   ]
  },
  {
   "cell_type": "markdown",
   "metadata": {},
   "source": [
    "## Plotting Boundaries\n",
    "\n",
    "If we poke around the police data website, we also see an area that has boundaries...\n",
    "\n",
    "https://data.police.uk/data/boundaries/\n",
    "\n",
    "Let's have a rummage around inside them..."
   ]
  },
  {
   "cell_type": "markdown",
   "metadata": {},
   "source": [
    "### Force Boundaries"
   ]
  },
  {
   "cell_type": "code",
   "execution_count": null,
   "metadata": {},
   "outputs": [],
   "source": [
    "!wget https://data.police.uk/data/boundaries/force_kmls.zip"
   ]
  },
  {
   "cell_type": "code",
   "execution_count": null,
   "metadata": {},
   "outputs": [],
   "source": []
  }
 ],
 "metadata": {
  "kernelspec": {
   "display_name": "Python 3",
   "language": "python",
   "name": "python3"
  },
  "language_info": {
   "codemirror_mode": {
    "name": "ipython",
    "version": 3
   },
   "file_extension": ".py",
   "mimetype": "text/x-python",
   "name": "python",
   "nbconvert_exporter": "python",
   "pygments_lexer": "ipython3",
   "version": "3.6.7"
  }
 },
 "nbformat": 4,
 "nbformat_minor": 2
}
